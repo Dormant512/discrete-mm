{
 "cells": [
  {
   "cell_type": "markdown",
   "id": "5b9a747c",
   "metadata": {},
   "source": [
    "# Homework 3 and 4\n",
    "Student: Grigoryev Mikhail\n",
    "\n",
    "Group: J4133c"
   ]
  },
  {
   "cell_type": "markdown",
   "id": "5bfa2eb8",
   "metadata": {
    "heading_collapsed": true
   },
   "source": [
    "# Importing Libraries"
   ]
  },
  {
   "cell_type": "code",
   "execution_count": 1,
   "id": "1e23b0cf",
   "metadata": {
    "ExecuteTime": {
     "end_time": "2023-05-25T19:27:01.698845Z",
     "start_time": "2023-05-25T19:26:36.185984Z"
    },
    "hidden": true
   },
   "outputs": [],
   "source": [
    "import random\n",
    "import numpy as np\n",
    "import matplotlib.pyplot as plt\n",
    "import matplotlib\n",
    "import pandas as pd\n",
    "from tqdm.notebook import tqdm\n",
    "import json\n",
    "import shutil\n",
    "import os\n",
    "from scipy.stats import beta\n",
    "from datetime import timedelta\n",
    "from IPython.display import clear_output"
   ]
  },
  {
   "cell_type": "code",
   "execution_count": 2,
   "id": "c2330aa1",
   "metadata": {
    "ExecuteTime": {
     "end_time": "2023-05-25T19:34:29.295553Z",
     "start_time": "2023-05-25T19:34:29.279749Z"
    },
    "hidden": true
   },
   "outputs": [],
   "source": [
    "import warnings\n",
    "warnings.filterwarnings(\"ignore\")"
   ]
  },
  {
   "cell_type": "markdown",
   "id": "9417dcde",
   "metadata": {
    "heading_collapsed": true
   },
   "source": [
    "# Functions to model time distributions"
   ]
  },
  {
   "cell_type": "code",
   "execution_count": 3,
   "id": "8a106248",
   "metadata": {
    "ExecuteTime": {
     "end_time": "2023-05-21T10:48:35.661225Z",
     "start_time": "2023-05-21T10:48:35.651226Z"
    },
    "hidden": true
   },
   "outputs": [],
   "source": [
    "# time string to minutes\n",
    "def deconv(time_str):\n",
    "    h, m, s = time_str.split(':')\n",
    "    return int(h) * 60 + int(m) + int(s) / 60"
   ]
  },
  {
   "cell_type": "code",
   "execution_count": 4,
   "id": "1d396d63",
   "metadata": {
    "ExecuteTime": {
     "end_time": "2023-05-21T10:48:35.677229Z",
     "start_time": "2023-05-21T10:48:35.667236Z"
    },
    "hidden": true
   },
   "outputs": [],
   "source": [
    "# seconds timestamp to string\n",
    "def conv(t):\n",
    "    t = t*60\n",
    "    hours = int(t // 3600)\n",
    "    t = t - hours*3600\n",
    "    minutes = int(t // 60)\n",
    "    seconds = int(t - minutes*60)\n",
    "    hours = str(hours)\n",
    "    minutes = str(minutes)\n",
    "    seconds = str(seconds)\n",
    "    if len(hours) == 1: hours = '0' + hours\n",
    "    if len(minutes) == 1: minutes = '0' + minutes\n",
    "    if len(seconds) == 1: seconds = '0' + seconds\n",
    "    return f'{hours}:{minutes}:{seconds}'"
   ]
  },
  {
   "cell_type": "code",
   "execution_count": 5,
   "id": "30c76f1f",
   "metadata": {
    "ExecuteTime": {
     "end_time": "2023-05-21T10:48:35.709221Z",
     "start_time": "2023-05-21T10:48:35.683231Z"
    },
    "hidden": true
   },
   "outputs": [],
   "source": [
    "# TODO: research\n",
    "def TtoDelta(p, P, I):\n",
    "    try:\n",
    "        i1 = list(np.where(np.array(P) >= p, 1, 0)).index(1)\n",
    "        i0 = i1 - 1\n",
    "        return I[i0] + (I[i1] - I[i0])*(p - P[i0])/(P[i1] - P[i0])\n",
    "    except:\n",
    "        where = np.where(np.tile(P, (len(p), 1)) >= np.tile(p, (len(P), 1)).T, 1 , 0)\n",
    "        i1 = np.array([list(b).index(1) for b in list(where)])\n",
    "        i0 = i1 - 1\n",
    "        I2 = np.array(I)\n",
    "        P2 = np.array(P)\n",
    "        return I2[i0] + (I2[i1] - I2[i0])*(p - P2[i0])/(P2[i1] - P2[i0])"
   ]
  },
  {
   "cell_type": "code",
   "execution_count": 6,
   "id": "67bc07fe",
   "metadata": {
    "ExecuteTime": {
     "end_time": "2023-05-21T10:48:35.724224Z",
     "start_time": "2023-05-21T10:48:35.713226Z"
    },
    "hidden": true
   },
   "outputs": [],
   "source": [
    "# beta distribution\n",
    "def beta_distr(t, P, I, alim=(2, 5), blim=(0.5, 5), tmin=0, tmax=12):\n",
    "    p = (t - tmin)/(tmax - tmin)\n",
    "    da = TtoDelta(p, P, I)\n",
    "    a = alim[0] + (alim[1] - alim[0]) * da\n",
    "    b = blim[1] - (blim[1] - blim[0]) * da\n",
    "    return a, b"
   ]
  },
  {
   "cell_type": "code",
   "execution_count": 7,
   "id": "c23fbb84",
   "metadata": {
    "ExecuteTime": {
     "end_time": "2023-05-21T10:48:35.755224Z",
     "start_time": "2023-05-21T10:48:35.729230Z"
    },
    "hidden": true
   },
   "outputs": [],
   "source": [
    "# plotter function for distribution of random vars\n",
    "def show_distributions(timerange, tmin, tmax, P, I, alim, blim, xlabel, lw=2):\n",
    "    N = 10\n",
    "    fig, ax = plt.subplots(len(P)-1, figsize=(12, 4*(len(P)-1)))\n",
    "    for i in range(len(P)-1):\n",
    "        tmin_ = tmin+(tmax-tmin)*P[i]\n",
    "        tmax_ = tmin+(tmax-tmin)*P[i+1]\n",
    "        dt = (tmax_ - tmin_)/(N - 1)\n",
    "        T = np.arange(tmin_, tmax_+dt, dt)\n",
    "        colors = matplotlib.colormaps['jet'](np.linspace(0, 1, len(T)))\n",
    "        try:\n",
    "            axis = ax[i]\n",
    "        except:\n",
    "            axis = ax\n",
    "        for j in range(len(T)):\n",
    "            a, b = beta_distr(round(T[j],3), P, I, alim, blim, tmin=tmin, tmax=tmax)\n",
    "            x = np.linspace(beta.ppf(0.00, a, b), beta.ppf(1.00, a, b), 100)\n",
    "            y = beta.pdf(x, a, b)\n",
    "            x = timerange[0] + (timerange[1] - timerange[0])*x\n",
    "            axis.plot(x, y, lw=lw, color=colors[j], alpha=0.6, \n",
    "                       label=f't = {timedelta(hours=T[j])}')\n",
    "            axis.legend()\n",
    "            axis.set_title(f\"{timedelta(hours=tmin_)} - {timedelta(hours=tmax_)}\")\n",
    "    plt.xlabel(xlabel)\n",
    "    plt.show()"
   ]
  },
  {
   "cell_type": "markdown",
   "id": "9902d3c7",
   "metadata": {
    "heading_collapsed": true
   },
   "source": [
    "# Distribution of time interarrival time"
   ]
  },
  {
   "cell_type": "code",
   "execution_count": 8,
   "id": "4149d237",
   "metadata": {
    "ExecuteTime": {
     "end_time": "2023-05-21T10:48:39.137191Z",
     "start_time": "2023-05-21T10:48:35.758225Z"
    },
    "hidden": true
   },
   "outputs": [],
   "source": [
    "START_TIME = 7*60 # 7 hours\n",
    "STOP_TIME = 19*60 # 19 hours\n",
    "P1 = [0, 0.15, 0.6, 0.9, 0.95, 1]\n",
    "I1 = [0.6, 0.08, 0.2, 0.05, 0.8, 1]\n",
    "alim1=(2, 15)\n",
    "blim1=(1, 15)\n",
    "SAMPLER_PARAMS2 = {'P': P1, \n",
    "                   'I': I1, \n",
    "                   'alim':alim1, 'blim': blim1}\n",
    "TIME_BETWEEN_ARRIVALS_RANGE = (1/60, 2) # 1 seconds <= t <= 2 minutes\n",
    "# show_distributions(TIME_BETWEEN_ARRIVALS_RANGE, START_TIME/60, STOP_TIME/60, P1, I1, alim1, blim1, lw=2, \n",
    "#                    xlabel='Time between Arrivals, minutes')"
   ]
  },
  {
   "cell_type": "markdown",
   "id": "7792a022",
   "metadata": {
    "heading_collapsed": true
   },
   "source": [
    "# Distribution of service time"
   ]
  },
  {
   "cell_type": "code",
   "execution_count": 9,
   "id": "bf163e92",
   "metadata": {
    "ExecuteTime": {
     "end_time": "2023-05-21T10:48:39.846199Z",
     "start_time": "2023-05-21T10:48:39.146192Z"
    },
    "hidden": true
   },
   "outputs": [],
   "source": [
    "P2 = [0, 1]\n",
    "I2 = [0.5, 1]\n",
    "alim2=(1.5, 3)\n",
    "blim2=(2, 3)\n",
    "SAMPLER_PARAMS1 = {'P': P2, 'I': I2, 'alim': alim2, 'blim': blim2}\n",
    "SERVICE_TIME_RANGE = (0.5, 2.5) # 30 seconds <= t <= 2.5 minutes\n",
    "# show_distributions(SERVICE_TIME_RANGE, START_TIME/60, STOP_TIME/60, P2, I2, alim2, blim2, lw=2, \n",
    "#                    xlabel='Service Time, minutes')"
   ]
  },
  {
   "cell_type": "markdown",
   "id": "15127b0d",
   "metadata": {
    "heading_collapsed": true
   },
   "source": [
    "# Customer class"
   ]
  },
  {
   "cell_type": "code",
   "execution_count": 10,
   "id": "4e91e345",
   "metadata": {
    "ExecuteTime": {
     "end_time": "2023-05-21T10:48:39.862193Z",
     "start_time": "2023-05-21T10:48:39.850198Z"
    },
    "hidden": true
   },
   "outputs": [],
   "source": [
    "class Customer:\n",
    "    def __init__(self):\n",
    "         self.id = -1\n",
    "         self.arrivalTime = -1\n",
    "         self.serviceTime = -1\n",
    "         self.serviceBegins = -1\n",
    "         self.waitingTimeInQueue = 0\n",
    "         self.serviceEnds = -1\n",
    "         self.timeInSystem = -1\n",
    "         self.is_service = False\n",
    "    \n",
    "    def update(self, global_time):\n",
    "        if not self.is_service:\n",
    "            self.waitingTimeInQueue = global_time - self.arrivalTime\n",
    "            self.timeInSystem = self.waitingTimeInQueue\n",
    "        else:\n",
    "            self.timeInSystem = self.waitingTimeInQueue + (global_time - self.serviceBegins)\n",
    "        \n",
    "    def info(self):\n",
    "        print('='*40)\n",
    "        print(f'| ID: {self.id}')\n",
    "        print(f'| arrivalTime: {self.arrivalTime}, serviceBegins: {self.serviceBegins}, serviceEnds: {self.serviceEnds}')\n",
    "        print(f'| waitingTimeInQueue: {self.waitingTimeInQueue}, serviceTime: {self.serviceTime}, timeInSystem: {self.timeInSystem}')"
   ]
  },
  {
   "cell_type": "markdown",
   "id": "63f8b91f",
   "metadata": {
    "ExecuteTime": {
     "end_time": "2023-05-12T14:35:29.157520Z",
     "start_time": "2023-05-12T14:35:29.147492Z"
    },
    "heading_collapsed": true
   },
   "source": [
    "# Agent class"
   ]
  },
  {
   "cell_type": "code",
   "execution_count": 11,
   "id": "580c568b",
   "metadata": {
    "ExecuteTime": {
     "end_time": "2023-05-21T10:48:39.878194Z",
     "start_time": "2023-05-21T10:48:39.866191Z"
    },
    "hidden": true
   },
   "outputs": [],
   "source": [
    "class Agent():\n",
    "    def __init__(self, id_, not_working=False):\n",
    "        self.id = id_\n",
    "        self.is_busy = False\n",
    "        self.customers_queue = []\n",
    "        self.not_working = not_working\n",
    "        \n",
    "    def add_customer_to_queue(self, customer, main_queue_len):      \n",
    "        self.customers_queue.append(customer)      \n",
    "        msgs = [f'| Customer {customer.id} moved to q of Agent {self.id} of len {len(self.customers_queue)}, min q len {main_queue_len}']\n",
    "        return msgs\n",
    "        \n",
    "    def next_service(self, global_time):  \n",
    "        msgs = [f'| Customer{self.customers_queue[0].id} will be served by Agent {self.id} with serv. time {conv(self.customers_queue[0].serviceTime)}']  \n",
    "        self.customers_queue[0].is_service = True\n",
    "        self.customers_queue[0].serviceBegins = global_time\n",
    "        self.customers_queue[0].waitingTimeInQueue = self.customers_queue[0].serviceBegins - self.customers_queue[0].arrivalTime\n",
    "        self.customers_queue[0].serviceEnds = self.customers_queue[0].serviceBegins + self.customers_queue[0].serviceTime\n",
    "        self.is_busy = True\n",
    "        return msgs\n",
    "        \n",
    "    def remove_customer(self):\n",
    "        msgs = [f'| Customer{self.customers_queue[0].id} has been served by Agent {self.id}, their new q len {len(self.customers_queue)-1}']\n",
    "        self.is_busy = False\n",
    "        self.customers_queue.pop(0)\n",
    "        return msgs"
   ]
  },
  {
   "cell_type": "markdown",
   "id": "56dd24de",
   "metadata": {
    "heading_collapsed": true
   },
   "source": [
    "# Base Queue class"
   ]
  },
  {
   "cell_type": "code",
   "execution_count": 12,
   "id": "378fc0e5",
   "metadata": {
    "ExecuteTime": {
     "end_time": "2023-05-21T10:48:39.894193Z",
     "start_time": "2023-05-21T10:48:39.882190Z"
    },
    "hidden": true
   },
   "outputs": [],
   "source": [
    "class BaseQueue:\n",
    "    def __init__(self, attributes):\n",
    "        self.attributes = attributes\n",
    "        self.queue = {}\n",
    "        for attr in attributes:\n",
    "            self.queue[attr] = []\n",
    "    \n",
    "    def __len__(self):\n",
    "        return len(self.queue[self.attributes[0]])\n",
    "    \n",
    "    def __getitem__(self, i):\n",
    "        output = {}\n",
    "        for attr in self.attributes:\n",
    "            output[attr] = self.queue[attr][i]\n",
    "        return output\n",
    "    \n",
    "    def append(self, item):\n",
    "        for attr in self.attributes:\n",
    "            self.queue[attr].append(item[attr])\n",
    "        \n",
    "    def pop(self):\n",
    "        for attr in self.attributes:\n",
    "            self.queue[attr].pop(0)"
   ]
  },
  {
   "cell_type": "markdown",
   "id": "8559d5bd",
   "metadata": {
    "heading_collapsed": true
   },
   "source": [
    "# Events Queue class"
   ]
  },
  {
   "cell_type": "code",
   "execution_count": 13,
   "id": "322a403a",
   "metadata": {
    "ExecuteTime": {
     "end_time": "2023-05-21T10:48:39.925232Z",
     "start_time": "2023-05-21T10:48:39.899202Z"
    },
    "hidden": true
   },
   "outputs": [],
   "source": [
    "class EventsQueue(BaseQueue):\n",
    "    def __init__(self):\n",
    "        attributes = ['ID', 'type', 'time', 'info']\n",
    "        super(EventsQueue, self).__init__(attributes)\n",
    "    \n",
    "    def sort(self):\n",
    "        indexes = sorted(range(len(self.queue['time'])), key=self.queue['time'].__getitem__)\n",
    "        for attr in self.attributes:\n",
    "            self.queue[attr] = [self.queue[attr][k] for k in indexes]\n",
    "            \n",
    "    def append(self, item):\n",
    "        for attr in self.attributes:\n",
    "            self.queue[attr].append(item[attr])\n",
    "        self.sort()\n",
    "        \n",
    "        \n",
    "    def append_list(self, items):\n",
    "        for attr in self.attributes:\n",
    "            self.queue[attr] += [item[attr] for item in items]"
   ]
  },
  {
   "cell_type": "markdown",
   "id": "e82a7c98",
   "metadata": {
    "heading_collapsed": true
   },
   "source": [
    "# Simplified simulation"
   ]
  },
  {
   "cell_type": "code",
   "execution_count": 14,
   "id": "83e6ad8e",
   "metadata": {
    "ExecuteTime": {
     "end_time": "2023-05-21T10:48:40.018414Z",
     "start_time": "2023-05-21T10:48:39.930201Z"
    },
    "hidden": true
   },
   "outputs": [],
   "source": [
    "class SimulationA:\n",
    "    def __init__(self, customer_stats, agents_number_range, time_between_arrivals_range,\n",
    "                 start_time, stop_time, dynamic, distribute, verbose=False, seed=None,\n",
    "                 log_points_dt=None):\n",
    "        self.time_between_arrivals_range = time_between_arrivals_range\n",
    "        self.verbose = verbose\n",
    "        self.CID = 0\n",
    "        self.EID = 0\n",
    "        self.customers_queue = []\n",
    "        self.log3 = {\"T\": [], 'Queue': [], 'n_working': [], 'Agents': []}\n",
    "        self.history = []\n",
    "        self.events_queue = EventsQueue()\n",
    "        self.agents_number_range = agents_number_range      \n",
    "        self.start_time = start_time\n",
    "        self.stop_time = stop_time\n",
    "        self.dynamic = dynamic\n",
    "        self.distribute = distribute\n",
    "        if self.dynamic:\n",
    "            self.agents = [Agent(id_) for id_ in range(self.agents_number_range[1])]\n",
    "            for k in range(self.agents_number_range[1]-self.agents_number_range[0]):\n",
    "                self.agents[self.agents_number_range[0]+k].not_working = True      \n",
    "        else:\n",
    "            self.agents = [Agent(id_) for id_ in range(self.agents_number_range[0])]\n",
    "        self.log3['Agents'] = [[] for k in range(len(self.agents))]\n",
    "        self.set_seed(seed)  \n",
    "        \n",
    "        self.COUNTER = 0\n",
    "        self.CUSTOMER_STATS = customer_stats\n",
    "        self.log_points_dt = log_points_dt\n",
    "        \n",
    "    def set_seed(self, seed):\n",
    "        n = int((self.stop_time - self.start_time)/self.time_between_arrivals_range[0]*3)\n",
    "        self.seeds2 = np.random.RandomState(seed).randint(0, 2**32 - 1, n, dtype='int64')\n",
    "        self.seeds2_counter = 0\n",
    "        \n",
    "    def update_log3(self, global_time):\n",
    "        self.log3['T'].append(global_time)\n",
    "        self.log3['Queue'].append(len(self.customers_queue))\n",
    "        is_working = []\n",
    "        for it, agent in enumerate(self.agents):\n",
    "            self.log3['Agents'][it].append(max(len(agent.customers_queue)-1, 0))\n",
    "            is_working.append(not agent.not_working)\n",
    "        self.log3['n_working'].append(sum(is_working))\n",
    "        \n",
    "    def get_customer_from_queue(self):\n",
    "        customer = self.customers_queue[0]\n",
    "        self.customers_queue.pop(0)\n",
    "        return customer\n",
    "    \n",
    "    def generate_saving_event(self, t):\n",
    "        event = {'ID': None, 'type': 'save_log', 'time': t, 'info': None}    \n",
    "        self.events_queue.append(event)   \n",
    "\n",
    "    def simulate(self):\n",
    "        global_time = self.start_time\n",
    "        self.generate_new_customer(global_time)\n",
    "        ### add evenets to save log a certain times\n",
    "        if self.log_points_dt is not None:\n",
    "            self.generate_saving_event(global_time)\n",
    "        while (global_time < self.stop_time):     \n",
    "            try:\n",
    "                ### get the closest event\n",
    "                event = self.events_queue[0]\n",
    "                self.events_queue.pop()\n",
    "                ### process this event\n",
    "                self.process(event)\n",
    "            except:\n",
    "                pass\n",
    "            ### generate new customer\n",
    "            if event['type'] == 'add_new_customer':\n",
    "                self.generate_new_customer(global_time)\n",
    "            ### generate new saving event\n",
    "            if event['type'] == 'save_log':\n",
    "                self.generate_saving_event(global_time+self.log_points_dt)\n",
    "            ### update times\n",
    "            global_time = self.events_queue[0]['time']\n",
    "            self.update(global_time)\n",
    "            \n",
    "    def process(self, event):\n",
    "        global_time = event['time']\n",
    "        if event['type'] == 'serving':\n",
    "            self.EVENT_serving(event, global_time)\n",
    "        if event['type'] == 'add_new_customer':\n",
    "            self.EVENT_add_new_customer(event, global_time)\n",
    "        if event['type'] == 'save_log':\n",
    "            self.update_log3(global_time)\n",
    "            \n",
    "    \n",
    "    def EVENT_serving(self, event, global_time):\n",
    "        agent_id = event['info']['agent_id']\n",
    "        customer_id = event['info']['customer_id'] \n",
    "        self.history.append((agent_id, self.agents[agent_id].customers_queue[0])) ### <------------------------------------ UPD\n",
    "        _ = self.agents[agent_id].remove_customer() \n",
    "        ### check if it is possible to serve a new customer\n",
    "        if (not self.distribute) and (len(self.customers_queue) >= 1): \n",
    "            customer = self.get_customer_from_queue()\n",
    "            _ = self.agents[agent_id].add_customer_to_queue(customer, len(self.customers_queue))\n",
    "            _ = self.agents[agent_id].next_service(global_time)\n",
    "            end_time = self.agents[agent_id].customers_queue[0].serviceEnds\n",
    "            new_event = {'ID': self.EID, 'type': 'serving', 'time': end_time,\n",
    "                         'info': {'agent_id': agent_id, 'customer_id': customer.id}}\n",
    "            self.EID += 1\n",
    "            self.events_queue.append(new_event)\n",
    "        elif (self.distribute) and (len(self.agents[agent_id].customers_queue) >= 1):\n",
    "            customer_id = self.agents[agent_id].customers_queue[0].id\n",
    "            _ = self.agents[agent_id].next_service(global_time)\n",
    "            end_time = self.agents[agent_id].customers_queue[0].serviceEnds\n",
    "            new_event = {'ID': self.EID, 'type': 'serving', 'time': end_time,\n",
    "                            'info': {'agent_id': agent_id, 'customer_id': customer_id}}\n",
    "            self.EID += 1\n",
    "            self.events_queue.append(new_event)    \n",
    "        if self.dynamic:\n",
    "            not_working_ids = [agent.id for agent in self.agents if agent.not_working]\n",
    "            not_busy_ids = [agent.id for agent in self.agents if (not agent.not_working) and (not agent.is_busy)]\n",
    "            ### check if there are 2 or more not busy agents and all agents are working\n",
    "            if (len(not_working_ids) == 0) and (len(not_busy_ids) >= 2):\n",
    "                agent_id = self.sample2(not_busy_ids) ###############\n",
    "                self.agents[agent_id].not_working = True  \n",
    "                \n",
    "    def EVENT_add_new_customer(self, event, global_time):\n",
    "        ## add new customer to main queue\n",
    "        self.customers_queue.append(event['info']['customer'])\n",
    "        ### Static General Queue\n",
    "        if (not self.distribute) and (not self.dynamic):\n",
    "            ## add serving_start event if some agents not busy\n",
    "            not_busy_ids = [agent.id for agent in self.agents if not agent.is_busy]\n",
    "            if len(not_busy_ids) >= 1:\n",
    "                agent_id = self.sample2(not_busy_ids) ###############\n",
    "                customer = self.get_customer_from_queue()\n",
    "                _ = self.agents[agent_id].add_customer_to_queue(customer, len(self.customers_queue))\n",
    "                _ = self.agents[agent_id].next_service(global_time)\n",
    "                end_time = self.agents[agent_id].customers_queue[0].serviceEnds\n",
    "                new_event = {'ID': self.EID, 'type': 'serving', 'time': end_time,\n",
    "                             'info': {'agent_id': agent_id, 'customer_id': customer.id}}\n",
    "                self.EID += 1\n",
    "                self.events_queue.append(new_event)\n",
    "        ### Static Shortest Queue\n",
    "        elif (self.distribute) and (not self.dynamic):\n",
    "            ## find agent with the smallest queue and add new customer to that queue\n",
    "            L = [len(agent.customers_queue) for agent in self.agents if not agent.not_working]\n",
    "            working_ids = np.array([agent.id for agent in self.agents if not agent.not_working])\n",
    "            indexes = [i for i, x in enumerate(L) if x == min(L)]\n",
    "            agent_id = working_ids[self.sample2(indexes)] ###############\n",
    "            customer = self.get_customer_from_queue()\n",
    "            _ = self.agents[agent_id].add_customer_to_queue(customer, len(self.customers_queue))\n",
    "            ## add new serving event if this agent is not busy\n",
    "            if not self.agents[agent_id].is_busy:\n",
    "                _ = self.agents[agent_id].next_service(global_time)\n",
    "                end_time = self.agents[agent_id].customers_queue[0].serviceEnds\n",
    "                new_event = {'ID': self.EID, 'type': 'serving', 'time': end_time,\n",
    "                             'info': {'agent_id': agent_id, 'customer_id': customer.id}}\n",
    "                self.EID += 1\n",
    "                self.events_queue.append(new_event)  \n",
    "        ### Dynamic General Queue\n",
    "        elif (not self.distribute) and (self.dynamic):       \n",
    "            not_working_ids = [agent.id for agent in self.agents if agent.not_working]\n",
    "            not_busy_ids = [agent.id for agent in self.agents if (not agent.not_working) and (not agent.is_busy)]\n",
    "\n",
    "            ## add serving event if all agents are busy and there are not working ones\n",
    "            if (len(not_working_ids) >= 1) and (len(not_busy_ids) == 0): \n",
    "                agent_id = self.sample2(not_working_ids) ###############\n",
    "                customer = self.get_customer_from_queue()\n",
    "                customer_id = customer.id\n",
    "                self.agents[agent_id].not_working = False\n",
    "                _ = self.agents[agent_id].add_customer_to_queue(customer, len(self.customers_queue))\n",
    "                _ = self.agents[agent_id].next_service(global_time)\n",
    "                end_time = self.agents[agent_id].customers_queue[0].serviceEnds\n",
    "                new_event = {'ID': self.EID, 'type': 'serving', 'time': end_time,\n",
    "                             'info': {'agent_id': agent_id, 'customer_id': customer_id}}\n",
    "                self.EID += 1\n",
    "                self.events_queue.append(new_event)\n",
    "            ## add serving event if some agents not busy\n",
    "            elif len(not_busy_ids) >= 1:\n",
    "                agent_id = self.sample2(not_busy_ids) ###############\n",
    "                customer = self.get_customer_from_queue()\n",
    "                _ = self.agents[agent_id].add_customer_to_queue(customer, len(self.customers_queue))\n",
    "                _ = self.agents[agent_id].next_service(global_time)\n",
    "                end_time = self.agents[agent_id].customers_queue[0].serviceEnds\n",
    "                new_event = {'ID': self.EID, 'type': 'serving', 'time': end_time,\n",
    "                             'info': {'agent_id': agent_id, 'customer_id': customer.id}}\n",
    "                self.EID += 1\n",
    "                self.events_queue.append(new_event)\n",
    "        ### Dynamic Shortest Queue\n",
    "        elif (self.distribute) and (self.dynamic):          \n",
    "            L = [len(agent.customers_queue) for agent in self.agents if not agent.not_working]\n",
    "            indexes = [i for i, x in enumerate(L) if x == min(L)]\n",
    "            not_working_ids = [agent.id for agent in self.agents if agent.not_working]\n",
    "            not_busy_ids = [agent.id for agent in self.agents if (not agent.not_working) and (not agent.is_busy)]\n",
    "            working_ids = np.array([agent.id for agent in self.agents if not agent.not_working])              \n",
    "            ## all working agents are busy & >=1 agents not working\n",
    "            ##  + add new serving event\n",
    "            if (len(not_working_ids) >= 1) and (len(not_busy_ids) == 0): \n",
    "                agent_id = self.sample2(not_working_ids) ###############\n",
    "                customer = self.get_customer_from_queue()\n",
    "                self.agents[agent_id].not_working = False\n",
    "                _ = self.agents[agent_id].add_customer_to_queue(customer, len(self.customers_queue))\n",
    "                _ = self.agents[agent_id].next_service(global_time)\n",
    "                end_time = self.agents[agent_id].customers_queue[0].serviceEnds\n",
    "                new_event = {'ID': self.EID, 'type': 'serving', 'time': end_time,\n",
    "                              'info': {'agent_id': agent_id, 'customer_id': customer.id}}\n",
    "                self.EID += 1\n",
    "                self.events_queue.append(new_event)\n",
    "            ## all agents are working -> selecting agent with the smallest queue\n",
    "            else:\n",
    "                agent_id = working_ids[self.sample2(indexes)] ###############\n",
    "                customer = self.get_customer_from_queue()\n",
    "                _ = self.agents[agent_id].add_customer_to_queue(customer, len(self.customers_queue))\n",
    "                ## add new serving event if this agent is not busy\n",
    "                if not self.agents[agent_id].is_busy:\n",
    "                    _ = self.agents[agent_id].next_service(global_time)\n",
    "                    end_time = self.agents[agent_id].customers_queue[0].serviceEnds\n",
    "                    new_event = {'ID': self.EID, 'type': 'serving', 'time': end_time,\n",
    "                                 'info': {'agent_id': agent_id, 'customer_id': customer.id}}\n",
    "                    self.EID += 1\n",
    "                    self.events_queue.append(new_event)\n",
    "        \n",
    "            \n",
    "    def generate_new_customer(self, global_time):\n",
    "        customer = Customer()\n",
    "        dt = round(self.CUSTOMER_STATS['timeBetweenArrivals'][self.COUNTER], 2)\n",
    "        customer.arrivalTime = global_time + dt\n",
    "        customer.serviceTime = round(self.CUSTOMER_STATS['serviceTime'][self.COUNTER], 2)\n",
    "        customer.id = self.CID\n",
    "        self.COUNTER += 1\n",
    "        self.CID += 1\n",
    "        new_event =  {'ID': self.EID, 'type': 'add_new_customer', 'time': customer.arrivalTime, \n",
    "                        'info': {'customer': customer}}\n",
    "        self.EID += 1\n",
    "        self.events_queue.append(new_event)\n",
    "        \n",
    "        \n",
    "    def update(self, global_time):\n",
    "        ### customers in queue\n",
    "        for k in range(len(self.customers_queue)):\n",
    "            self.customers_queue[k].update(global_time)\n",
    "        ### customers in service\n",
    "        for k in range(len(self.agents)):\n",
    "            if not self.agents[k].not_working:\n",
    "                for j in range(len(self.agents[k].customers_queue)):\n",
    "                    self.agents[k].customers_queue[j].update(global_time)\n",
    "                    \n",
    "    \n",
    "    def history_to_df(self):\n",
    "        df = pd.DataFrame()\n",
    "        df['CID'] = [c[1].id for c in self.history]\n",
    "        df['arrTime'] = [c[1].arrivalTime for c in self.history]\n",
    "        df['srvcBegins'] = [c[1].serviceBegins for c in self.history]\n",
    "        df['srvcEnds'] = [c[1].serviceEnds for c in self.history]\n",
    "        df['waitingTime'] = [c[1].waitingTimeInQueue for c in self.history]\n",
    "        df['srvcTime'] = [c[1].serviceTime for c in self.history]\n",
    "        df['timeInSys'] = [c[1].timeInSystem for c in self.history]\n",
    "        df['AID'] = [c[0] for c in self.history]\n",
    "        return df\n",
    "    \n",
    "    def convert(self, df, cols):\n",
    "        df2 = df.copy()\n",
    "        for col in cols:\n",
    "            df2[col] = df2[col].apply(lambda x: conv(x))\n",
    "        return df2    \n",
    "        \n",
    "    def sample2(self, options):\n",
    "        if self.seeds2 is not None:\n",
    "            seed = self.seeds2[self.seeds2_counter]\n",
    "            self.seeds2_counter += 1\n",
    "            return np.random.RandomState(seed).choice(options)\n",
    "        return np.random.choice(options)"
   ]
  },
  {
   "cell_type": "markdown",
   "id": "c0fc4304",
   "metadata": {
    "heading_collapsed": true
   },
   "source": [
    "# Simulation class"
   ]
  },
  {
   "cell_type": "code",
   "execution_count": 15,
   "id": "abeb16c1",
   "metadata": {
    "ExecuteTime": {
     "end_time": "2023-05-21T10:48:40.128081Z",
     "start_time": "2023-05-21T10:48:40.023413Z"
    },
    "hidden": true
   },
   "outputs": [],
   "source": [
    "class Simulation:\n",
    "    def __init__(self):\n",
    "        self.seeds = None\n",
    "    \n",
    "    def set_seed(self, seed):\n",
    "        if seed is None:\n",
    "            self.seeds = None\n",
    "        else:\n",
    "            n = int((self.stop_time - self.start_time)/self.time_between_arrivals_range[0]*2)\n",
    "            self.seeds = np.random.RandomState(seed).randint(0, 2**32 - 1, n, dtype='int64')\n",
    "            self.seeds_counter = 0\n",
    "            n = int((self.stop_time - self.start_time)/self.time_between_arrivals_range[0]*3)\n",
    "            self.seeds2 = np.random.RandomState(seed).randint(0, 2**32 - 1, n, dtype='int64')\n",
    "            self.seeds2_counter = 0\n",
    "    \n",
    "    def reset(self, \n",
    "              agents_number_range, service_time_range, time_between_arrivals_range, \n",
    "              sampler_params1, sampler_params2, \n",
    "              start_time, stop_time, dynamic, distribute, verbose, seed):\n",
    "        self.verbose = verbose\n",
    "        self.CID = 0\n",
    "        self.EID = 0\n",
    "        self.customers_queue = []\n",
    "        self.log1 = []\n",
    "        self.log2 = []\n",
    "        self.log3 = []\n",
    "        self.history = []\n",
    "        self.events_queue = EventsQueue()\n",
    "        self.agents_number_range = agents_number_range\n",
    "        self.service_time_range = service_time_range\n",
    "        self.time_between_arrivals_range = time_between_arrivals_range\n",
    "        self.sampler_params1 = sampler_params1\n",
    "        self.sampler_params1['tmin'] = start_time\n",
    "        self.sampler_params1['tmax'] = stop_time\n",
    "        self.sampler_params2 = sampler_params2\n",
    "        self.sampler_params2['tmin'] = start_time\n",
    "        self.sampler_params2['tmax'] = stop_time        \n",
    "        self.start_time = start_time\n",
    "        self.stop_time = stop_time\n",
    "        self.dynamic = dynamic\n",
    "        self.distribute = distribute\n",
    "        if self.dynamic:\n",
    "            self.agents = [Agent(id_) for id_ in range(self.agents_number_range[1])]\n",
    "            for k in range(self.agents_number_range[1]-self.agents_number_range[0]):\n",
    "                self.agents[self.agents_number_range[0]+k].not_working = True\n",
    "        else:\n",
    "            self.agents = [Agent(id_) for id_ in range(self.agents_number_range[0])]\n",
    "        self.set_seed(seed)\n",
    "\n",
    "    def update_log1(self, msgs):\n",
    "        for msg in msgs:\n",
    "            if self.verbose: print(msg)\n",
    "            self.log1.append(msg)\n",
    "            \n",
    "    def update_log2(self, global_time):\n",
    "        TEMPLATE  = {'T': global_time, 'Queue': len(self.customers_queue), 'Agents': {}}\n",
    "        for agent in self.agents:\n",
    "            if agent.not_working:\n",
    "                TEMPLATE['Agents'][agent.id] = -1\n",
    "            else:\n",
    "                TEMPLATE['Agents'][agent.id] = len(agent.customers_queue)\n",
    "        self.log2.append(TEMPLATE)     \n",
    "        \n",
    "    def update_log3(self, global_time):\n",
    "        TEMPLATE  = {'T': global_time, 'Queue': len(self.customers_queue), 'Agents': {}, 'n_working': None}\n",
    "        #             'is_working': {}, }\n",
    "        is_working = []\n",
    "        for agent in self.agents:\n",
    "            TEMPLATE['Agents'][f'{agent.id}'] = max(len(agent.customers_queue)-1, 0)\n",
    "            is_working.append(not agent.not_working)\n",
    "            #TEMPLATE['is_working'][agent.id] = not agent.not_working\n",
    "        TEMPLATE[\"n_working\"] = sum(is_working)\n",
    "        self.log3.append(TEMPLATE)    \n",
    "        \n",
    "    def get_customer_from_queue(self):\n",
    "        customer = self.customers_queue[0]\n",
    "        self.customers_queue.pop(0)\n",
    "        return customer\n",
    "    \n",
    "    def generate_saving_event(self, t):\n",
    "         event = {'ID': None, 'type': 'save_log', 'time': t, 'info': None}\n",
    "         self.events_queue.append(event)   \n",
    "\n",
    "    def simulate(self, agents_number_range, service_time_range, time_between_arrivals_range,\n",
    "                 sampler_params1, sampler_params2,\n",
    "                 start_time, stop_time, dynamic, distribute, verbose=False, seed=None,\n",
    "                 reshape_log=True, log_points_dt=None):\n",
    "        self.reset(agents_number_range, service_time_range, time_between_arrivals_range, \n",
    "                   sampler_params1, sampler_params2,\n",
    "                   start_time, stop_time, dynamic, distribute, verbose, seed)\n",
    "        global_time = self.start_time\n",
    "        self.generate_new_customer(global_time, dt=0)\n",
    "        ### add evenets to save log a certain times\n",
    "        if log_points_dt is not None:\n",
    "            self.generate_saving_event(global_time)\n",
    "        while (global_time < stop_time):     \n",
    "            try:\n",
    "                ### get the closest event\n",
    "                event = self.events_queue[0]\n",
    "                self.events_queue.pop()\n",
    "                ### process this event\n",
    "                self.process(event)\n",
    "            except:\n",
    "                pass\n",
    "            ### generate new customer\n",
    "            if event['type'] == 'add_new_customer':\n",
    "                self.generate_new_customer(global_time)\n",
    "            ### generate new saving event\n",
    "            if event['type'] == 'save_log':\n",
    "                self.generate_saving_event(global_time+log_points_dt)\n",
    "            ### update times\n",
    "            global_time = self.events_queue[0]['time']\n",
    "            self.update(global_time)\n",
    "            msgs = [f'| Events: {self.events_queue[:]}']\n",
    "            self.update_log1(msgs)\n",
    "        if reshape_log:\n",
    "            self.reshape_log2()\n",
    "            \n",
    "    def process(self, event):\n",
    "        global_time = event['time']\n",
    "        msgs = ['+'+'-'*50, f'| T = {timedelta(minutes=global_time)} / Queue len = {len(self.customers_queue)}']\n",
    "        msgs.append(f'| Event: {event}')\n",
    "        self.update_log1(msgs)\n",
    "        if event['type'] == 'serving':\n",
    "            self.EVENT_serving(event, global_time)\n",
    "        if event['type'] == 'add_new_customer':\n",
    "            self.EVENT_add_new_customer(event, global_time)\n",
    "        if event['type'] == 'save_log':\n",
    "            self.update_log3(global_time)\n",
    "            \n",
    "    \n",
    "    def EVENT_serving(self, event, global_time):\n",
    "        agent_id = event['info']['agent_id']\n",
    "        customer_id = event['info']['customer_id'] \n",
    "        self.history.append((agent_id, self.agents[agent_id].customers_queue[0])) ### <------------------------------------ UPD\n",
    "        msgs = self.agents[agent_id].remove_customer() \n",
    "        self.update_log2(global_time)\n",
    "        self.update_log1(msgs)  ### <------------------------------------ UPD\n",
    "        msgs = [f'{(not self.distribute) and (len(self.customers_queue) >= 1)}']\n",
    "        self.update_log1(msgs)  ### <------------------------------------ UPD\n",
    "        ### check if it is possible to serve a new customer\n",
    "        if (not self.distribute) and (len(self.customers_queue) >= 1): \n",
    "            customer = self.get_customer_from_queue()\n",
    "            msgs = self.agents[agent_id].add_customer_to_queue(customer, len(self.customers_queue))\n",
    "            self.update_log2(global_time)\n",
    "            self.update_log1(msgs) ### <------------------------------------ UPD\n",
    "            msgs = self.agents[agent_id].next_service(global_time)\n",
    "            self.update_log1(msgs) ### <------------------------------------ UPD\n",
    "            end_time = self.agents[agent_id].customers_queue[0].serviceEnds\n",
    "            new_event = {'ID': self.EID, 'type': 'serving', 'time': end_time,\n",
    "                         'info': {'agent_id': agent_id, 'customer_id': customer.id}}\n",
    "            self.EID += 1\n",
    "            self.events_queue.append(new_event)\n",
    "        elif (self.distribute) and (len(self.agents[agent_id].customers_queue) >= 1):\n",
    "            customer_id = self.agents[agent_id].customers_queue[0].id\n",
    "            msgs = self.agents[agent_id].next_service(global_time)\n",
    "            self.update_log1(msgs) ### <------------------------------------ UPD\n",
    "            end_time = self.agents[agent_id].customers_queue[0].serviceEnds\n",
    "            new_event = {'ID': self.EID, 'type': 'serving', 'time': end_time,\n",
    "                            'info': {'agent_id': agent_id, 'customer_id': customer_id}}\n",
    "            self.EID += 1\n",
    "            self.events_queue.append(new_event)    \n",
    "        if self.dynamic:\n",
    "            not_working_ids = [agent.id for agent in self.agents if agent.not_working]\n",
    "            not_busy_ids = [agent.id for agent in self.agents if (not agent.not_working) and (not agent.is_busy)]\n",
    "            msgs = [f'not_working_ids: {not_working_ids} / not_busy_ids: {not_busy_ids}']\n",
    "            self.update_log1(msgs) ### <------------------------------------ UPD\n",
    "            ### check if there are 2 or more not busy agents and all agents are working\n",
    "            if (len(not_working_ids) == 0) and (len(not_busy_ids) >= 2):\n",
    "                agent_id = self.sample2(not_busy_ids) ###############\n",
    "                self.agents[agent_id].not_working = True  \n",
    "                msgs = [f'| Disabling Agent{agent_id}']\n",
    "                self.update_log2(global_time)\n",
    "                self.update_log1(msgs) ### <------------------------------------ UPD\n",
    "        \n",
    "    def EVENT_add_new_customer(self, event, global_time):\n",
    "        ## add new customer to main queue\n",
    "        self.customers_queue.append(event['info']['customer'])\n",
    "        msgs = [f\"| Customer{event['info']['customer'].id} has arrived with svcT = {timedelta(minutes=event['info']['customer'].serviceTime)}-> Queue len = {len(self.customers_queue)}\"]\n",
    "        self.update_log2(global_time)\n",
    "        self.update_log1(msgs) ### <------------------------------------ UPD\n",
    "        ### Static General Queue\n",
    "        if (not self.distribute) and (not self.dynamic):\n",
    "            ## add serving_start event if some agents not busy\n",
    "            not_busy_ids = [agent.id for agent in self.agents if not agent.is_busy]\n",
    "            msgs = [f'| not_busy_ids: {not_busy_ids}']\n",
    "            self.update_log1(msgs) ### <------------------------------------ UPD\n",
    "            if len(not_busy_ids) >= 1:\n",
    "                agent_id = self.sample2(not_busy_ids) ###############\n",
    "                customer = self.get_customer_from_queue()\n",
    "                msgs = self.agents[agent_id].add_customer_to_queue(customer, len(self.customers_queue))\n",
    "                self.update_log2(global_time)\n",
    "                self.update_log1(msgs) ### <------------------------------------ UPD\n",
    "                msgs = self.agents[agent_id].next_service(global_time)\n",
    "                self.update_log1(msgs) ### <------------------------------------ UPD\n",
    "                end_time = self.agents[agent_id].customers_queue[0].serviceEnds\n",
    "                new_event = {'ID': self.EID, 'type': 'serving', 'time': end_time,\n",
    "                             'info': {'agent_id': agent_id, 'customer_id': customer.id}}\n",
    "                self.EID += 1\n",
    "                self.events_queue.append(new_event)\n",
    "        ### Static Shortest Queue\n",
    "        elif (self.distribute) and (not self.dynamic):\n",
    "            ## find agent with the smallest queue and add new customer to that queue\n",
    "            L = [len(agent.customers_queue) for agent in self.agents if not agent.not_working]\n",
    "            working_ids = np.array([agent.id for agent in self.agents if not agent.not_working])\n",
    "            indexes = [i for i, x in enumerate(L) if x == min(L)]\n",
    "            agent_id = working_ids[self.sample2(indexes)] ###############\n",
    "            customer = self.get_customer_from_queue()\n",
    "            msgs = self.agents[agent_id].add_customer_to_queue(customer, len(self.customers_queue))\n",
    "            self.update_log2(global_time)\n",
    "            self.update_log1(msgs) ### <------------------------------------ UPD\n",
    "            ## add new serving event if this agent is not busy\n",
    "            if not self.agents[agent_id].is_busy:\n",
    "                msgs = self.agents[agent_id].next_service(global_time)\n",
    "                self.update_log1(msgs) ### <------------------------------------ UPD\n",
    "                end_time = self.agents[agent_id].customers_queue[0].serviceEnds\n",
    "                new_event = {'ID': self.EID, 'type': 'serving', 'time': end_time,\n",
    "                             'info': {'agent_id': agent_id, 'customer_id': customer.id}}\n",
    "                self.EID += 1\n",
    "                self.events_queue.append(new_event)  \n",
    "        ### Dynamic General Queue\n",
    "        elif (not self.distribute) and (self.dynamic):       \n",
    "            not_working_ids = [agent.id for agent in self.agents if agent.not_working]\n",
    "            not_busy_ids = [agent.id for agent in self.agents if (not agent.not_working) and (not agent.is_busy)]\n",
    "\n",
    "            ## add serving event if all agents are busy and there are not working ones\n",
    "            if (len(not_working_ids) >= 1) and (len(not_busy_ids) == 0): \n",
    "                agent_id = self.sample2(not_working_ids) ###############\n",
    "                customer = self.get_customer_from_queue()\n",
    "                customer_id = customer.id\n",
    "                self.agents[agent_id].not_working = False\n",
    "                msgs = [f'| Evoking Agent{agent_id}']\n",
    "                self.update_log1(msgs) ### <------------------------------------ UPD\n",
    "                msgs = self.agents[agent_id].add_customer_to_queue(customer, len(self.customers_queue))\n",
    "                self.update_log2(global_time)\n",
    "                self.update_log1(msgs) ### <------------------------------------ UPD\n",
    "                msgs = self.agents[agent_id].next_service(global_time)\n",
    "                self.update_log1(msgs) ### <------------------------------------ UPD\n",
    "                end_time = self.agents[agent_id].customers_queue[0].serviceEnds\n",
    "                new_event = {'ID': self.EID, 'type': 'serving', 'time': end_time,\n",
    "                             'info': {'agent_id': agent_id, 'customer_id': customer_id}}\n",
    "                self.EID += 1\n",
    "                self.events_queue.append(new_event)\n",
    "            ## add serving event if some agents not busy\n",
    "            elif len(not_busy_ids) >= 1:\n",
    "                agent_id = self.sample2(not_busy_ids) ###############\n",
    "                customer = self.get_customer_from_queue()\n",
    "                msgs = self.agents[agent_id].add_customer_to_queue(customer, len(self.customers_queue))\n",
    "                self.update_log2(global_time)\n",
    "                self.update_log1(msgs) ### <------------------------------------ UPD\n",
    "                msgs = self.agents[agent_id].next_service(global_time)\n",
    "                self.update_log1(msgs) ### <------------------------------------ UPD\n",
    "                end_time = self.agents[agent_id].customers_queue[0].serviceEnds\n",
    "                new_event = {'ID': self.EID, 'type': 'serving', 'time': end_time,\n",
    "                             'info': {'agent_id': agent_id, 'customer_id': customer.id}}\n",
    "                self.EID += 1\n",
    "                self.events_queue.append(new_event)\n",
    "        ### Dynamic Shortest Queue\n",
    "        elif (self.distribute) and (self.dynamic):          \n",
    "            L = [len(agent.customers_queue) for agent in self.agents if not agent.not_working]\n",
    "            indexes = [i for i, x in enumerate(L) if x == min(L)]\n",
    "            not_working_ids = [agent.id for agent in self.agents if agent.not_working]\n",
    "            not_busy_ids = [agent.id for agent in self.agents if (not agent.not_working) and (not agent.is_busy)]\n",
    "            working_ids = np.array([agent.id for agent in self.agents if not agent.not_working])              \n",
    "            ## all working agents are busy & >=1 agents not working\n",
    "            ##  + add new serving event\n",
    "            if (len(not_working_ids) >= 1) and (len(not_busy_ids) == 0): \n",
    "                agent_id = self.sample2(not_working_ids) ###############\n",
    "                customer = self.get_customer_from_queue()\n",
    "                self.agents[agent_id].not_working = False\n",
    "                msgs = [f'| Evoking Agent{agent_id}']\n",
    "                self.update_log1(msgs) ### <------------------------------------ UPD\n",
    "                msgs = self.agents[agent_id].add_customer_to_queue(customer, len(self.customers_queue))\n",
    "                self.update_log2(global_time)\n",
    "                self.update_log1(msgs) ### <------------------------------------ UPD\n",
    "                msgs = self.agents[agent_id].next_service(global_time)\n",
    "                self.update_log1(msgs) ### <------------------------------------ UPD\n",
    "                end_time = self.agents[agent_id].customers_queue[0].serviceEnds\n",
    "                new_event = {'ID': self.EID, 'type': 'serving', 'time': end_time,\n",
    "                              'info': {'agent_id': agent_id, 'customer_id': customer.id}}\n",
    "                self.EID += 1\n",
    "                self.events_queue.append(new_event)\n",
    "            ## all agents are working -> selecting agent with the smallest queue\n",
    "            else:\n",
    "                agent_id = working_ids[self.sample2(indexes)] ###############\n",
    "                customer = self.get_customer_from_queue()\n",
    "                msgs = self.agents[agent_id].add_customer_to_queue(customer, len(self.customers_queue))\n",
    "                self.update_log2(global_time)\n",
    "                self.update_log1(msgs) ### <------------------------------------ UPD\n",
    "                ## add new serving event if this agent is not busy\n",
    "                if not self.agents[agent_id].is_busy:\n",
    "                    msgs = self.agents[agent_id].next_service(global_time)\n",
    "                    self.update_log1(msgs) ### <------------------------------------ UPD\n",
    "                    end_time = self.agents[agent_id].customers_queue[0].serviceEnds\n",
    "                    new_event = {'ID': self.EID, 'type': 'serving', 'time': end_time,\n",
    "                                 'info': {'agent_id': agent_id, 'customer_id': customer.id}}\n",
    "                    self.EID += 1\n",
    "                    self.events_queue.append(new_event)\n",
    "        \n",
    "            \n",
    "    def generate_new_customer(self, global_time, dt=None):\n",
    "        customer = Customer()\n",
    "        if dt is None:\n",
    "            dt = round(self.sample(global_time, 'timeBetweenArrivals'), 2)\n",
    "        customer.arrivalTime = global_time + dt\n",
    "        customer.serviceTime = round(self.sample(global_time, 'serviceTime'), 2)\n",
    "        customer.id = self.CID\n",
    "        msgs = [f'| Customer{customer.id} - generated / dt = {timedelta(minutes=dt)} / srvT = {timedelta(minutes=customer.serviceTime)} / aT = {timedelta(minutes=customer.arrivalTime)} / gT = {timedelta(minutes=global_time)}']\n",
    "        self.update_log1(msgs)\n",
    "        self.CID += 1\n",
    "        new_event =  {'ID': self.EID, 'type': 'add_new_customer', 'time': customer.arrivalTime, \n",
    "                        'info': {'customer': customer}}\n",
    "        self.EID += 1\n",
    "        self.events_queue.append(new_event)\n",
    "        \n",
    "        \n",
    "    def update(self, global_time):\n",
    "        ### customers in queue\n",
    "        for k in range(len(self.customers_queue)):\n",
    "            self.customers_queue[k].update(global_time)\n",
    "        ### customers in service\n",
    "        for k in range(len(self.agents)):\n",
    "            if not self.agents[k].not_working:\n",
    "                for j in range(len(self.agents[k].customers_queue)):\n",
    "                    self.agents[k].customers_queue[j].update(global_time)\n",
    "                    \n",
    "    def reshape_log2(self):\n",
    "        tmp2 = []\n",
    "        tmp3 = []\n",
    "        for d in self.log2:\n",
    "            try:\n",
    "                if d['T'] == tmp3[-1]['T']:\n",
    "                    tmp3.append(d)\n",
    "                else:\n",
    "                    tmp2.append(tmp3)\n",
    "                    tmp3 = []\n",
    "                    tmp3.append(d)\n",
    "            except:\n",
    "                tmp3.append(d)\n",
    "        self.log2 = tmp2\n",
    "    \n",
    "    def history_to_df(self):\n",
    "        df = pd.DataFrame()\n",
    "        df['CID'] = [c[1].id for c in self.history]\n",
    "        df['arrTime'] = [c[1].arrivalTime for c in self.history]\n",
    "        df['srvcBegins'] = [c[1].serviceBegins for c in self.history]\n",
    "        df['srvcEnds'] = [c[1].serviceEnds for c in self.history]\n",
    "        df['waitingTime'] = [c[1].waitingTimeInQueue for c in self.history]\n",
    "        df['srvcTime'] = [c[1].serviceTime for c in self.history]\n",
    "        df['timeInSys'] = [c[1].timeInSystem for c in self.history]\n",
    "        df['AID'] = [c[0] for c in self.history]\n",
    "        return df\n",
    "    \n",
    "    def convert(self, df, cols):\n",
    "        df2 = df.copy()\n",
    "        for col in cols:\n",
    "            df2[col] = df2[col].apply(lambda x: conv(x))\n",
    "        return df2    \n",
    "    \n",
    "    def sample(self, global_time, type_):\n",
    "        seed = None\n",
    "        if self.seeds is not None:\n",
    "            seed = self.seeds[self.seeds_counter]\n",
    "            self.seeds_counter += 1\n",
    "        if type_ == 'serviceTime':\n",
    "            a, b = beta_distr(global_time, **self.sampler_params1)\n",
    "            time_range = self.service_time_range\n",
    "            p = beta(a, b).rvs(random_state=seed)\n",
    "            return time_range[0] + (time_range[1] - time_range[0])*p\n",
    "        if type_ == 'timeBetweenArrivals':\n",
    "            a, b = beta_distr(global_time, **self.sampler_params2)\n",
    "            time_range = self.time_between_arrivals_range\n",
    "            p = beta(a, b).rvs(random_state=seed)\n",
    "            return time_range[0] + (time_range[1] - time_range[0])*p\n",
    "        \n",
    "    def sample2(self, options):\n",
    "        if self.seeds2 is not None:\n",
    "            seed = self.seeds2[self.seeds2_counter]\n",
    "            self.seeds2_counter += 1\n",
    "            return np.random.RandomState(seed).choice(options)\n",
    "        return np.random.choice(options)"
   ]
  },
  {
   "cell_type": "markdown",
   "id": "71b42e78",
   "metadata": {
    "heading_collapsed": true
   },
   "source": [
    "# Saving functions"
   ]
  },
  {
   "cell_type": "code",
   "execution_count": 16,
   "id": "82ae4fb6",
   "metadata": {
    "ExecuteTime": {
     "end_time": "2023-05-25T19:35:03.945989Z",
     "start_time": "2023-05-25T19:35:03.927033Z"
    },
    "hidden": true
   },
   "outputs": [],
   "source": [
    "def reshape_logs(logs, mode=1):\n",
    "    if mode == 1:\n",
    "        logs['T'] = logs['T'].tolist()\n",
    "        logs['Queue'] = logs['Queue'].tolist()\n",
    "        logs['Agents'] = logs['Agents'].tolist()\n",
    "        logs['n_working'] = logs['n_working'].tolist()\n",
    "    if mode == 2:\n",
    "        logs['T'] = np.array(logs['T'])\n",
    "        logs['Queue'] = np.array(logs['Queue'])\n",
    "        logs['Agents'] = np.array(logs['Agents'])\n",
    "        logs['n_working'] = np.array(logs['n_working'])\n",
    "    return logs"
   ]
  },
  {
   "cell_type": "code",
   "execution_count": 17,
   "id": "5096d20f",
   "metadata": {
    "ExecuteTime": {
     "end_time": "2023-05-25T19:35:04.813350Z",
     "start_time": "2023-05-25T19:35:04.797602Z"
    },
    "hidden": true
   },
   "outputs": [],
   "source": [
    "def save_np(array, filename): \n",
    "    with open(filename, 'wb') as f:\n",
    "        np.save(f, array)\n",
    "def read_np(filename):\n",
    "    with open(filename, 'rb') as f:\n",
    "        return np.load(f)"
   ]
  },
  {
   "cell_type": "code",
   "execution_count": 18,
   "id": "fc16c99e",
   "metadata": {
    "ExecuteTime": {
     "end_time": "2023-05-25T19:35:05.751894Z",
     "start_time": "2023-05-25T19:35:05.740889Z"
    },
    "hidden": true
   },
   "outputs": [],
   "source": [
    "def save(templates, filename):   \n",
    "    with open(f'{filename}', 'w') as fp:\n",
    "        json.dump(templates, fp)"
   ]
  },
  {
   "cell_type": "code",
   "execution_count": 19,
   "id": "6757b557",
   "metadata": {
    "ExecuteTime": {
     "end_time": "2023-05-25T19:35:06.240179Z",
     "start_time": "2023-05-25T19:35:06.221183Z"
    },
    "hidden": true
   },
   "outputs": [],
   "source": [
    "def read(filename):   \n",
    "    return json.load(open(filename))"
   ]
  },
  {
   "cell_type": "code",
   "execution_count": 20,
   "id": "35488692",
   "metadata": {
    "ExecuteTime": {
     "end_time": "2023-05-25T19:35:07.123836Z",
     "start_time": "2023-05-25T19:35:07.101796Z"
    },
    "hidden": true
   },
   "outputs": [],
   "source": [
    "def save_txt(txt, filename):\n",
    "    try:\n",
    "        os.remove(filename)\n",
    "    except:\n",
    "        pass\n",
    "    for line in tqdm(txt, total=len(txt)):\n",
    "        with open(f'{filename}', 'a') as fp:\n",
    "            fp.write(line+'\\n')"
   ]
  },
  {
   "cell_type": "code",
   "execution_count": 21,
   "id": "8c1dd191",
   "metadata": {
    "ExecuteTime": {
     "end_time": "2023-05-25T19:35:07.919568Z",
     "start_time": "2023-05-25T19:35:07.899560Z"
    },
    "hidden": true
   },
   "outputs": [],
   "source": [
    "def move(filename):\n",
    "    try:\n",
    "        os.remove(f\"//wsl.localhost/Ubuntu-20.04/home/linuxuser/DiscreteModeling3/data/{filename}\")\n",
    "    except:\n",
    "        print(f\"File {filename} does not exist\")\n",
    "    shutil.move(f'{filename}', \"//wsl.localhost/Ubuntu-20.04/home/linuxuser/DiscreteModeling3/data\")"
   ]
  },
  {
   "cell_type": "markdown",
   "id": "777a93cc",
   "metadata": {
    "heading_collapsed": true
   },
   "source": [
    "# Plotting functions"
   ]
  },
  {
   "cell_type": "code",
   "execution_count": 22,
   "id": "a34e9557",
   "metadata": {
    "ExecuteTime": {
     "end_time": "2023-05-21T10:48:40.254781Z",
     "start_time": "2023-05-21T10:48:40.227833Z"
    },
    "hidden": true
   },
   "outputs": [],
   "source": [
    "def plot2(MEAN_LOGS, BOTTOM_LOGS, TOP_LOGS,\n",
    "          fs=18, ls=18, lw=5, \n",
    "          plot_agents=[False, False], \n",
    "          plot_general=[True, False], \n",
    "          is_scatter=[False, False], \n",
    "          sum_agents=[False, True], \n",
    "          avg_agents=[False, True],\n",
    "          prefixes=['General: ', 'Shortest: '],\n",
    "          title='Static Model'):\n",
    "    fig, ax = plt.subplots(1, figsize=(15.4, 8))\n",
    "    colors = ['blue', 'orange', 'green']\n",
    "    counter = 0\n",
    "    for k, MEAN_LOG in enumerate(MEAN_LOGS):\n",
    "        if plot_general[k]:\n",
    "            params = {'linewidth': lw, 'label': prefixes[k]+'Main Queue', 'color': colors[counter]}\n",
    "            if is_scatter[k]:\n",
    "                ax.scatter(MEAN_LOG['T'], MEAN_LOG['Queue'], **params)\n",
    "            else:\n",
    "                ax.plot(MEAN_LOG['T'], MEAN_LOG['Queue'], **params)\n",
    "            ax.fill_between(MEAN_LOG['T'], BOTTOM_LOGS[k]['Queue'], TOP_LOGS[k]['Queue'], \n",
    "                            color=colors[counter], alpha=0.3)\n",
    "            counter += 1\n",
    "        if plot_agents[k]:\n",
    "            for it, agent_queue in enumerate(MEAN_LOG['Agents']):\n",
    "                params = {'linewidth': lw, 'label': prefixes[k]+f'Agent{it} Queue', 'color': colors[counter]}\n",
    "                if is_scatter[k]:\n",
    "                    ax.scatter(MEAN_LOG['T'], agent_queue, **params)\n",
    "                else:\n",
    "                    ax.plot(MEAN_LOG['T'], agent_queue, **params)\n",
    "                counter += 1\n",
    "        if sum_agents[k]:\n",
    "            sum_ = MEAN_LOG['Agents'].sum(axis=0)\n",
    "            params = {'linewidth': lw, 'label': prefixes[k]+'Sum of Agents Queues', 'color': colors[counter]}\n",
    "            if is_scatter[k]:\n",
    "                ax.scatter(MEAN_LOG['T'], sum_, **params)\n",
    "            else:\n",
    "                ax.plot(MEAN_LOG['T'], sum_, **params)\n",
    "            ax.fill_between(MEAN_LOG['T'], BOTTOM_LOGS[k]['Agents'].sum(axis=0), TOP_LOGS[k]['Agents'].sum(axis=0), \n",
    "                            color=colors[counter], alpha=0.3)\n",
    "            counter += 1\n",
    "        if avg_agents[k]:\n",
    "            mean_ = MEAN_LOG['Agents'].mean(axis=0)\n",
    "            params = {'linewidth': lw, 'label': prefixes[k]+\"Avg of Agents' Queues\", 'color': colors[counter]}\n",
    "            if is_scatter[k]:\n",
    "                ax.scatter(MEAN_LOGS['T'], mean_, **params)\n",
    "            else:\n",
    "                ax.plot(MEAN_LOG['T'], mean_, **params)\n",
    "            ax.fill_between(MEAN_LOG['T'], BOTTOM_LOGS[k]['Agents'].mean(axis=0), \n",
    "                            TOP_LOGS[k]['Agents'].mean(axis=0), \n",
    "                            color=colors[counter], alpha=0.3)\n",
    "            counter += 1\n",
    "    ax.tick_params(axis=\"x\", labelsize=ls, rotation=0) \n",
    "    ax.tick_params(axis=\"y\", labelsize=ls)\n",
    "    ticks = ax.get_xticks()\n",
    "    ax.set_xticklabels([timedelta(minutes=round(t,2)) for t in ticks])\n",
    "    ax.set_xlabel(\"Time\", fontsize=fs)\n",
    "    ax.set_ylabel(\"Queue Length\", fontsize=fs)\n",
    "    ax.grid()\n",
    "    ax.legend(fontsize=fs)\n",
    "    ax.set_title(title, fontsize=fs*1.5)\n",
    "    plt.show()"
   ]
  },
  {
   "cell_type": "markdown",
   "id": "a9695fd5",
   "metadata": {},
   "source": [
    "# Function for multiple simulations"
   ]
  },
  {
   "cell_type": "code",
   "execution_count": 23,
   "id": "b40e8800",
   "metadata": {
    "ExecuteTime": {
     "end_time": "2023-05-21T10:48:40.285829Z",
     "start_time": "2023-05-21T10:48:40.258788Z"
    }
   },
   "outputs": [],
   "source": [
    "def sample(n_runs, start_time, stop_time, service_time_range, time_between_arrivals_range,\n",
    "           sampler_params1, sampler_params2):\n",
    "        sampler_params1['tmin'] = start_time\n",
    "        sampler_params1['tmax'] = stop_time\n",
    "        sampler_params2['tmin'] = start_time\n",
    "        sampler_params2['tmax'] = stop_time\n",
    "        T = start_time*np.ones(n_runs)\n",
    "        STATS1 = []\n",
    "        STATS2 = []\n",
    "        counter = 0\n",
    "        A1def, B1def = beta_distr(stop_time*np.ones_like(T), **sampler_params1)\n",
    "        A2def, B2def = beta_distr(stop_time*np.ones_like(T), **sampler_params2)\n",
    "        while min(T) <= stop_time:\n",
    "            clear_output()\n",
    "            print(counter, min(T))\n",
    "            counter += 1\n",
    "            ids = [it for it in range(len(T)) if T[it]<=stop_time]\n",
    "            A1, B1 = np.array([k for k in A1def]), np.array([k for k in B1def])\n",
    "            A2, B2 = np.array([k for k in A2def]), np.array([k for k in B2def])\n",
    "            A1[ids], B1[ids] = beta_distr(T[ids], **sampler_params1)\n",
    "            A2[ids], B2[ids] = beta_distr(T[ids], **sampler_params2)\n",
    "            \n",
    "            P = beta(A1, B1).rvs()\n",
    "            #stats = np.array([k for k in default_stats1])#np.array([None for i in range(len(T))])\n",
    "            stats = service_time_range[0] + (service_time_range[1] - service_time_range[0])*P\n",
    "            STATS1.append(stats)\n",
    "            P = beta(A2, B2).rvs()\n",
    "            #stats = np.array([k for k in default_stats2])#np.array([None for i in range(len(T))])\n",
    "            stats = time_between_arrivals_range[0] + (time_between_arrivals_range[1] - time_between_arrivals_range[0])*P\n",
    "            if counter == 1:\n",
    "                STATS2.append(np.zeros_like(stats))\n",
    "            else:\n",
    "                STATS2.append(stats)\n",
    "                T[ids] = T[ids] + stats[ids]\n",
    "        STATS1 = list(map(list, zip(*STATS1)))\n",
    "        STATS2 = list(map(list, zip(*STATS2)))\n",
    "        return STATS1, STATS2, T"
   ]
  },
  {
   "cell_type": "code",
   "execution_count": 24,
   "id": "158503c4",
   "metadata": {
    "ExecuteTime": {
     "end_time": "2023-05-21T10:48:40.301829Z",
     "start_time": "2023-05-21T10:48:40.289766Z"
    }
   },
   "outputs": [],
   "source": [
    "def step(it, stats1, stats2, model_kwargs, seed):\n",
    "    model_kwargs['customer_stats']['timeBetweenArrivals'] = stats2\n",
    "    model_kwargs['customer_stats']['serviceTime'] = stats1\n",
    "    sim = SimulationA(**model_kwargs, seed=seed)\n",
    "    sim.simulate()\n",
    "    df = sim.history_to_df()\n",
    "    df = sim.convert(df.groupby('AID').mean()[['waitingTime','srvcTime','timeInSys']], \n",
    "                                              ['waitingTime','srvcTime','timeInSys'])\n",
    "    return sim.log3, df, it"
   ]
  },
  {
   "cell_type": "code",
   "execution_count": 25,
   "id": "a58cd0d6",
   "metadata": {
    "ExecuteTime": {
     "end_time": "2023-05-21T10:48:40.332802Z",
     "start_time": "2023-05-21T10:48:40.305768Z"
    }
   },
   "outputs": [],
   "source": [
    "def simulations(n_runs, stats1, stats2, model_kwargs, seed=None):\n",
    "    if seed is not None:\n",
    "        seeds = np.random.RandomState(seed).randint(0, 2**32 - 1, n_runs, dtype='int64')\n",
    "    else:\n",
    "        seeds = np.random.randint(0, 2**32 - 1, n_runs, dtype='int64')\n",
    "    logs = {}\n",
    "    logs['T'] = np.append(np.arange(START_TIME, STOP_TIME, model_kwargs['log_points_dt']), STOP_TIME)\n",
    "    logs['Queue'] = np.zeros((n_runs, len(logs['T'])))\n",
    "    if model_kwargs['dynamic']:\n",
    "        M = model_kwargs['agents_number_range'][1]\n",
    "    else:\n",
    "        M = model_kwargs['agents_number_range'][0]\n",
    "    logs['Agents'] = np.zeros((M, n_runs, len(logs['T'])))\n",
    "    logs['n_working'] = np.zeros((n_runs, len(logs['T'])))\n",
    "    stats = []\n",
    "    for it, seed in tqdm(enumerate(seeds), total=len(seeds)):\n",
    "            log, df, _ = step(it, stats1[it], stats2[it], model_kwargs, seed)      \n",
    "            logs['Queue'][it, :] = log['Queue']\n",
    "            logs['Agents'][:, it, :] = log['Agents']\n",
    "            logs['n_working'][it, :] = log['n_working']\n",
    "            stats.append(df)\n",
    "    return logs, stats"
   ]
  },
  {
   "cell_type": "code",
   "execution_count": 26,
   "id": "0ffe5b60",
   "metadata": {
    "ExecuteTime": {
     "end_time": "2023-05-21T10:48:40.363828Z",
     "start_time": "2023-05-21T10:48:40.335789Z"
    }
   },
   "outputs": [],
   "source": [
    "def simulations_parallel(n_runs, stats1, stats2, model_kwargs, seed=None, max_workers=1):\n",
    "    if seed is not None:\n",
    "        seeds = np.random.RandomState(seed).randint(0, 2**32 - 1, n_runs, dtype='int64')\n",
    "    else:\n",
    "        seeds = np.random.randint(0, 2**32 - 1, n_runs, dtype='int64')\n",
    "    logs = {}\n",
    "    logs['T'] = np.append(np.arange(START_TIME, STOP_TIME, model_kwargs['log_points_dt']), STOP_TIME)\n",
    "    logs['Queue'] = np.zeros((n_runs, len(logs['T'])))\n",
    "    if model_kwargs['dynamic']:\n",
    "        M = model_kwargs['agents_number_range'][1]\n",
    "    else:\n",
    "        M = model_kwargs['agents_number_range'][0]\n",
    "    logs['Agents'] = np.zeros((M, n_runs, len(logs['T'])))\n",
    "    logs['n_working'] = np.zeros((n_runs, len(logs['T'])))\n",
    "    stats = []\n",
    "    with concurrent.futures.ThreadPoolExecutor(max_workers=max_workers) as executor:\n",
    "        future_to_url = (executor.submit(step, \n",
    "                                         it,\n",
    "                                         stats1[it], \n",
    "                                         stats2[it],\n",
    "                                         model_kwargs, \n",
    "                                         seeds[it]) for it in range(n_runs))\n",
    "        iterator = tqdm(concurrent.futures.as_completed(future_to_url), total=n_runs)\n",
    "        for future in iterator:\n",
    "            try:\n",
    "                log, df, it = future.result() \n",
    "                logs['Queue'][it, :] = log['Queue']\n",
    "                logs['Agents'][:, it, :] = log['Agents']\n",
    "                logs['n_working'][it, :] = log['n_working']\n",
    "                stats.append(df)\n",
    "            except:\n",
    "                pass\n",
    "    return logs, stats"
   ]
  },
  {
   "cell_type": "code",
   "execution_count": 27,
   "id": "60b22203",
   "metadata": {
    "ExecuteTime": {
     "end_time": "2023-05-21T14:41:14.012725Z",
     "start_time": "2023-05-21T14:41:13.984682Z"
    }
   },
   "outputs": [],
   "source": [
    "def parallel_sim(n_runs, stats1, stats2, model_kwargs, seed=None, max_workers=1):\n",
    "    if seed is not None:\n",
    "        seeds = np.random.RandomState(seed).randint(0, 2**32 - 1, n_runs, dtype='int64')\n",
    "    else:\n",
    "        seeds = np.random.randint(0, 2**32 - 1, n_runs, dtype='int64')\n",
    "    logs = {}\n",
    "    logs['T'] = np.append(np.arange(START_TIME, STOP_TIME, model_kwargs['log_points_dt']), STOP_TIME)\n",
    "    logs['Queue'] = np.zeros((n_runs, len(logs['T'])))\n",
    "    if model_kwargs['dynamic']:\n",
    "        M = model_kwargs['agents_number_range'][1]\n",
    "    else:\n",
    "        M = model_kwargs['agents_number_range'][0]\n",
    "    logs['Agents'] = np.zeros((M, n_runs, len(logs['T'])))\n",
    "    logs['n_working'] = np.zeros((n_runs, len(logs['T'])))\n",
    "    stats = []\n",
    "    INPUTS = list(zip(stats1, stats2, [model_kwargs for i in range(len(STATS1))], seeds))\n",
    "    if __name__ ==  '__main__': \n",
    "        \n",
    "        p = mp.Pool(processes=max_workers)\n",
    "        #os.system('taskset -cp 0-%d %s' % (12, os.getpid()))\n",
    "        output = p.starmap(workers.step, tqdm(INPUTS, total=len(INPUTS)))\n",
    "        p.close()\n",
    "    return output"
   ]
  },
  {
   "cell_type": "code",
   "execution_count": 28,
   "id": "af758546",
   "metadata": {
    "ExecuteTime": {
     "end_time": "2023-05-21T10:48:40.427767Z",
     "start_time": "2023-05-21T10:48:40.395813Z"
    }
   },
   "outputs": [],
   "source": [
    "def aggregate1(logs):\n",
    "    N = logs['Agents'].shape[1]\n",
    "    n_runs = logs['Queue'].shape[0]\n",
    "    mean_log = {}\n",
    "    mean_log['T'] = logs['T']\n",
    "    mean_log['Queue'] = (logs['Queue'] * logs['n_working']).sum(axis=0)/logs['n_working'].sum(axis=0)\n",
    "    mean_log['Agents'] = (logs['Agents'] * logs['n_working']).sum(axis=1)/logs['n_working'].sum(axis=0)\n",
    "    \n",
    "    bottom_log = {'std': {}, 'mean_abs_dev': {}}\n",
    "    top_log =  {'std': {}, 'mean_abs_dev': {}}   \n",
    "    ### std\n",
    "    std = np.sqrt(((logs['Queue'] - mean_log['Queue'])**2 * logs['n_working']).sum(axis=0)/logs['n_working'].sum(axis=0))\n",
    "    bottom_log['std']['Queue'] = mean_log['Queue'] - std\n",
    "    top_log['std']['Queue'] = mean_log['Queue'] + std\n",
    "    std = np.sqrt(((logs['Agents'] - np.swapaxes(np.tile(mean_log['Agents'], (n_runs, 1, 1)), 0, 1))**2\\\n",
    "                   * logs['n_working']).sum(axis=1) / logs['n_working'].sum(axis=0))\n",
    "    bottom_log['std']['Agents'] = mean_log['Agents'] - std\n",
    "    top_log['std']['Agents'] = mean_log['Agents'] + std\n",
    "    \n",
    "    ### mean_abs_dev\n",
    "    std = (np.abs(logs['Queue'] - mean_log['Queue']) * logs['n_working']).sum(axis=0)/logs['n_working'].sum(axis=0)\n",
    "    bottom_log['mean_abs_dev']['Queue'] = mean_log['Queue'] - std\n",
    "    top_log['mean_abs_dev']['Queue'] = mean_log['Queue'] + std\n",
    "    std = (np.abs(logs['Agents'] - np.swapaxes(np.tile(mean_log['Agents'], (n_runs, 1, 1)), 0, 1))\\\n",
    "                   * logs['n_working']).sum(axis=1) / logs['n_working'].sum(axis=0)\n",
    "    bottom_log['mean_abs_dev']['Agents'] = mean_log['Agents'] - std\n",
    "    top_log['mean_abs_dev']['Agents'] = mean_log['Agents'] + std\n",
    "    \n",
    "    return mean_log, top_log, bottom_log"
   ]
  },
  {
   "cell_type": "code",
   "execution_count": 29,
   "id": "f0941e3d",
   "metadata": {
    "ExecuteTime": {
     "end_time": "2023-05-21T10:48:40.442766Z",
     "start_time": "2023-05-21T10:48:40.431802Z"
    }
   },
   "outputs": [],
   "source": [
    "def reshape_stats(stats):\n",
    "    dicts = [stat.to_dict() for stat in stats]\n",
    "    keys = list(dicts[0].keys())\n",
    "    output = dict(zip(keys, ([] for i in range(len(keys)))))\n",
    "    for key in keys:\n",
    "        output[key] = [list(d[key].values()) for d in dicts]\n",
    "    return output"
   ]
  },
  {
   "cell_type": "code",
   "execution_count": 30,
   "id": "3a41f9e3",
   "metadata": {
    "ExecuteTime": {
     "end_time": "2023-05-21T10:48:40.473870Z",
     "start_time": "2023-05-21T10:48:40.446794Z"
    }
   },
   "outputs": [],
   "source": [
    "def aggregate2(stats, type_='std'):\n",
    "    stats_ = stats.copy()\n",
    "    keys = list(stats_.keys())\n",
    "    N = len(stats_[keys[0]][0])\n",
    "    for key in keys:\n",
    "        stats_[key] = np.array(stats_[key]).T\n",
    "        for j in range(len(stats_[key])):\n",
    "            stats_[key][j] = list(map(deconv, stats_[key][j]))\n",
    "        stats_[key] = stats_[key].astype('float')\n",
    "    \n",
    "    output = dict(zip(keys, ({} for i in range(len(keys)))))\n",
    "    for key in keys:\n",
    "        output[key]['mean'] = [np.mean(stats_[key][j]) for j in range(N)]\n",
    "        output[key]['std'] = [np.std(stats_[key][j]) for j in range(N)]\n",
    "        output[key]['abs_dev'] = [np.mean(np.abs(stats_[key][j] - output[key]['mean'][j])) for j in range(N)]\n",
    "\n",
    "    for key in keys:\n",
    "        output[key] = {k: list(map(conv, v)) for k, v in output[key].items()}\n",
    "    return output"
   ]
  },
  {
   "cell_type": "code",
   "execution_count": 31,
   "id": "c90f7d79",
   "metadata": {
    "ExecuteTime": {
     "end_time": "2023-05-21T10:48:40.489767Z",
     "start_time": "2023-05-21T10:48:40.477769Z"
    }
   },
   "outputs": [],
   "source": [
    "def get_stats(mean_log, logs, header, distribute=False):\n",
    "    strings = []\n",
    "    strings.append(f'| CASE: {header}')\n",
    "    strings.append(f'| Queue average size: ')\n",
    "    if not distribute:\n",
    "        v = mean_log['Queue'].mean()\n",
    "        strings.append(f'|   - main: {v}')\n",
    "    else:\n",
    "        vs = []\n",
    "        for i in range(len(mean_log['Agents'])):\n",
    "            v = mean_log['Agents'][i].mean()\n",
    "            vs.append(v)\n",
    "            strings.append(f'|   - agent{i}: {v}')\n",
    "        strings.append(f'|   - sum: {sum(vs)}')\n",
    "        strings.append(f'|   - avg: {sum(vs)/len(vs)}')\n",
    "    v = logs['n_working'].mean()\n",
    "    strings.append(f'| Average number of working agents: {v}')\n",
    "    max_length = max([len(st) for st in strings])\n",
    "    print('+'+'-'*(max_length) + '+')\n",
    "    for st in strings:\n",
    "        print(st)\n",
    "    print('+'+'-'*(max_length) + '+')    "
   ]
  },
  {
   "cell_type": "code",
   "execution_count": 32,
   "id": "ffc9758d",
   "metadata": {
    "ExecuteTime": {
     "end_time": "2023-05-21T10:48:40.505828Z",
     "start_time": "2023-05-21T10:48:40.493765Z"
    }
   },
   "outputs": [],
   "source": [
    "def change_log(logs):\n",
    "    for k in range(len(logs)):\n",
    "        for j in range(len(logs[k])):\n",
    "            logs[k][j]['Agents'] = dict([(k, max(v-1, 0)) for (k, v) in logs[k][j]['Agents'].items()])\n",
    "    return logs"
   ]
  },
  {
   "cell_type": "markdown",
   "id": "64ae1c63",
   "metadata": {},
   "source": [
    "# Runs"
   ]
  },
  {
   "cell_type": "markdown",
   "id": "02c457b5",
   "metadata": {
    "heading_collapsed": true
   },
   "source": [
    "## Parameters"
   ]
  },
  {
   "cell_type": "code",
   "execution_count": 33,
   "id": "1b6524f4",
   "metadata": {
    "ExecuteTime": {
     "end_time": "2023-05-25T19:34:44.236206Z",
     "start_time": "2023-05-25T19:34:42.808548Z"
    },
    "hidden": true
   },
   "outputs": [
    {
     "name": "stdout",
     "output_type": "stream",
     "text": [
      "+--------------------------------------------------\n",
      "| Time Range to consider:\n",
      "|  - from 7:00:00\n",
      "|  - to 19:00:00\n",
      "+--------------------------------------------------\n",
      "| Service Time params:\n",
      "|  1) Range: (0.5, 2.5) minutes\n",
      "|  2) Sampler params: {'P': [0, 1], 'I': [0.5, 1], 'alim': (1.5, 3), 'blim': (2, 3)}\n",
      "+--------------------------------------------------\n",
      "| Time Between Arrivals params:\n",
      "|  1) Range: (0.016666666666666666, 2) minutes\n",
      "|  2) Sampler params: {'P': [0, 0.15, 0.6, 0.9, 0.95, 1], 'I': [0.6, 0.08, 0.2, 0.05, 0.8, 1], 'alim': (2, 15), 'blim': (1, 15)}\n",
      "+--------------------------------------------------\n"
     ]
    }
   ],
   "source": [
    "AGENTS_NUMBER_RANGE = (4, 5)\n",
    "print(\"+\"+\"-\"*50)\n",
    "print(\"| Time Range to consider:\")\n",
    "print(f\"|  - from {timedelta(minutes=START_TIME)}\")\n",
    "print(f\"|  - to {timedelta(minutes=STOP_TIME)}\")\n",
    "print(\"+\"+\"-\"*50)\n",
    "print(\"| Service Time params:\")\n",
    "print(f\"|  1) Range: {SERVICE_TIME_RANGE} minutes\")\n",
    "print(f\"|  2) Sampler params: {SAMPLER_PARAMS1}\")\n",
    "print(\"+\"+\"-\"*50)\n",
    "print(\"| Time Between Arrivals params:\")\n",
    "print(f\"|  1) Range: {TIME_BETWEEN_ARRIVALS_RANGE} minutes\")\n",
    "print(f\"|  2) Sampler params: {SAMPLER_PARAMS2}\")\n",
    "print(\"+\"+\"-\"*50)"
   ]
  },
  {
   "cell_type": "code",
   "execution_count": 34,
   "id": "8e4e88d2",
   "metadata": {
    "ExecuteTime": {
     "end_time": "2023-05-21T15:01:03.903040Z",
     "start_time": "2023-05-21T15:01:03.891042Z"
    },
    "hidden": true
   },
   "outputs": [],
   "source": [
    "sampler_kwargs = {\"service_time_range\": SERVICE_TIME_RANGE, \n",
    "                 \"time_between_arrivals_range\": TIME_BETWEEN_ARRIVALS_RANGE,\n",
    "                 \"start_time\": START_TIME,\n",
    "                 \"stop_time\": STOP_TIME, \n",
    "                 \"sampler_params1\": SAMPLER_PARAMS1,\n",
    "                 \"sampler_params2\": SAMPLER_PARAMS2}\n",
    "model_kwargs = {\"agents_number_range\": AGENTS_NUMBER_RANGE, \n",
    "                \"customer_stats\": {\"timeBetweenArrivals\": None,\n",
    "                                   \"serviceTime\": None},\n",
    "                'time_between_arrivals_range': TIME_BETWEEN_ARRIVALS_RANGE,\n",
    "                \"start_time\": START_TIME,\n",
    "                \"stop_time\": STOP_TIME,\n",
    "                \"verbose\": False,\n",
    "                \"log_points_dt\": 10/60}\n",
    "N_RUNS = 1000"
   ]
  },
  {
   "cell_type": "code",
   "execution_count": 37,
   "id": "69ef2f5b",
   "metadata": {
    "ExecuteTime": {
     "end_time": "2023-05-21T14:28:27.183645Z",
     "start_time": "2023-05-21T14:28:13.823447Z"
    },
    "hidden": true
   },
   "outputs": [
    {
     "name": "stdout",
     "output_type": "stream",
     "text": [
      "1475 1138.9352087086627\n"
     ]
    }
   ],
   "source": [
    "STATS1, STATS2, T = sample(N_RUNS, **sampler_kwargs)"
   ]
  },
  {
   "cell_type": "code",
   "execution_count": 39,
   "id": "648b09e3",
   "metadata": {
    "ExecuteTime": {
     "end_time": "2023-05-21T08:32:36.577878Z",
     "start_time": "2023-05-21T08:32:36.266732Z"
    },
    "hidden": true
   },
   "outputs": [],
   "source": [
    "save_np(np.array(STATS1), 'HW4/STATS1.npy')\n",
    "save_np(np.array(STATS2), 'HW4/STATS2.npy')"
   ]
  },
  {
   "cell_type": "code",
   "execution_count": 40,
   "id": "930e56fc",
   "metadata": {
    "ExecuteTime": {
     "end_time": "2023-05-21T15:01:08.181941Z",
     "start_time": "2023-05-21T15:01:08.066977Z"
    },
    "hidden": true
   },
   "outputs": [
    {
     "data": {
      "text/plain": [
       "((1000, 1476), (1000, 1476))"
      ]
     },
     "execution_count": 40,
     "metadata": {},
     "output_type": "execute_result"
    }
   ],
   "source": [
    "STATS1 = read_np('HW4/STATS1.npy')\n",
    "STATS2 = read_np('HW4/STATS2.npy')\n",
    "STATS1.shape, STATS2.shape"
   ]
  },
  {
   "cell_type": "markdown",
   "id": "004068f2",
   "metadata": {
    "ExecuteTime": {
     "end_time": "2023-05-18T20:00:14.235562Z",
     "start_time": "2023-05-18T20:00:14.219524Z"
    }
   },
   "source": [
    "## Static Models"
   ]
  },
  {
   "cell_type": "markdown",
   "id": "e94a872d",
   "metadata": {},
   "source": [
    "### Static General Queue Model"
   ]
  },
  {
   "cell_type": "code",
   "execution_count": 42,
   "id": "4111d5e6",
   "metadata": {
    "ExecuteTime": {
     "end_time": "2023-05-21T15:12:28.090362Z",
     "start_time": "2023-05-21T15:01:46.549931Z"
    }
   },
   "outputs": [],
   "source": [
    "model_kwargs[\"distribute\"] = False\n",
    "model_kwargs[\"dynamic\"] = False\n",
    "#logs1, stats1 = simulations(N_RUNS, STATS1, STATS2, model_kwargs, seed=42)"
   ]
  },
  {
   "cell_type": "code",
   "execution_count": 43,
   "id": "c28080f1",
   "metadata": {
    "ExecuteTime": {
     "end_time": "2023-05-21T15:21:31.144516Z",
     "start_time": "2023-05-21T15:21:29.580516Z"
    }
   },
   "outputs": [],
   "source": [
    "#logs1 = reshape_logs(logs1, mode=1)\n",
    "#stats1 = reshape_stats(stats1)"
   ]
  },
  {
   "cell_type": "code",
   "execution_count": 44,
   "id": "23982e6d",
   "metadata": {
    "ExecuteTime": {
     "end_time": "2023-05-25T19:35:35.437242Z",
     "start_time": "2023-05-25T19:35:21.751645Z"
    }
   },
   "outputs": [
    {
     "ename": "FileNotFoundError",
     "evalue": "[Errno 2] No such file or directory: 'data2/logs1.json'",
     "output_type": "error",
     "traceback": [
      "\u001b[0;31m---------------------------------------------------------------------------\u001b[0m",
      "\u001b[0;31mFileNotFoundError\u001b[0m                         Traceback (most recent call last)",
      "Input \u001b[0;32mIn [44]\u001b[0m, in \u001b[0;36m<cell line: 3>\u001b[0;34m()\u001b[0m\n\u001b[1;32m      1\u001b[0m \u001b[38;5;66;03m#save(logs1, 'data2/logs1.json')\u001b[39;00m\n\u001b[1;32m      2\u001b[0m \u001b[38;5;66;03m#save(stats1, 'data2/stats1.json')\u001b[39;00m\n\u001b[0;32m----> 3\u001b[0m logs1 \u001b[38;5;241m=\u001b[39m \u001b[43mread\u001b[49m\u001b[43m(\u001b[49m\u001b[38;5;124;43m'\u001b[39;49m\u001b[38;5;124;43mdata2/logs1.json\u001b[39;49m\u001b[38;5;124;43m'\u001b[39;49m\u001b[43m)\u001b[49m\n\u001b[1;32m      4\u001b[0m stats1 \u001b[38;5;241m=\u001b[39m read(\u001b[38;5;124m'\u001b[39m\u001b[38;5;124mdata2/stats1.json\u001b[39m\u001b[38;5;124m'\u001b[39m)\n",
      "Input \u001b[0;32mIn [19]\u001b[0m, in \u001b[0;36mread\u001b[0;34m(filename)\u001b[0m\n\u001b[1;32m      1\u001b[0m \u001b[38;5;28;01mdef\u001b[39;00m \u001b[38;5;21mread\u001b[39m(filename):   \n\u001b[0;32m----> 2\u001b[0m     \u001b[38;5;28;01mreturn\u001b[39;00m json\u001b[38;5;241m.\u001b[39mload(\u001b[38;5;28;43mopen\u001b[39;49m\u001b[43m(\u001b[49m\u001b[43mfilename\u001b[49m\u001b[43m)\u001b[49m)\n",
      "\u001b[0;31mFileNotFoundError\u001b[0m: [Errno 2] No such file or directory: 'data2/logs1.json'"
     ]
    }
   ],
   "source": [
    "#save(logs1, 'data2/logs1.json')\n",
    "#save(stats1, 'data2/stats1.json')\n",
    "logs1 = read('data2/logs1.json')\n",
    "stats1 = read('data2/stats1.json')"
   ]
  },
  {
   "cell_type": "code",
   "execution_count": null,
   "id": "0c79b320",
   "metadata": {
    "ExecuteTime": {
     "end_time": "2023-05-25T19:36:00.152524Z",
     "start_time": "2023-05-25T19:35:55.270904Z"
    }
   },
   "outputs": [],
   "source": [
    "logs1 = reshape_logs(logs1, mode=2)"
   ]
  },
  {
   "cell_type": "code",
   "execution_count": null,
   "id": "95e60288",
   "metadata": {
    "ExecuteTime": {
     "end_time": "2023-05-25T19:37:32.636027Z",
     "start_time": "2023-05-25T19:37:32.625884Z"
    }
   },
   "outputs": [],
   "source": [
    "a = logs1['Queue'][:,1000]"
   ]
  },
  {
   "cell_type": "code",
   "execution_count": null,
   "id": "de5c59ed",
   "metadata": {
    "ExecuteTime": {
     "end_time": "2023-05-25T20:02:21.266888Z",
     "start_time": "2023-05-25T20:02:20.768850Z"
    }
   },
   "outputs": [],
   "source": [
    "plt.hist(logs1['Queue'][:,1000], bins=len(set(logs1['Queue'][:,1000])))"
   ]
  },
  {
   "cell_type": "code",
   "execution_count": null,
   "id": "8d58586e",
   "metadata": {
    "ExecuteTime": {
     "end_time": "2023-05-25T20:05:21.910605Z",
     "start_time": "2023-05-25T20:05:21.785570Z"
    }
   },
   "outputs": [],
   "source": [
    "pd.DataFrame(logs1['Queue'][:,1000]).value_counts()"
   ]
  },
  {
   "cell_type": "code",
   "execution_count": null,
   "id": "ce744096",
   "metadata": {
    "ExecuteTime": {
     "end_time": "2023-05-25T20:07:43.570037Z",
     "start_time": "2023-05-25T20:07:43.547036Z"
    }
   },
   "outputs": [],
   "source": [
    "from scipy.stats import expon"
   ]
  },
  {
   "cell_type": "code",
   "execution_count": null,
   "id": "ce98c0e9",
   "metadata": {
    "ExecuteTime": {
     "end_time": "2023-05-25T20:08:11.884291Z",
     "start_time": "2023-05-25T20:08:11.825292Z"
    }
   },
   "outputs": [],
   "source": [
    "q = expon(10).rvs(10000)\n",
    "q.mean(), np.std(q)"
   ]
  },
  {
   "cell_type": "code",
   "execution_count": null,
   "id": "34cf048c",
   "metadata": {
    "ExecuteTime": {
     "end_time": "2023-05-25T20:08:40.153473Z",
     "start_time": "2023-05-25T20:08:39.669430Z"
    }
   },
   "outputs": [],
   "source": [
    "plt.hist(q)"
   ]
  },
  {
   "cell_type": "code",
   "execution_count": null,
   "id": "17cda4c9",
   "metadata": {
    "ExecuteTime": {
     "end_time": "2023-05-25T20:06:01.214842Z",
     "start_time": "2023-05-25T20:06:01.139743Z"
    }
   },
   "outputs": [],
   "source": [
    "q = beta(10, 1).rvs(10000)\n",
    "q.mean(), np.std(q)"
   ]
  },
  {
   "cell_type": "code",
   "execution_count": null,
   "id": "c8c8500e",
   "metadata": {
    "ExecuteTime": {
     "end_time": "2023-05-25T20:13:19.907079Z",
     "start_time": "2023-05-25T20:13:19.884077Z"
    }
   },
   "outputs": [],
   "source": [
    "q = logs1['Queue'][:,1000]\n",
    "#q = q[q > 0]\n",
    "q.mean()/np.std(q)"
   ]
  },
  {
   "cell_type": "code",
   "execution_count": null,
   "id": "1ed1d593",
   "metadata": {
    "ExecuteTime": {
     "end_time": "2023-05-25T20:01:17.332139Z",
     "start_time": "2023-05-25T20:01:17.300106Z"
    }
   },
   "outputs": [],
   "source": [
    "a = np.random.randint(0, 10, 10000)\n",
    "a.mean(), np.std(a)"
   ]
  },
  {
   "cell_type": "code",
   "execution_count": null,
   "id": "2cefeecf",
   "metadata": {
    "ExecuteTime": {
     "end_time": "2023-05-25T19:37:43.404814Z",
     "start_time": "2023-05-25T19:37:43.384815Z"
    }
   },
   "outputs": [],
   "source": [
    "np.std(a)"
   ]
  },
  {
   "cell_type": "code",
   "execution_count": null,
   "id": "0bbfe2d6",
   "metadata": {
    "ExecuteTime": {
     "end_time": "2023-05-25T19:40:53.265304Z",
     "start_time": "2023-05-25T19:40:53.219602Z"
    }
   },
   "outputs": [],
   "source": [
    "(np.mean((a - a.mean())**2))**(0.5)"
   ]
  },
  {
   "cell_type": "code",
   "execution_count": null,
   "id": "da9741bd",
   "metadata": {},
   "outputs": [],
   "source": []
  },
  {
   "cell_type": "code",
   "execution_count": null,
   "id": "27cc850c",
   "metadata": {},
   "outputs": [],
   "source": [
    "a = np"
   ]
  },
  {
   "cell_type": "code",
   "execution_count": null,
   "id": "8271004b",
   "metadata": {},
   "outputs": [],
   "source": [
    "\"\"\"\n",
    "mean > std\n",
    "(a + b)/2 * (a + b)/2  > ((a - (a + b)/2)**2 + (b - (a + b)/2)**2)/2\n",
    "aa + 2ab + bb  > (a - b)**2\n",
    "aa + 2ab + bb  > aa - 2ab + bb\n",
    "ab > 0\n",
    "\n",
    "N * mean**2  >  (a1 - mean)**2 + ... + (aN - mean)**2\n",
    "0  >  a1**2 + ... + aN**2 - 2*mean*(a1 + ... + aN)\n",
    "2*(a1 + ... + aN)**2  > N*(a1**2 + ... + aN**2)\n",
    "\"\"\""
   ]
  },
  {
   "cell_type": "code",
   "execution_count": null,
   "id": "7ba1c05b",
   "metadata": {
    "ExecuteTime": {
     "end_time": "2023-05-25T19:58:57.002320Z",
     "start_time": "2023-05-25T19:58:56.951314Z"
    }
   },
   "outputs": [],
   "source": [
    "2*(a.sum())**2, len(a)*sum(a**2)"
   ]
  },
  {
   "cell_type": "code",
   "execution_count": null,
   "id": "721220db",
   "metadata": {
    "ExecuteTime": {
     "end_time": "2023-05-25T20:10:13.251007Z",
     "start_time": "2023-05-25T20:10:13.235883Z"
    }
   },
   "outputs": [],
   "source": [
    "2*(q.sum())**2/(len(q)*sum(q**2))"
   ]
  },
  {
   "cell_type": "code",
   "execution_count": null,
   "id": "f11c0be6",
   "metadata": {
    "ExecuteTime": {
     "end_time": "2023-05-25T19:38:23.467314Z",
     "start_time": "2023-05-25T19:38:23.422319Z"
    }
   },
   "outputs": [],
   "source": [
    "a.mean()"
   ]
  },
  {
   "cell_type": "code",
   "execution_count": null,
   "id": "d6718a8e",
   "metadata": {
    "ExecuteTime": {
     "end_time": "2023-05-21T15:25:24.254137Z",
     "start_time": "2023-05-21T15:25:23.144331Z"
    }
   },
   "outputs": [],
   "source": [
    "mean_log1, top_log1, bottom_log1 = aggregate1(logs1)\n",
    "stat1 = aggregate2(stats1)"
   ]
  },
  {
   "cell_type": "markdown",
   "id": "6337bc9e",
   "metadata": {
    "heading_collapsed": true
   },
   "source": [
    "### Static Shortest Queue Model"
   ]
  },
  {
   "cell_type": "code",
   "execution_count": null,
   "id": "33e4f41d",
   "metadata": {
    "ExecuteTime": {
     "end_time": "2023-05-21T15:41:00.709197Z",
     "start_time": "2023-05-21T15:25:33.412958Z"
    },
    "hidden": true
   },
   "outputs": [],
   "source": [
    "model_kwargs[\"distribute\"] = True\n",
    "model_kwargs[\"dynamic\"] = False\n",
    "#logs2, stats2 = simulations(N_RUNS, STATS1, STATS2, model_kwargs, seed=42)"
   ]
  },
  {
   "cell_type": "code",
   "execution_count": null,
   "id": "e40b15c5",
   "metadata": {
    "ExecuteTime": {
     "end_time": "2023-05-21T15:42:26.063382Z",
     "start_time": "2023-05-21T15:42:22.465427Z"
    },
    "hidden": true
   },
   "outputs": [],
   "source": [
    "#logs2 = reshape_logs(logs2, mode=1)\n",
    "#stats2 = reshape_stats(stats2)"
   ]
  },
  {
   "cell_type": "code",
   "execution_count": null,
   "id": "cb560ece",
   "metadata": {
    "ExecuteTime": {
     "end_time": "2023-05-21T15:44:34.364082Z",
     "start_time": "2023-05-21T15:44:23.739627Z"
    },
    "hidden": true
   },
   "outputs": [],
   "source": [
    "#save(stats2, 'data2/stats2.json')\n",
    "#save(logs2, 'data2/logs2.json')\n",
    "logs2 = read('data2/logs2.json')\n",
    "stats2 = read('data2/stats2.json')"
   ]
  },
  {
   "cell_type": "code",
   "execution_count": null,
   "id": "a1ec000e",
   "metadata": {
    "ExecuteTime": {
     "end_time": "2023-05-21T15:44:38.886595Z",
     "start_time": "2023-05-21T15:44:35.390011Z"
    },
    "hidden": true
   },
   "outputs": [],
   "source": [
    "logs2 = reshape_logs(logs2, mode=2)"
   ]
  },
  {
   "cell_type": "code",
   "execution_count": null,
   "id": "0badb51d",
   "metadata": {
    "ExecuteTime": {
     "end_time": "2023-05-21T15:44:42.780352Z",
     "start_time": "2023-05-21T15:44:41.605630Z"
    },
    "hidden": true
   },
   "outputs": [],
   "source": [
    "mean_log2, top_log2, bottom_log2 = aggregate1(logs2)\n",
    "stat2 = aggregate2(stats2)"
   ]
  },
  {
   "cell_type": "markdown",
   "id": "5cc84025",
   "metadata": {},
   "source": [
    "### Comparison"
   ]
  },
  {
   "cell_type": "code",
   "execution_count": null,
   "id": "82947fd8",
   "metadata": {
    "ExecuteTime": {
     "end_time": "2023-05-21T15:45:00.411911Z",
     "start_time": "2023-05-21T15:44:59.644325Z"
    }
   },
   "outputs": [],
   "source": [
    "key = 'std'\n",
    "plot2([mean_log1, mean_log2], \n",
    "      [top_log1[key], top_log2[key]],\n",
    "      [bottom_log1[key], bottom_log2[key]],\n",
    "      lw=2, title='Static Model / std deviation')"
   ]
  },
  {
   "cell_type": "code",
   "execution_count": null,
   "id": "3be9f6f4",
   "metadata": {
    "ExecuteTime": {
     "end_time": "2023-05-21T15:45:16.599468Z",
     "start_time": "2023-05-21T15:45:15.975460Z"
    }
   },
   "outputs": [],
   "source": [
    "key = 'mean_abs_dev'\n",
    "plot2([mean_log1, mean_log2], \n",
    "      [top_log1[key], top_log2[key]],\n",
    "      [bottom_log1[key], bottom_log2[key]],\n",
    "      lw=2, title='Static Model / mean absolute deviation')"
   ]
  },
  {
   "cell_type": "code",
   "execution_count": null,
   "id": "72f7712d",
   "metadata": {
    "ExecuteTime": {
     "end_time": "2023-05-21T15:45:28.788812Z",
     "start_time": "2023-05-21T15:45:28.687806Z"
    }
   },
   "outputs": [],
   "source": [
    "get_stats(mean_log1, logs1, 'Static General Queue Model', distribute=False)\n",
    "get_stats(mean_log2, logs2, 'Static Shortest Queue Model', distribute=True)"
   ]
  },
  {
   "cell_type": "code",
   "execution_count": null,
   "id": "3782f326",
   "metadata": {
    "ExecuteTime": {
     "end_time": "2023-05-21T15:45:50.965709Z",
     "start_time": "2023-05-21T15:45:50.900681Z"
    }
   },
   "outputs": [],
   "source": [
    "print('Static General Queue Model')\n",
    "pd.DataFrame(stat1)"
   ]
  },
  {
   "cell_type": "code",
   "execution_count": null,
   "id": "05d3aace",
   "metadata": {
    "ExecuteTime": {
     "end_time": "2023-05-21T15:45:52.887620Z",
     "start_time": "2023-05-21T15:45:52.863578Z"
    }
   },
   "outputs": [],
   "source": [
    "print('Static Shortest Queue Model')\n",
    "pd.DataFrame(stat2)"
   ]
  },
  {
   "cell_type": "markdown",
   "id": "ea99548b",
   "metadata": {},
   "source": [
    "## Dynamic Model"
   ]
  },
  {
   "cell_type": "markdown",
   "id": "fe058786",
   "metadata": {
    "heading_collapsed": true
   },
   "source": [
    "### Dynamic General Queue Model"
   ]
  },
  {
   "cell_type": "code",
   "execution_count": null,
   "id": "00a6a3a0",
   "metadata": {
    "ExecuteTime": {
     "end_time": "2023-05-21T16:00:51.845795Z",
     "start_time": "2023-05-21T15:46:21.687913Z"
    },
    "hidden": true
   },
   "outputs": [],
   "source": [
    "model_kwargs[\"distribute\"] = False\n",
    "model_kwargs[\"dynamic\"] = True\n",
    "logs3, stats3 = simulations(N_RUNS, STATS1, STATS2, model_kwargs, seed=42)"
   ]
  },
  {
   "cell_type": "code",
   "execution_count": null,
   "id": "bc125d03",
   "metadata": {
    "ExecuteTime": {
     "end_time": "2023-05-21T16:01:03.716574Z",
     "start_time": "2023-05-21T16:01:00.014073Z"
    },
    "hidden": true
   },
   "outputs": [],
   "source": [
    "logs3 = reshape_logs(logs3, mode=1)\n",
    "stats3 = reshape_stats(stats3)"
   ]
  },
  {
   "cell_type": "code",
   "execution_count": null,
   "id": "c65e1f56",
   "metadata": {
    "ExecuteTime": {
     "end_time": "2023-05-21T16:03:13.921733Z",
     "start_time": "2023-05-21T16:03:01.106621Z"
    },
    "hidden": true
   },
   "outputs": [],
   "source": [
    "#save(logs3, 'data2/logs3.json')\n",
    "#save(stats3, 'data2/stats3.json')\n",
    "logs3 = read('data2/logs3.json')\n",
    "stats3 = read('data2/stats3.json')"
   ]
  },
  {
   "cell_type": "code",
   "execution_count": null,
   "id": "9a3c17a6",
   "metadata": {
    "ExecuteTime": {
     "end_time": "2023-05-21T16:03:18.538608Z",
     "start_time": "2023-05-21T16:03:14.763008Z"
    },
    "hidden": true
   },
   "outputs": [],
   "source": [
    "logs3 = reshape_logs(logs3, mode=2)"
   ]
  },
  {
   "cell_type": "code",
   "execution_count": null,
   "id": "821241ff",
   "metadata": {
    "ExecuteTime": {
     "end_time": "2023-05-21T16:03:21.341630Z",
     "start_time": "2023-05-21T16:03:19.893607Z"
    },
    "hidden": true
   },
   "outputs": [],
   "source": [
    "mean_log3, top_log3, bottom_log3 = aggregate1(logs3)\n",
    "stat3 = aggregate2(stats3)"
   ]
  },
  {
   "cell_type": "markdown",
   "id": "23cb4067",
   "metadata": {
    "heading_collapsed": true
   },
   "source": [
    "### Dynamic Shortest Queue Model"
   ]
  },
  {
   "cell_type": "code",
   "execution_count": null,
   "id": "7f120968",
   "metadata": {
    "ExecuteTime": {
     "end_time": "2023-05-21T16:19:45.572213Z",
     "start_time": "2023-05-21T16:03:24.297280Z"
    },
    "hidden": true
   },
   "outputs": [
    {
     "data": {
      "application/vnd.jupyter.widget-view+json": {
       "model_id": "",
       "version_major": 2,
       "version_minor": 0
      },
      "text/plain": [
       "  0%|          | 0/1000 [00:00<?, ?it/s]"
      ]
     },
     "metadata": {},
     "output_type": "display_data"
    }
   ],
   "source": [
    "model_kwargs[\"distribute\"] = True\n",
    "model_kwargs[\"dynamic\"] = True\n",
    "logs4, stats4 = simulations(N_RUNS, STATS1, STATS2, model_kwargs, seed=42)"
   ]
  },
  {
   "cell_type": "code",
   "execution_count": null,
   "id": "1c3fca4c",
   "metadata": {
    "ExecuteTime": {
     "end_time": "2023-05-21T16:20:34.265969Z",
     "start_time": "2023-05-21T16:20:32.040659Z"
    },
    "hidden": true
   },
   "outputs": [],
   "source": [
    "logs4 = reshape_logs(logs4, mode=1)\n",
    "stats4 = reshape_stats(stats4)"
   ]
  },
  {
   "cell_type": "code",
   "execution_count": null,
   "id": "34db7035",
   "metadata": {
    "ExecuteTime": {
     "end_time": "2023-05-21T16:22:10.908564Z",
     "start_time": "2023-05-21T16:21:58.214036Z"
    },
    "hidden": true
   },
   "outputs": [],
   "source": [
    "#save(logs4, 'data2/logs4.json')\n",
    "#save(stats4, 'data2/stats4.json')\n",
    "logs4 = read('data2/logs4.json')\n",
    "stats4 = read('data2/stats4.json')"
   ]
  },
  {
   "cell_type": "code",
   "execution_count": null,
   "id": "5066a9db",
   "metadata": {
    "ExecuteTime": {
     "end_time": "2023-05-21T16:22:17.034883Z",
     "start_time": "2023-05-21T16:22:13.266884Z"
    },
    "hidden": true
   },
   "outputs": [],
   "source": [
    "logs4 = reshape_logs(logs4, mode=2)"
   ]
  },
  {
   "cell_type": "code",
   "execution_count": null,
   "id": "b12b69f0",
   "metadata": {
    "ExecuteTime": {
     "end_time": "2023-05-21T16:22:18.793875Z",
     "start_time": "2023-05-21T16:22:17.432844Z"
    },
    "hidden": true
   },
   "outputs": [],
   "source": [
    "mean_log4, top_log4, bottom_log4 = aggregate1(logs4)\n",
    "stat4 = aggregate2(stats4)"
   ]
  },
  {
   "cell_type": "markdown",
   "id": "417c89ec",
   "metadata": {},
   "source": [
    "### Comparison"
   ]
  },
  {
   "cell_type": "code",
   "execution_count": null,
   "id": "046c5601",
   "metadata": {
    "ExecuteTime": {
     "end_time": "2023-05-21T16:22:33.142838Z",
     "start_time": "2023-05-21T16:22:32.149909Z"
    }
   },
   "outputs": [],
   "source": [
    "key = 'std'\n",
    "plot2([mean_log3, mean_log4], \n",
    "      [top_log3[key], top_log4[key]],\n",
    "      [bottom_log3[key], bottom_log4[key]],\n",
    "      lw=2, title='Dynamic Model / std deviation')"
   ]
  },
  {
   "cell_type": "code",
   "execution_count": null,
   "id": "49a5d265",
   "metadata": {
    "ExecuteTime": {
     "end_time": "2023-05-21T16:22:54.300978Z",
     "start_time": "2023-05-21T16:22:53.592980Z"
    }
   },
   "outputs": [],
   "source": [
    "key = 'mean_abs_dev'\n",
    "plot2([mean_log3, mean_log4], \n",
    "      [top_log3[key], top_log4[key]],\n",
    "      [bottom_log3[key], bottom_log4[key]],\n",
    "      lw=2, title='Dynamic Model / mean absolute deviation')"
   ]
  },
  {
   "cell_type": "code",
   "execution_count": null,
   "id": "4e0d0d2f",
   "metadata": {
    "ExecuteTime": {
     "end_time": "2023-05-21T16:23:17.304346Z",
     "start_time": "2023-05-21T16:23:17.159344Z"
    }
   },
   "outputs": [],
   "source": [
    "get_stats(mean_log3, logs3, 'Dynamic General Queue Model', distribute=False)\n",
    "get_stats(mean_log4, logs4, 'Dynamic Shortest Queue Model', distribute=True)"
   ]
  },
  {
   "cell_type": "code",
   "execution_count": null,
   "id": "c1cf99d6",
   "metadata": {
    "ExecuteTime": {
     "end_time": "2023-05-21T16:23:44.666992Z",
     "start_time": "2023-05-21T16:23:44.523330Z"
    }
   },
   "outputs": [],
   "source": [
    "print('Dynamic General Queue Model')\n",
    "pd.DataFrame(stat3)"
   ]
  },
  {
   "cell_type": "code",
   "execution_count": null,
   "id": "5c16214a",
   "metadata": {
    "ExecuteTime": {
     "end_time": "2023-05-21T16:23:51.554242Z",
     "start_time": "2023-05-21T16:23:51.525240Z"
    }
   },
   "outputs": [],
   "source": [
    "print('Dynamic Shortest Queue Model')\n",
    "pd.DataFrame(stat4)"
   ]
  },
  {
   "cell_type": "code",
   "execution_count": null,
   "id": "2b01bc6b",
   "metadata": {},
   "outputs": [],
   "source": []
  }
 ],
 "metadata": {
  "kernelspec": {
   "display_name": "Python 3 (ipykernel)",
   "language": "python",
   "name": "python3"
  },
  "language_info": {
   "codemirror_mode": {
    "name": "ipython",
    "version": 3
   },
   "file_extension": ".py",
   "mimetype": "text/x-python",
   "name": "python",
   "nbconvert_exporter": "python",
   "pygments_lexer": "ipython3",
   "version": "3.10.6"
  },
  "toc": {
   "base_numbering": 1,
   "nav_menu": {},
   "number_sections": true,
   "sideBar": true,
   "skip_h1_title": false,
   "title_cell": "Table of Contents",
   "title_sidebar": "Contents",
   "toc_cell": false,
   "toc_position": {},
   "toc_section_display": true,
   "toc_window_display": false
  },
  "varInspector": {
   "cols": {
    "lenName": 16,
    "lenType": 16,
    "lenVar": 40
   },
   "kernels_config": {
    "python": {
     "delete_cmd_postfix": "",
     "delete_cmd_prefix": "del ",
     "library": "var_list.py",
     "varRefreshCmd": "print(var_dic_list())"
    },
    "r": {
     "delete_cmd_postfix": ") ",
     "delete_cmd_prefix": "rm(",
     "library": "var_list.r",
     "varRefreshCmd": "cat(var_dic_list()) "
    }
   },
   "types_to_exclude": [
    "module",
    "function",
    "builtin_function_or_method",
    "instance",
    "_Feature"
   ],
   "window_display": false
  }
 },
 "nbformat": 4,
 "nbformat_minor": 5
}
