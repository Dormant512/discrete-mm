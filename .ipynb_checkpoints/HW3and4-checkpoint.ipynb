{
 "cells": [
  {
   "cell_type": "markdown",
   "id": "b8ef9180",
   "metadata": {},
   "source": [
    "# Homeworks 3, 4\n",
    "\n",
    "Student: Grigoryev Mikhail\n",
    "\n",
    "Group: J4133c"
   ]
  },
  {
   "cell_type": "code",
   "execution_count": 1,
   "id": "b7e79b41",
   "metadata": {},
   "outputs": [],
   "source": [
    "import pandas as pd\n",
    "import numpy as np\n",
    "import matplotlib.pyplot as plt\n",
    "\n",
    "import os\n",
    "import time\n",
    "\n",
    "import warnings\n",
    "warnings.filterwarnings('ignore')\n",
    "\n",
    "plt.rcParams[\"figure.facecolor\"] = \"white\"\n",
    "plt.rcParams[\"figure.figsize\"] = (10, 6)"
   ]
  },
  {
   "cell_type": "code",
   "execution_count": 2,
   "id": "64c63622",
   "metadata": {},
   "outputs": [],
   "source": [
    "def generateConsts(dynamic=True, min_workers=4, max_workers=10):\n",
    "    constants = [\n",
    "        \"package main\",\n",
    "        \"\",\n",
    "        \"const (\",\n",
    "        \"\\tWORKTIME int = 100\",\n",
    "        \"\\tARRIVETIME int = 5\",\n",
    "        \"\\tCUSTOMERS int = 500\",\n",
    "        f\"\\tMINWORKERS int = {min_workers}\",\n",
    "        f\"\\tMAXWORKERS int = {max_workers}\",\n",
    "        \"\\tMAXCHILL float64 = 5\",\n",
    "        f\"\\tDYNAMIC bool = {'true' if dynamic else 'false'}\",\n",
    "        \")\"\n",
    "    ]\n",
    "    with open(\"./constants.go\", \"w\") as f:\n",
    "        f.writelines(line+'\\n' for line in constants)"
   ]
  },
  {
   "cell_type": "code",
   "execution_count": 3,
   "id": "4a96a0af",
   "metadata": {},
   "outputs": [
    {
     "name": "stdout",
     "output_type": "stream",
     "text": [
      "/home/dormant/discrete-mm\n"
     ]
    }
   ],
   "source": [
    "print(os.getcwd())\n",
    "os.chdir(\"./q\")"
   ]
  },
  {
   "cell_type": "markdown",
   "id": "f5d4c8e0",
   "metadata": {},
   "source": [
    "Looking at CSV structure:"
   ]
  },
  {
   "cell_type": "code",
   "execution_count": 4,
   "id": "0fecd46e",
   "metadata": {},
   "outputs": [],
   "source": [
    "generateConsts()\n",
    "os.system(\"go run .\")\n",
    "df_cli = pd.read_csv(f\"./logs/clients_dynamic_true_4.csv\")\n",
    "df_serv = pd.read_csv(f\"./logs/servers_dynamic_true_4.csv\")"
   ]
  },
  {
   "cell_type": "code",
   "execution_count": 5,
   "id": "521f4907",
   "metadata": {},
   "outputs": [
    {
     "data": {
      "text/html": [
       "<div>\n",
       "<style scoped>\n",
       "    .dataframe tbody tr th:only-of-type {\n",
       "        vertical-align: middle;\n",
       "    }\n",
       "\n",
       "    .dataframe tbody tr th {\n",
       "        vertical-align: top;\n",
       "    }\n",
       "\n",
       "    .dataframe thead th {\n",
       "        text-align: right;\n",
       "    }\n",
       "</style>\n",
       "<table border=\"1\" class=\"dataframe\">\n",
       "  <thead>\n",
       "    <tr style=\"text-align: right;\">\n",
       "      <th></th>\n",
       "      <th>Customer</th>\n",
       "      <th>Cashier</th>\n",
       "      <th>Created</th>\n",
       "      <th>ArrivedQueue</th>\n",
       "      <th>ArrivedCashier</th>\n",
       "      <th>Left</th>\n",
       "      <th>PeopleBefore</th>\n",
       "    </tr>\n",
       "  </thead>\n",
       "  <tbody>\n",
       "    <tr>\n",
       "      <th>495</th>\n",
       "      <td>497</td>\n",
       "      <td>8</td>\n",
       "      <td>1686053598680</td>\n",
       "      <td>1686053599754</td>\n",
       "      <td>1686053601300</td>\n",
       "      <td>1686053601362</td>\n",
       "      <td>27</td>\n",
       "    </tr>\n",
       "    <tr>\n",
       "      <th>496</th>\n",
       "      <td>455</td>\n",
       "      <td>1</td>\n",
       "      <td>1686053598680</td>\n",
       "      <td>1686053599664</td>\n",
       "      <td>1686053601348</td>\n",
       "      <td>1686053601402</td>\n",
       "      <td>24</td>\n",
       "    </tr>\n",
       "    <tr>\n",
       "      <th>497</th>\n",
       "      <td>470</td>\n",
       "      <td>1</td>\n",
       "      <td>1686053598680</td>\n",
       "      <td>1686053599702</td>\n",
       "      <td>1686053601402</td>\n",
       "      <td>1686053601495</td>\n",
       "      <td>25</td>\n",
       "    </tr>\n",
       "    <tr>\n",
       "      <th>498</th>\n",
       "      <td>479</td>\n",
       "      <td>1</td>\n",
       "      <td>1686053598680</td>\n",
       "      <td>1686053599722</td>\n",
       "      <td>1686053601495</td>\n",
       "      <td>1686053601539</td>\n",
       "      <td>25</td>\n",
       "    </tr>\n",
       "    <tr>\n",
       "      <th>499</th>\n",
       "      <td>485</td>\n",
       "      <td>1</td>\n",
       "      <td>1686053598680</td>\n",
       "      <td>1686053599737</td>\n",
       "      <td>1686053601539</td>\n",
       "      <td>1686053601634</td>\n",
       "      <td>26</td>\n",
       "    </tr>\n",
       "  </tbody>\n",
       "</table>\n",
       "</div>"
      ],
      "text/plain": [
       "     Customer  Cashier        Created   ArrivedQueue  ArrivedCashier  \\\n",
       "495       497        8  1686053598680  1686053599754   1686053601300   \n",
       "496       455        1  1686053598680  1686053599664   1686053601348   \n",
       "497       470        1  1686053598680  1686053599702   1686053601402   \n",
       "498       479        1  1686053598680  1686053599722   1686053601495   \n",
       "499       485        1  1686053598680  1686053599737   1686053601539   \n",
       "\n",
       "              Left  PeopleBefore  \n",
       "495  1686053601362            27  \n",
       "496  1686053601402            24  \n",
       "497  1686053601495            25  \n",
       "498  1686053601539            25  \n",
       "499  1686053601634            26  "
      ]
     },
     "execution_count": 5,
     "metadata": {},
     "output_type": "execute_result"
    }
   ],
   "source": [
    "df_cli.tail()"
   ]
  },
  {
   "cell_type": "code",
   "execution_count": 6,
   "id": "2badaa30",
   "metadata": {},
   "outputs": [
    {
     "data": {
      "text/html": [
       "<div>\n",
       "<style scoped>\n",
       "    .dataframe tbody tr th:only-of-type {\n",
       "        vertical-align: middle;\n",
       "    }\n",
       "\n",
       "    .dataframe tbody tr th {\n",
       "        vertical-align: top;\n",
       "    }\n",
       "\n",
       "    .dataframe thead th {\n",
       "        text-align: right;\n",
       "    }\n",
       "</style>\n",
       "<table border=\"1\" class=\"dataframe\">\n",
       "  <thead>\n",
       "    <tr style=\"text-align: right;\">\n",
       "      <th></th>\n",
       "      <th>Server</th>\n",
       "      <th>Action</th>\n",
       "      <th>Time</th>\n",
       "    </tr>\n",
       "  </thead>\n",
       "  <tbody>\n",
       "    <tr>\n",
       "      <th>0</th>\n",
       "      <td>1</td>\n",
       "      <td>CREATED</td>\n",
       "      <td>1686053598680</td>\n",
       "    </tr>\n",
       "    <tr>\n",
       "      <th>5</th>\n",
       "      <td>1</td>\n",
       "      <td>STARTED</td>\n",
       "      <td>1686053598689</td>\n",
       "    </tr>\n",
       "    <tr>\n",
       "      <th>6</th>\n",
       "      <td>1</td>\n",
       "      <td>FINISHED</td>\n",
       "      <td>1686053598707</td>\n",
       "    </tr>\n",
       "    <tr>\n",
       "      <th>28</th>\n",
       "      <td>1</td>\n",
       "      <td>STARTED</td>\n",
       "      <td>1686053598707</td>\n",
       "    </tr>\n",
       "    <tr>\n",
       "      <th>29</th>\n",
       "      <td>1</td>\n",
       "      <td>FINISHED</td>\n",
       "      <td>1686053598773</td>\n",
       "    </tr>\n",
       "    <tr>\n",
       "      <th>54</th>\n",
       "      <td>1</td>\n",
       "      <td>STARTED</td>\n",
       "      <td>1686053598773</td>\n",
       "    </tr>\n",
       "    <tr>\n",
       "      <th>55</th>\n",
       "      <td>1</td>\n",
       "      <td>FINISHED</td>\n",
       "      <td>1686053598845</td>\n",
       "    </tr>\n",
       "    <tr>\n",
       "      <th>66</th>\n",
       "      <td>1</td>\n",
       "      <td>STARTED</td>\n",
       "      <td>1686053598845</td>\n",
       "    </tr>\n",
       "    <tr>\n",
       "      <th>67</th>\n",
       "      <td>1</td>\n",
       "      <td>FINISHED</td>\n",
       "      <td>1686053598887</td>\n",
       "    </tr>\n",
       "    <tr>\n",
       "      <th>90</th>\n",
       "      <td>1</td>\n",
       "      <td>STARTED</td>\n",
       "      <td>1686053598887</td>\n",
       "    </tr>\n",
       "  </tbody>\n",
       "</table>\n",
       "</div>"
      ],
      "text/plain": [
       "    Server    Action           Time\n",
       "0        1   CREATED  1686053598680\n",
       "5        1   STARTED  1686053598689\n",
       "6        1  FINISHED  1686053598707\n",
       "28       1   STARTED  1686053598707\n",
       "29       1  FINISHED  1686053598773\n",
       "54       1   STARTED  1686053598773\n",
       "55       1  FINISHED  1686053598845\n",
       "66       1   STARTED  1686053598845\n",
       "67       1  FINISHED  1686053598887\n",
       "90       1   STARTED  1686053598887"
      ]
     },
     "execution_count": 6,
     "metadata": {},
     "output_type": "execute_result"
    }
   ],
   "source": [
    "df_serv[df_serv[\"Server\"] == 1].head(10)"
   ]
  },
  {
   "cell_type": "code",
   "execution_count": 7,
   "id": "c99a383b",
   "metadata": {},
   "outputs": [],
   "source": [
    "def getMetrics(dyn=True, minw=4, maxw=10):\n",
    "    start_time = time.time()\n",
    "    generateConsts(dyn, minw, maxw)\n",
    "    os.system(\"go run .\")\n",
    "    df_cli = pd.read_csv(f\"./logs/clients_dynamic_{'true' if dyn else 'false'}_{minw}.csv\")\n",
    "    df_serv = pd.read_csv(f\"./logs/servers_dynamic_{'true' if dyn else 'false'}_{minw}.csv\")\n",
    "    \n",
    "    metrics = {}\n",
    "    waiters = df_cli[df_cli[\"ArrivedCashier\"] - df_cli[\"ArrivedQueue\"] > 0]\n",
    "    metrics[\"avg_wait_time\"] = (df_cli[\"ArrivedCashier\"] - df_cli[\"ArrivedQueue\"]).mean()\n",
    "    metrics[\"prob_wait\"] = len(waiters) / len(df_cli)\n",
    "    metrics[\"avg_service_time\"] = (df_cli[\"Left\"] - df_cli[\"ArrivedCashier\"]).mean()\n",
    "    metrics[\"avg_wait_time_waiters\"] = (\n",
    "        waiters[\"ArrivedCashier\"] - waiters[\"ArrivedQueue\"]\n",
    "    ).mean()\n",
    "    metrics[\"avg_sys_time\"] = (df_cli[\"Left\"] - df_cli[\"ArrivedQueue\"]).mean()\n",
    "    \n",
    "    arrivals = []\n",
    "    idles = []\n",
    "    works = []\n",
    "    \n",
    "    for i in range(maxw):\n",
    "        cur_cli = df_cli[df_cli[\"Cashier\"] == i]\n",
    "        cur_serv = df_serv[df_serv[\"Server\"] == i]\n",
    "        \n",
    "        if len(cur_cli) == 0:\n",
    "            continue\n",
    "        \n",
    "        arrivals.append(cur_cli.diff()[\"ArrivedCashier\"].mean())\n",
    "        \n",
    "        to_drop = [idx for idx in cur_serv.index[cur_serv[\"Action\"] == \"DELETED\"]]\n",
    "        to_drop.extend([idx+1 for idx in to_drop])\n",
    "        cur_serv.drop(to_drop, inplace=True)\n",
    "        # left with created-started-finished-started-finished-...-finished\n",
    "        #            odd[0]-even[0]- odd[1] -even[1]- odd[2] -...- odd[n]\n",
    "        odd_serv = cur_serv.iloc[::2][\"Time\"].to_numpy()\n",
    "        even_serv = cur_serv.iloc[1::2][\"Time\"].to_numpy()\n",
    "        assert len(odd_serv) == len(even_serv)+1, \"Server logs even after deleting DELETE-CREATE pairs\"\n",
    "        idle = (even_serv-odd_serv[:-1]).sum()\n",
    "        work = (odd_serv[1:]-even_serv).sum()\n",
    "        idles.append(idle)\n",
    "        works.append(work)\n",
    "        \n",
    "    metrics[\"avg_time_arrivals\"] = np.array(arrivals).mean()\n",
    "    metrics[\"prob_idle\"] = np.array(idles).sum() / (np.array(idles).sum() + np.array(works).sum())\n",
    "    end_time = time.time()\n",
    "    #print(f\"{end_time - start_time :.2f} s\")\n",
    "    return metrics"
   ]
  },
  {
   "cell_type": "code",
   "execution_count": 8,
   "id": "a6f975aa",
   "metadata": {},
   "outputs": [
    {
     "name": "stdout",
     "output_type": "stream",
     "text": [
      "{'avg_wait_time': 764.106, 'prob_wait': 0.98, 'avg_service_time': 51.816, 'avg_wait_time_waiters': 779.7, 'avg_sys_time': 815.922, 'avg_time_arrivals': 51.736314312249725, 'prob_idle': 0.0008869692645867881}\n"
     ]
    }
   ],
   "source": [
    "print(getMetrics(True, 1))"
   ]
  },
  {
   "cell_type": "code",
   "execution_count": 9,
   "id": "e558cefb",
   "metadata": {},
   "outputs": [
    {
     "data": {
      "text/html": [
       "<div>\n",
       "<style scoped>\n",
       "    .dataframe tbody tr th:only-of-type {\n",
       "        vertical-align: middle;\n",
       "    }\n",
       "\n",
       "    .dataframe tbody tr th {\n",
       "        vertical-align: top;\n",
       "    }\n",
       "\n",
       "    .dataframe thead th {\n",
       "        text-align: right;\n",
       "    }\n",
       "</style>\n",
       "<table border=\"1\" class=\"dataframe\">\n",
       "  <thead>\n",
       "    <tr style=\"text-align: right;\">\n",
       "      <th></th>\n",
       "      <th>avg_wait_time</th>\n",
       "      <th>prob_wait</th>\n",
       "      <th>avg_service_time</th>\n",
       "      <th>avg_wait_time_waiters</th>\n",
       "      <th>avg_sys_time</th>\n",
       "      <th>avg_time_arrivals</th>\n",
       "      <th>prob_idle</th>\n",
       "    </tr>\n",
       "  </thead>\n",
       "  <tbody>\n",
       "    <tr>\n",
       "      <th>0</th>\n",
       "      <td>741.050</td>\n",
       "      <td>0.982</td>\n",
       "      <td>51.902</td>\n",
       "      <td>754.633401</td>\n",
       "      <td>792.952</td>\n",
       "      <td>52.254749</td>\n",
       "      <td>0.001923</td>\n",
       "    </tr>\n",
       "    <tr>\n",
       "      <th>1</th>\n",
       "      <td>719.856</td>\n",
       "      <td>0.980</td>\n",
       "      <td>49.336</td>\n",
       "      <td>734.546939</td>\n",
       "      <td>769.192</td>\n",
       "      <td>49.551018</td>\n",
       "      <td>0.001174</td>\n",
       "    </tr>\n",
       "    <tr>\n",
       "      <th>2</th>\n",
       "      <td>795.286</td>\n",
       "      <td>0.978</td>\n",
       "      <td>52.386</td>\n",
       "      <td>813.175869</td>\n",
       "      <td>847.672</td>\n",
       "      <td>52.788585</td>\n",
       "      <td>0.002855</td>\n",
       "    </tr>\n",
       "    <tr>\n",
       "      <th>3</th>\n",
       "      <td>698.054</td>\n",
       "      <td>0.980</td>\n",
       "      <td>50.228</td>\n",
       "      <td>712.300000</td>\n",
       "      <td>748.282</td>\n",
       "      <td>50.175457</td>\n",
       "      <td>0.001352</td>\n",
       "    </tr>\n",
       "    <tr>\n",
       "      <th>4</th>\n",
       "      <td>639.074</td>\n",
       "      <td>0.978</td>\n",
       "      <td>48.390</td>\n",
       "      <td>653.449898</td>\n",
       "      <td>687.464</td>\n",
       "      <td>48.521952</td>\n",
       "      <td>0.002062</td>\n",
       "    </tr>\n",
       "  </tbody>\n",
       "</table>\n",
       "</div>"
      ],
      "text/plain": [
       "   avg_wait_time  prob_wait  avg_service_time  avg_wait_time_waiters  \\\n",
       "0        741.050      0.982            51.902             754.633401   \n",
       "1        719.856      0.980            49.336             734.546939   \n",
       "2        795.286      0.978            52.386             813.175869   \n",
       "3        698.054      0.980            50.228             712.300000   \n",
       "4        639.074      0.978            48.390             653.449898   \n",
       "\n",
       "   avg_sys_time  avg_time_arrivals  prob_idle  \n",
       "0       792.952          52.254749   0.001923  \n",
       "1       769.192          49.551018   0.001174  \n",
       "2       847.672          52.788585   0.002855  \n",
       "3       748.282          50.175457   0.001352  \n",
       "4       687.464          48.521952   0.002062  "
      ]
     },
     "execution_count": 9,
     "metadata": {},
     "output_type": "execute_result"
    }
   ],
   "source": [
    "dyn = True\n",
    "minw = 4\n",
    "\n",
    "cols = list(getMetrics(dyn, minw).keys())\n",
    "metrics_df = pd.DataFrame(columns=cols)\n",
    "for i in range(10):\n",
    "    metrics = getMetrics(dyn, minw)\n",
    "    metrics_df = metrics_df.append(metrics, ignore_index=True)\n",
    "    \n",
    "metrics_df.to_csv(f\"../HW4/metrics_HW4_{dyn}_{minw}.csv\", index=False)\n",
    "metrics_df.head()"
   ]
  },
  {
   "cell_type": "markdown",
   "id": "43e986f6",
   "metadata": {},
   "source": [
    "Lab 3\n",
    "\n",
    "Comparison by average queue size, total working etc. Draw server's dynamic through the time (for dynamic queues)."
   ]
  },
  {
   "cell_type": "markdown",
   "id": "008adf3a",
   "metadata": {},
   "source": [
    "## Lab 3"
   ]
  },
  {
   "cell_type": "code",
   "execution_count": 10,
   "id": "e2e784ae",
   "metadata": {},
   "outputs": [],
   "source": [
    "def compareQueues(dyn=True, minw=4):\n",
    "    start_time = time.time()\n",
    "    generateConsts(dyn, minw)\n",
    "    os.system(\"go run .\")\n",
    "    end_time = time.time()\n",
    "    df_cli = pd.read_csv(f\"./logs/clients_dynamic_{'true' if dyn else 'false'}_{minw}.csv\")\n",
    "    #df_serv = pd.read_csv(f\"./logs/servers_dynamic_{'true' if dyn else 'false'}_{minw}.csv\")\n",
    "    print(f\"\\n{'Dynamic' if dyn else 'Static'} {'general' if minw==1 else 'shortest'}\")\n",
    "    print(f\"Elapsed runtime: {end_time - start_time :.2f} s\")\n",
    "    avg_q = df_cli[\"PeopleBefore\"].mean()\n",
    "    print(f\"Average queue length: {avg_q :.2f}\")"
   ]
  },
  {
   "cell_type": "code",
   "execution_count": 11,
   "id": "ce0e03da",
   "metadata": {},
   "outputs": [
    {
     "name": "stdout",
     "output_type": "stream",
     "text": [
      "\n",
      "Static general\n",
      "Elapsed runtime: 24.87 s\n",
      "Average queue length: 238.36\n",
      "\n",
      "Static shortest\n",
      "Elapsed runtime: 6.34 s\n",
      "Average queue length: 50.04\n",
      "\n",
      "Dynamic general\n",
      "Elapsed runtime: 3.06 s\n",
      "Average queue length: 14.27\n",
      "\n",
      "Dynamic shortest\n",
      "Elapsed runtime: 2.92 s\n",
      "Average queue length: 13.19\n"
     ]
    }
   ],
   "source": [
    "for d in [False, True]:\n",
    "    for m in [1, 4]:\n",
    "        compareQueues(d, m)"
   ]
  },
  {
   "cell_type": "code",
   "execution_count": 12,
   "id": "1b1c5484",
   "metadata": {},
   "outputs": [],
   "source": [
    "def plotDynamic(minw=4):\n",
    "    generateConsts(True, minw)\n",
    "    os.system(\"go run .\")\n",
    "    #df_cli = pd.read_csv(f\"./logs/clients_dynamic_{'true' if dyn else 'false'}_{minw}.csv\")\n",
    "    df_serv = pd.read_csv(f\"./logs/servers_dynamic_{'true' if dyn else 'false'}_{minw}.csv\")\n",
    "    start = df_serv.iloc[0][\"Time\"]\n",
    "    end = df_serv.iloc[-1][\"Time\"]\n",
    "    df_serv = df_serv[df_serv[\"Action\"].isin([\"CREATED\", \"DELETED\"])]\n",
    "    df_serv[\"CountCreate\"] = (df_serv[\"Action\"] == \"CREATED\").cumsum()\n",
    "    df_serv[\"DeleteCount\"] = (df_serv[\"Action\"] == \"DELETED\").cumsum()\n",
    "    df_serv[\"Count\"] = df_serv[\"CountCreate\"] - df_serv[\"DeleteCount\"]\n",
    "    \n",
    "    X = list(df_serv[\"Time\"])\n",
    "    X.append(end)\n",
    "    X = [item-start for item in X]\n",
    "    X = np.array(X)\n",
    "    \n",
    "    Y = list(df_serv[\"Count\"])\n",
    "    Y.append(Y[-1])\n",
    "    Y = np.array(Y)\n",
    "    \n",
    "    plt.subplot(2, 1, 1)\n",
    "    plt.plot(X, Y)\n",
    "    plt.title(f\"{'General' if minw==1 else 'Shortest'}\")\n",
    "    plt.xlim((0, end-start))\n",
    "    \n",
    "    plt.subplot(2, 1, 2)\n",
    "    plt.plot(X, Y)\n",
    "    plt.xlim((0, (end-start)/20))\n",
    "    plt.xlabel(\"Timestamp, ms\")\n",
    "    plt.ylabel(\"Servers active\")"
   ]
  },
  {
   "cell_type": "code",
   "execution_count": 13,
   "id": "96dfe366",
   "metadata": {},
   "outputs": [
    {
     "data": {
      "image/png": "[encoded data removed]",
      "text/plain": [
       "<Figure size 1000x600 with 2 Axes>"
      ]
     },
     "metadata": {},
     "output_type": "display_data"
    }
   ],
   "source": [
    "plotDynamic(1)"
   ]
  },
  {
   "cell_type": "code",
   "execution_count": 14,
   "id": "69c48009",
   "metadata": {},
   "outputs": [
    {
     "data": {
      "image/png": "[encoded data removed]",
      "text/plain": [
       "<Figure size 1000x600 with 2 Axes>"
      ]
     },
     "metadata": {},
     "output_type": "display_data"
    }
   ],
   "source": [
    "plotDynamic(4)"
   ]
  },
  {
   "cell_type": "markdown",
   "id": "55b86df9",
   "metadata": {},
   "source": [
    "Lab 4\n",
    "\n",
    "Make several test runs and estimate sufficient number of replications to achieve the specified accuracy. If the accuracy is not achieved, repeat the procedure again. Computational technology is on your own decision."
   ]
  },
  {
   "cell_type": "markdown",
   "id": "6cada2a4",
   "metadata": {},
   "source": [
    "## Lab 4"
   ]
  },
  {
   "cell_type": "code",
   "execution_count": 15,
   "id": "b964ef5a",
   "metadata": {},
   "outputs": [],
   "source": [
    "def exportMetrics(dyn=True, minw=4, n=10):\n",
    "    cols = list(getMetrics(dyn, minw).keys())\n",
    "    metrics_df = pd.DataFrame(columns=cols)\n",
    "    for i in range(n):\n",
    "        metrics = getMetrics(dyn, minw)\n",
    "        metrics_df = metrics_df.append(metrics, ignore_index=True)\n",
    "        if i % 25 == 0:\n",
    "            metrics_df.to_csv(\n",
    "                f\"../HW4/TEMP/metrics_HW4_{dyn}_{minw}_{i}of{n}.csv\",\n",
    "                index=False\n",
    "            )\n",
    "    metrics_df.to_csv(f\"../HW4/metrics_HW4_{dyn}_{minw}_{n}.csv\", index=False)"
   ]
  },
  {
   "cell_type": "code",
   "execution_count": 16,
   "id": "a7fd0fce",
   "metadata": {},
   "outputs": [],
   "source": [
    "n = 500\n",
    "for d in [False, True]:\n",
    "    for m in [1, 4]:\n",
    "        exportMetrics(d, m, n)"
   ]
  },
  {
   "cell_type": "code",
   "execution_count": 17,
   "id": "a45be9eb",
   "metadata": {},
   "outputs": [
    {
     "data": {
      "text/html": [
       "<div>\n",
       "<style scoped>\n",
       "    .dataframe tbody tr th:only-of-type {\n",
       "        vertical-align: middle;\n",
       "    }\n",
       "\n",
       "    .dataframe tbody tr th {\n",
       "        vertical-align: top;\n",
       "    }\n",
       "\n",
       "    .dataframe thead th {\n",
       "        text-align: right;\n",
       "    }\n",
       "</style>\n",
       "<table border=\"1\" class=\"dataframe\">\n",
       "  <thead>\n",
       "    <tr style=\"text-align: right;\">\n",
       "      <th></th>\n",
       "      <th>avg_wait_time</th>\n",
       "      <th>prob_wait</th>\n",
       "      <th>avg_service_time</th>\n",
       "      <th>avg_wait_time_waiters</th>\n",
       "      <th>avg_sys_time</th>\n",
       "      <th>avg_time_arrivals</th>\n",
       "      <th>prob_idle</th>\n",
       "    </tr>\n",
       "  </thead>\n",
       "  <tbody>\n",
       "    <tr>\n",
       "      <th>0</th>\n",
       "      <td>2459.082</td>\n",
       "      <td>0.992</td>\n",
       "      <td>48.830</td>\n",
       "      <td>2478.913306</td>\n",
       "      <td>2507.912</td>\n",
       "      <td>48.931904</td>\n",
       "      <td>0.003225</td>\n",
       "    </tr>\n",
       "    <tr>\n",
       "      <th>1</th>\n",
       "      <td>2602.388</td>\n",
       "      <td>0.992</td>\n",
       "      <td>50.658</td>\n",
       "      <td>2623.375000</td>\n",
       "      <td>2653.046</td>\n",
       "      <td>50.957820</td>\n",
       "      <td>0.003188</td>\n",
       "    </tr>\n",
       "    <tr>\n",
       "      <th>2</th>\n",
       "      <td>2373.502</td>\n",
       "      <td>0.992</td>\n",
       "      <td>47.402</td>\n",
       "      <td>2392.643145</td>\n",
       "      <td>2420.904</td>\n",
       "      <td>47.343694</td>\n",
       "      <td>0.001979</td>\n",
       "    </tr>\n",
       "    <tr>\n",
       "      <th>3</th>\n",
       "      <td>2630.592</td>\n",
       "      <td>0.992</td>\n",
       "      <td>50.758</td>\n",
       "      <td>2651.806452</td>\n",
       "      <td>2681.350</td>\n",
       "      <td>50.816632</td>\n",
       "      <td>0.002868</td>\n",
       "    </tr>\n",
       "    <tr>\n",
       "      <th>4</th>\n",
       "      <td>2601.550</td>\n",
       "      <td>0.994</td>\n",
       "      <td>50.384</td>\n",
       "      <td>2617.253521</td>\n",
       "      <td>2651.934</td>\n",
       "      <td>50.738835</td>\n",
       "      <td>0.003087</td>\n",
       "    </tr>\n",
       "  </tbody>\n",
       "</table>\n",
       "</div>"
      ],
      "text/plain": [
       "   avg_wait_time  prob_wait  avg_service_time  avg_wait_time_waiters  \\\n",
       "0       2459.082      0.992            48.830            2478.913306   \n",
       "1       2602.388      0.992            50.658            2623.375000   \n",
       "2       2373.502      0.992            47.402            2392.643145   \n",
       "3       2630.592      0.992            50.758            2651.806452   \n",
       "4       2601.550      0.994            50.384            2617.253521   \n",
       "\n",
       "   avg_sys_time  avg_time_arrivals  prob_idle  \n",
       "0      2507.912          48.931904   0.003225  \n",
       "1      2653.046          50.957820   0.003188  \n",
       "2      2420.904          47.343694   0.001979  \n",
       "3      2681.350          50.816632   0.002868  \n",
       "4      2651.934          50.738835   0.003087  "
      ]
     },
     "execution_count": 17,
     "metadata": {},
     "output_type": "execute_result"
    }
   ],
   "source": [
    "df = pd.read_csv(f\"../HW4/metrics_HW4_False_4_{n}.csv\")\n",
    "df.head()"
   ]
  }
 ],
 "metadata": {
  "kernelspec": {
   "display_name": "Python 3 (ipykernel)",
   "language": "python",
   "name": "python3"
  },
  "language_info": {
   "codemirror_mode": {
    "name": "ipython",
    "version": 3
   },
   "file_extension": ".py",
   "mimetype": "text/x-python",
   "name": "python",
   "nbconvert_exporter": "python",
   "pygments_lexer": "ipython3",
   "version": "3.10.6"
  }
 },
 "nbformat": 4,
 "nbformat_minor": 5
}
