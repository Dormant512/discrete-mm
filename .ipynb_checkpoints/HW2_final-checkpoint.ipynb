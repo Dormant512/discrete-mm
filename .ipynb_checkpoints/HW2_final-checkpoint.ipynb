{
 "cells": [
  {
   "cell_type": "markdown",
   "metadata": {
    "datalore": {
     "hide_input_from_viewers": false,
     "hide_output_from_viewers": false,
     "node_id": "g0Z7l5PSQke6z5oLvKjQhV",
     "report_properties": {
      "rowId": "CTMOiIvcm3UfsjCJka5o2t"
     },
     "type": "MD"
    }
   },
   "source": [
    "# Homework 2\n",
    "Student: Grigoryev Mikhail\n",
    "\n",
    "Group: J4133c"
   ]
  },
  {
   "cell_type": "code",
   "execution_count": 1,
   "metadata": {
    "datalore": {
     "hide_input_from_viewers": false,
     "hide_output_from_viewers": false,
     "node_id": "Yz8ilaY18RHs5GfQQwZ7Eh",
     "report_properties": {
      "rowId": "UQTGcexj9uvs7l4sChTRBR"
     },
     "type": "CODE"
    }
   },
   "outputs": [],
   "source": [
    "import numpy as np\n",
    "import pandas as pd\n",
    "import matplotlib.pyplot as plt\n",
    "\n",
    "import random\n",
    "import math\n",
    "\n",
    "from tqdm.notebook import tqdm\n",
    "from SALib.sample import saltelli\n",
    "from SALib.analyze import sobol\n",
    "\n",
    "import openpyxl\n",
    "\n",
    "from IPython.display import clear_output\n",
    "\n",
    "plt.rcParams[\"figure.facecolor\"] = \"white\"\n",
    "plt.rcParams[\"figure.figsize\"] = (10, 6)\n",
    "\n",
    "import warnings\n",
    "warnings.filterwarnings(\"ignore\")"
   ]
  },
  {
   "cell_type": "markdown",
   "metadata": {
    "datalore": {
     "hide_input_from_viewers": false,
     "hide_output_from_viewers": false,
     "node_id": "fHFjlA1Orb0PPtJWlPB78q",
     "report_properties": {
      "rowId": "g9L2IB7sbuH023p6HZZKnF"
     },
     "type": "MD"
    }
   },
   "source": [
    "# Importing Data"
   ]
  },
  {
   "cell_type": "code",
   "execution_count": 2,
   "metadata": {
    "datalore": {
     "hide_input_from_viewers": false,
     "hide_output_from_viewers": false,
     "node_id": "NqrSYvt0F3ZwJzU0btnzWv",
     "report_properties": {
      "rowId": "8YP3cVQtAXO71OFaonBQFB"
     },
     "type": "CODE"
    }
   },
   "outputs": [
    {
     "data": {
      "text/html": [
       "<div>\n",
       "<style scoped>\n",
       "    .dataframe tbody tr th:only-of-type {\n",
       "        vertical-align: middle;\n",
       "    }\n",
       "\n",
       "    .dataframe tbody tr th {\n",
       "        vertical-align: top;\n",
       "    }\n",
       "\n",
       "    .dataframe thead th {\n",
       "        text-align: right;\n",
       "    }\n",
       "</style>\n",
       "<table border=\"1\" class=\"dataframe\">\n",
       "  <thead>\n",
       "    <tr style=\"text-align: right;\">\n",
       "      <th></th>\n",
       "      <th>Year</th>\n",
       "      <th>Total</th>\n",
       "      <th>SR</th>\n",
       "    </tr>\n",
       "  </thead>\n",
       "  <tbody>\n",
       "    <tr>\n",
       "      <th>0</th>\n",
       "      <td>1950</td>\n",
       "      <td>102702.461</td>\n",
       "      <td>NaN</td>\n",
       "    </tr>\n",
       "    <tr>\n",
       "      <th>1</th>\n",
       "      <td>1955</td>\n",
       "      <td>111401.500</td>\n",
       "      <td>0.940650</td>\n",
       "    </tr>\n",
       "    <tr>\n",
       "      <th>2</th>\n",
       "      <td>1960</td>\n",
       "      <td>119905.701</td>\n",
       "      <td>0.936148</td>\n",
       "    </tr>\n",
       "    <tr>\n",
       "      <th>3</th>\n",
       "      <td>1965</td>\n",
       "      <td>126749.102</td>\n",
       "      <td>0.939199</td>\n",
       "    </tr>\n",
       "    <tr>\n",
       "      <th>4</th>\n",
       "      <td>1970</td>\n",
       "      <td>130391.804</td>\n",
       "      <td>0.940886</td>\n",
       "    </tr>\n",
       "  </tbody>\n",
       "</table>\n",
       "</div>"
      ],
      "text/plain": [
       "   Year       Total        SR\n",
       "0  1950  102702.461       NaN\n",
       "1  1955  111401.500  0.940650\n",
       "2  1960  119905.701  0.936148\n",
       "3  1965  126749.102  0.939199\n",
       "4  1970  130391.804  0.940886"
      ]
     },
     "execution_count": 2,
     "metadata": {},
     "output_type": "execute_result"
    }
   ],
   "source": [
    "GROUPS = [f\"{k*5} - {(k+1)*5-1}\" for k in range(20)] + [\"100+\"]\n",
    "SR = [f\"SR: {k*5} - {(k+1)*5-1}\" for k in range(1,20)] + [\"SR: 100+\"]\n",
    "\n",
    "data = pd.read_excel(\"age_data_2005.xlsx\", sheet_name=\"both; 1950-2005, estimates\")\n",
    "data = data[data[\"Region\"]==\"Russian Federation\"].replace(\"-\", np.nan).reset_index(drop=True)\n",
    "\n",
    "YEARS = np.sort(data[\"Year\"].unique())\n",
    "\n",
    "data.loc[\n",
    "    data[\"Year\"].isin(YEARS[1:]),\n",
    "    SR\n",
    "] = data[\n",
    "    data[\"Year\"].isin(YEARS[1:])\n",
    "][GROUPS[1:]].values / data[\n",
    "    data[\"Year\"].isin(YEARS[:-1])\n",
    "][GROUPS[:-1]].values\n",
    "\n",
    "data.drop(columns=data.iloc[:,:5], inplace=True)\n",
    "data[\"Total\"] = data[GROUPS].sum(axis=1)\n",
    "data[\"SR\"] = data[SR].mean(axis=1)\n",
    "data = data[[\"Year\", \"Total\", \"SR\"]]\n",
    "\n",
    "data.head()"
   ]
  },
  {
   "cell_type": "code",
   "execution_count": 3,
   "metadata": {
    "datalore": {
     "hide_input_from_viewers": false,
     "hide_output_from_viewers": false,
     "node_id": "oVj3DXMr9PPqcraf505tdo",
     "report_properties": {
      "rowId": "GlPgy3Yn4ElOcJhSdO8A24"
     },
     "type": "CODE"
    }
   },
   "outputs": [
    {
     "data": {
      "text/html": [
       "<div>\n",
       "<style scoped>\n",
       "    .dataframe tbody tr th:only-of-type {\n",
       "        vertical-align: middle;\n",
       "    }\n",
       "\n",
       "    .dataframe tbody tr th {\n",
       "        vertical-align: top;\n",
       "    }\n",
       "\n",
       "    .dataframe thead th {\n",
       "        text-align: right;\n",
       "    }\n",
       "</style>\n",
       "<table border=\"1\" class=\"dataframe\">\n",
       "  <thead>\n",
       "    <tr style=\"text-align: right;\">\n",
       "      <th></th>\n",
       "      <th>Year</th>\n",
       "      <th>Total</th>\n",
       "      <th>SR</th>\n",
       "    </tr>\n",
       "  </thead>\n",
       "  <tbody>\n",
       "    <tr>\n",
       "      <th>0</th>\n",
       "      <td>1950</td>\n",
       "      <td>44078.085</td>\n",
       "      <td>NaN</td>\n",
       "    </tr>\n",
       "    <tr>\n",
       "      <th>1</th>\n",
       "      <td>1955</td>\n",
       "      <td>48825.934</td>\n",
       "      <td>0.911718</td>\n",
       "    </tr>\n",
       "    <tr>\n",
       "      <th>2</th>\n",
       "      <td>1960</td>\n",
       "      <td>53471.925</td>\n",
       "      <td>0.907475</td>\n",
       "    </tr>\n",
       "    <tr>\n",
       "      <th>3</th>\n",
       "      <td>1965</td>\n",
       "      <td>57260.860</td>\n",
       "      <td>0.909716</td>\n",
       "    </tr>\n",
       "    <tr>\n",
       "      <th>4</th>\n",
       "      <td>1970</td>\n",
       "      <td>59367.866</td>\n",
       "      <td>0.909479</td>\n",
       "    </tr>\n",
       "  </tbody>\n",
       "</table>\n",
       "</div>"
      ],
      "text/plain": [
       "   Year      Total        SR\n",
       "0  1950  44078.085       NaN\n",
       "1  1955  48825.934  0.911718\n",
       "2  1960  53471.925  0.907475\n",
       "3  1965  57260.860  0.909716\n",
       "4  1970  59367.866  0.909479"
      ]
     },
     "execution_count": 3,
     "metadata": {},
     "output_type": "execute_result"
    }
   ],
   "source": [
    "dataM = pd.read_excel(\"age_data_2005.xlsx\", sheet_name=\"m; 1950-2005, estimates\")\n",
    "dataM = dataM[dataM[\"Region\"]==\"Russian Federation\"].replace(\"-\", np.nan).reset_index(drop=True)\n",
    "dataM.loc[dataM[\"Year\"].isin(YEARS[1:]), SR] = dataM[\n",
    "    dataM[\"Year\"].isin(YEARS[1:])\n",
    "][GROUPS[1:]].values / dataM[dataM[\"Year\"].isin(YEARS[:-1])][GROUPS[:-1]].values\n",
    "\n",
    "dataM.drop(columns=dataM.iloc[:,:5], inplace=True)\n",
    "dataM_full = dataM.copy()\n",
    "dataM[\"Total\"] = dataM[GROUPS].sum(axis=1)\n",
    "dataM[\"SR\"] = dataM[SR].mean(axis=1)\n",
    "dataM = dataM[[\"Year\", \"Total\", \"SR\"]]\n",
    "dataM_full.drop(columns=SR, inplace=True)\n",
    "\n",
    "dataM.head()"
   ]
  },
  {
   "cell_type": "code",
   "execution_count": 4,
   "metadata": {
    "datalore": {
     "hide_input_from_viewers": false,
     "hide_output_from_viewers": false,
     "node_id": "13ExrlNbhe3oHNSCf1dufw",
     "report_properties": {
      "rowId": "iqK12Y5xJiQmnXmV8ji68c"
     },
     "type": "CODE"
    }
   },
   "outputs": [
    {
     "data": {
      "text/html": [
       "<div>\n",
       "<style scoped>\n",
       "    .dataframe tbody tr th:only-of-type {\n",
       "        vertical-align: middle;\n",
       "    }\n",
       "\n",
       "    .dataframe tbody tr th {\n",
       "        vertical-align: top;\n",
       "    }\n",
       "\n",
       "    .dataframe thead th {\n",
       "        text-align: right;\n",
       "    }\n",
       "</style>\n",
       "<table border=\"1\" class=\"dataframe\">\n",
       "  <thead>\n",
       "    <tr style=\"text-align: right;\">\n",
       "      <th></th>\n",
       "      <th>Year</th>\n",
       "      <th>Total</th>\n",
       "      <th>SR</th>\n",
       "    </tr>\n",
       "  </thead>\n",
       "  <tbody>\n",
       "    <tr>\n",
       "      <th>0</th>\n",
       "      <td>1950</td>\n",
       "      <td>58624.376</td>\n",
       "      <td>NaN</td>\n",
       "    </tr>\n",
       "    <tr>\n",
       "      <th>1</th>\n",
       "      <td>1955</td>\n",
       "      <td>62575.566</td>\n",
       "      <td>0.954197</td>\n",
       "    </tr>\n",
       "    <tr>\n",
       "      <th>2</th>\n",
       "      <td>1960</td>\n",
       "      <td>66433.776</td>\n",
       "      <td>0.949807</td>\n",
       "    </tr>\n",
       "    <tr>\n",
       "      <th>3</th>\n",
       "      <td>1965</td>\n",
       "      <td>69488.242</td>\n",
       "      <td>0.953345</td>\n",
       "    </tr>\n",
       "    <tr>\n",
       "      <th>4</th>\n",
       "      <td>1970</td>\n",
       "      <td>71023.938</td>\n",
       "      <td>0.956183</td>\n",
       "    </tr>\n",
       "  </tbody>\n",
       "</table>\n",
       "</div>"
      ],
      "text/plain": [
       "   Year      Total        SR\n",
       "0  1950  58624.376       NaN\n",
       "1  1955  62575.566  0.954197\n",
       "2  1960  66433.776  0.949807\n",
       "3  1965  69488.242  0.953345\n",
       "4  1970  71023.938  0.956183"
      ]
     },
     "execution_count": 4,
     "metadata": {},
     "output_type": "execute_result"
    }
   ],
   "source": [
    "dataF = pd.read_excel(\"age_data_2005.xlsx\", sheet_name=\"f; 1950-2005, estimates\")\n",
    "dataF = dataF[dataF[\"Region\"]==\"Russian Federation\"].replace(\"-\", np.nan).reset_index(drop=True)\n",
    "dataF.loc[dataF[\"Year\"].isin(YEARS[1:]), SR] = dataF[\n",
    "    dataF[\"Year\"].isin(YEARS[1:])\n",
    "][GROUPS[1:]].values / dataF[dataF[\"Year\"].isin(YEARS[:-1])][GROUPS[:-1]].values\n",
    "\n",
    "dataF.drop(columns=dataF.iloc[:,:5], inplace=True)\n",
    "dataF_full = dataF.copy()\n",
    "dataF[\"Total\"] = dataF[GROUPS].sum(axis=1)\n",
    "dataF[\"SR\"] = dataF[SR].mean(axis=1)\n",
    "dataF = dataF[[\"Year\", \"Total\", \"SR\"]]\n",
    "dataF_full.drop(columns=SR, inplace=True)\n",
    "\n",
    "dataF.head()"
   ]
  },
  {
   "cell_type": "code",
   "execution_count": 5,
   "metadata": {},
   "outputs": [
    {
     "data": {
      "text/html": [
       "<div>\n",
       "<style scoped>\n",
       "    .dataframe tbody tr th:only-of-type {\n",
       "        vertical-align: middle;\n",
       "    }\n",
       "\n",
       "    .dataframe tbody tr th {\n",
       "        vertical-align: top;\n",
       "    }\n",
       "\n",
       "    .dataframe thead th {\n",
       "        text-align: right;\n",
       "    }\n",
       "</style>\n",
       "<table border=\"1\" class=\"dataframe\">\n",
       "  <thead>\n",
       "    <tr style=\"text-align: right;\">\n",
       "      <th></th>\n",
       "      <th>Year</th>\n",
       "      <th>0 - 4</th>\n",
       "      <th>5 - 9</th>\n",
       "      <th>10 - 14</th>\n",
       "      <th>15 - 19</th>\n",
       "      <th>20 - 24</th>\n",
       "      <th>25 - 29</th>\n",
       "      <th>30 - 34</th>\n",
       "      <th>35 - 39</th>\n",
       "      <th>40 - 44</th>\n",
       "      <th>...</th>\n",
       "      <th>55 - 59</th>\n",
       "      <th>60 - 64</th>\n",
       "      <th>65 - 69</th>\n",
       "      <th>70 - 74</th>\n",
       "      <th>75 - 79</th>\n",
       "      <th>80 - 84</th>\n",
       "      <th>85 - 89</th>\n",
       "      <th>90 - 94</th>\n",
       "      <th>95 - 99</th>\n",
       "      <th>100+</th>\n",
       "    </tr>\n",
       "  </thead>\n",
       "  <tbody>\n",
       "    <tr>\n",
       "      <th>0</th>\n",
       "      <td>1950</td>\n",
       "      <td>4859.337</td>\n",
       "      <td>3662.401</td>\n",
       "      <td>6087.098</td>\n",
       "      <td>4930.832</td>\n",
       "      <td>6155.809</td>\n",
       "      <td>4437.421</td>\n",
       "      <td>3595.678</td>\n",
       "      <td>5040.115</td>\n",
       "      <td>4377.162</td>\n",
       "      <td>...</td>\n",
       "      <td>2190.918</td>\n",
       "      <td>2027.641</td>\n",
       "      <td>1657.632</td>\n",
       "      <td>1272.309</td>\n",
       "      <td>884.402</td>\n",
       "      <td>764.580</td>\n",
       "      <td>NaN</td>\n",
       "      <td>NaN</td>\n",
       "      <td>NaN</td>\n",
       "      <td>NaN</td>\n",
       "    </tr>\n",
       "    <tr>\n",
       "      <th>1</th>\n",
       "      <td>1955</td>\n",
       "      <td>6150.048</td>\n",
       "      <td>4844.411</td>\n",
       "      <td>3661.728</td>\n",
       "      <td>6082.238</td>\n",
       "      <td>4917.406</td>\n",
       "      <td>6137.184</td>\n",
       "      <td>4419.104</td>\n",
       "      <td>3570.285</td>\n",
       "      <td>4981.825</td>\n",
       "      <td>...</td>\n",
       "      <td>2692.846</td>\n",
       "      <td>2042.969</td>\n",
       "      <td>1824.183</td>\n",
       "      <td>1399.375</td>\n",
       "      <td>972.472</td>\n",
       "      <td>843.634</td>\n",
       "      <td>NaN</td>\n",
       "      <td>NaN</td>\n",
       "      <td>NaN</td>\n",
       "      <td>NaN</td>\n",
       "    </tr>\n",
       "    <tr>\n",
       "      <th>2</th>\n",
       "      <td>1960</td>\n",
       "      <td>6606.196</td>\n",
       "      <td>6097.428</td>\n",
       "      <td>4814.778</td>\n",
       "      <td>3633.443</td>\n",
       "      <td>6034.643</td>\n",
       "      <td>4871.873</td>\n",
       "      <td>6080.159</td>\n",
       "      <td>4362.507</td>\n",
       "      <td>3507.473</td>\n",
       "      <td>...</td>\n",
       "      <td>3560.077</td>\n",
       "      <td>2500.318</td>\n",
       "      <td>1830.845</td>\n",
       "      <td>1535.487</td>\n",
       "      <td>1067.145</td>\n",
       "      <td>929.298</td>\n",
       "      <td>NaN</td>\n",
       "      <td>NaN</td>\n",
       "      <td>NaN</td>\n",
       "      <td>NaN</td>\n",
       "    </tr>\n",
       "    <tr>\n",
       "      <th>3</th>\n",
       "      <td>1965</td>\n",
       "      <td>5941.761</td>\n",
       "      <td>6552.350</td>\n",
       "      <td>6058.045</td>\n",
       "      <td>4780.421</td>\n",
       "      <td>3598.103</td>\n",
       "      <td>5987.115</td>\n",
       "      <td>4821.980</td>\n",
       "      <td>6011.291</td>\n",
       "      <td>4292.710</td>\n",
       "      <td>...</td>\n",
       "      <td>3951.650</td>\n",
       "      <td>3325.076</td>\n",
       "      <td>2257.144</td>\n",
       "      <td>1555.245</td>\n",
       "      <td>1184.616</td>\n",
       "      <td>1039.163</td>\n",
       "      <td>NaN</td>\n",
       "      <td>NaN</td>\n",
       "      <td>NaN</td>\n",
       "      <td>NaN</td>\n",
       "    </tr>\n",
       "    <tr>\n",
       "      <th>4</th>\n",
       "      <td>1970</td>\n",
       "      <td>4595.190</td>\n",
       "      <td>5897.186</td>\n",
       "      <td>6513.540</td>\n",
       "      <td>6019.188</td>\n",
       "      <td>4743.403</td>\n",
       "      <td>3564.606</td>\n",
       "      <td>5938.957</td>\n",
       "      <td>4765.944</td>\n",
       "      <td>5928.384</td>\n",
       "      <td>...</td>\n",
       "      <td>4507.697</td>\n",
       "      <td>3704.573</td>\n",
       "      <td>3017.980</td>\n",
       "      <td>1930.077</td>\n",
       "      <td>1206.835</td>\n",
       "      <td>1169.816</td>\n",
       "      <td>NaN</td>\n",
       "      <td>NaN</td>\n",
       "      <td>NaN</td>\n",
       "      <td>NaN</td>\n",
       "    </tr>\n",
       "  </tbody>\n",
       "</table>\n",
       "<p>5 rows × 22 columns</p>\n",
       "</div>"
      ],
      "text/plain": [
       "   Year     0 - 4     5 - 9   10 - 14   15 - 19   20 - 24   25 - 29   30 - 34  \\\n",
       "0  1950  4859.337  3662.401  6087.098  4930.832  6155.809  4437.421  3595.678   \n",
       "1  1955  6150.048  4844.411  3661.728  6082.238  4917.406  6137.184  4419.104   \n",
       "2  1960  6606.196  6097.428  4814.778  3633.443  6034.643  4871.873  6080.159   \n",
       "3  1965  5941.761  6552.350  6058.045  4780.421  3598.103  5987.115  4821.980   \n",
       "4  1970  4595.190  5897.186  6513.540  6019.188  4743.403  3564.606  5938.957   \n",
       "\n",
       "    35 - 39   40 - 44  ...   55 - 59   60 - 64   65 - 69   70 - 74   75 - 79  \\\n",
       "0  5040.115  4377.162  ...  2190.918  2027.641  1657.632  1272.309   884.402   \n",
       "1  3570.285  4981.825  ...  2692.846  2042.969  1824.183  1399.375   972.472   \n",
       "2  4362.507  3507.473  ...  3560.077  2500.318  1830.845  1535.487  1067.145   \n",
       "3  6011.291  4292.710  ...  3951.650  3325.076  2257.144  1555.245  1184.616   \n",
       "4  4765.944  5928.384  ...  4507.697  3704.573  3017.980  1930.077  1206.835   \n",
       "\n",
       "    80 - 84  85 - 89  90 - 94  95 - 99  100+  \n",
       "0   764.580      NaN      NaN      NaN   NaN  \n",
       "1   843.634      NaN      NaN      NaN   NaN  \n",
       "2   929.298      NaN      NaN      NaN   NaN  \n",
       "3  1039.163      NaN      NaN      NaN   NaN  \n",
       "4  1169.816      NaN      NaN      NaN   NaN  \n",
       "\n",
       "[5 rows x 22 columns]"
      ]
     },
     "execution_count": 5,
     "metadata": {},
     "output_type": "execute_result"
    }
   ],
   "source": [
    "dataF_full.head()"
   ]
  },
  {
   "cell_type": "code",
   "execution_count": 6,
   "metadata": {
    "datalore": {
     "hide_input_from_viewers": false,
     "hide_output_from_viewers": false,
     "node_id": "c8apYWp62aU1XCxzI37bpK",
     "report_properties": {
      "rowId": "6wJnjaqj09P5X8dal7UHoz"
     },
     "type": "CODE"
    }
   },
   "outputs": [],
   "source": [
    "n1, n2 = 4, 8 # groups able to birth\n",
    "dataF_full[\"FR\"] = dataF_full[GROUPS[0]] / dataF_full[GROUPS[n1:n2]].sum(axis=1)\n",
    "dataF[\"FR\"] = dataF_full[\"FR\"]"
   ]
  },
  {
   "cell_type": "markdown",
   "metadata": {
    "datalore": {
     "hide_input_from_viewers": false,
     "hide_output_from_viewers": false,
     "node_id": "a9ajSAvbGIdgUkem2uSVxm",
     "report_properties": {
      "rowId": "uudcVy0HKKaRivTZC4B7vv"
     },
     "type": "MD"
    }
   },
   "source": [
    "# Parameter ranges"
   ]
  },
  {
   "cell_type": "code",
   "execution_count": 7,
   "metadata": {
    "datalore": {
     "hide_input_from_viewers": false,
     "hide_output_from_viewers": false,
     "node_id": "ZNU3D2nCypXCxXcMsdi2JU",
     "report_properties": {
      "rowId": "8tQMwQ1x40Pxarmh7bVVS4"
     },
     "type": "CODE"
    }
   },
   "outputs": [
    {
     "name": "stdout",
     "output_type": "stream",
     "text": [
      "Survival rate min: 0.7624102777488436\n",
      "Survival rate max: 0.9693465569034452\n"
     ]
    }
   ],
   "source": [
    "SRmin = min(dataM[\"SR\"].min(), dataF[\"SR\"].min())\n",
    "SRmax = max(dataM[\"SR\"].max(), dataF[\"SR\"].max())\n",
    "print(f\"Survival rate min: {SRmin}\\nSurvival rate max: {SRmax}\")"
   ]
  },
  {
   "cell_type": "code",
   "execution_count": 8,
   "metadata": {
    "datalore": {
     "hide_input_from_viewers": false,
     "hide_output_from_viewers": false,
     "node_id": "LQohBsVM5yC5EHzokPqfh3",
     "report_properties": {
      "rowId": "kmJItUmxY4Dwelb83YzuvY"
     },
     "type": "CODE"
    }
   },
   "outputs": [
    {
     "name": "stdout",
     "output_type": "stream",
     "text": [
      "Fertility rate min: 0.1506880066319535\n",
      "Fertility rate max: 0.32293923449506007\n"
     ]
    }
   ],
   "source": [
    "FRmin, FRmax = dataF[\"FR\"].min(), dataF[\"FR\"].max()\n",
    "print(f\"Fertility rate min: {FRmin}\\nFertility rate max: {FRmax}\")"
   ]
  },
  {
   "cell_type": "code",
   "execution_count": 9,
   "metadata": {
    "datalore": {
     "hide_input_from_viewers": false,
     "hide_output_from_viewers": false,
     "node_id": "RovV1xHqVE1g0fl3EoezGd",
     "report_properties": {
      "rowId": "8l4udfnnD3muSdWtjaVSeo"
     },
     "type": "CODE"
    }
   },
   "outputs": [
    {
     "name": "stdout",
     "output_type": "stream",
     "text": [
      "Boys ratio min: 0.4291823639941792\n",
      "Boys ratio max: 0.4695524401883028\n"
     ]
    }
   ],
   "source": [
    "BRs = dataM[\"Total\"] / (dataM[\"Total\"] + dataF[\"Total\"])\n",
    "# BRs = dataM_full[GROUPS[0]] / (dataF_full[GROUPS[0]] + dataM_full[GROUPS[0]])\n",
    "BRmin, BRmax = BRs.min(), BRs.max()\n",
    "print(f\"Boys ratio min: {BRmin}\\nBoys ratio max: {BRmax}\")"
   ]
  },
  {
   "cell_type": "markdown",
   "metadata": {
    "datalore": {
     "hide_input_from_viewers": false,
     "hide_output_from_viewers": false,
     "node_id": "PQ0qbSnSa1saY3s1BjFJrq",
     "report_properties": {
      "rowId": "TCxHFXydhh9Ng93VygvPMf"
     },
     "type": "MD"
    }
   },
   "source": [
    "# Sensitivity analysis"
   ]
  },
  {
   "cell_type": "code",
   "execution_count": 10,
   "metadata": {},
   "outputs": [
    {
     "data": {
      "text/html": [
       "<div>\n",
       "<style scoped>\n",
       "    .dataframe tbody tr th:only-of-type {\n",
       "        vertical-align: middle;\n",
       "    }\n",
       "\n",
       "    .dataframe tbody tr th {\n",
       "        vertical-align: top;\n",
       "    }\n",
       "\n",
       "    .dataframe thead th {\n",
       "        text-align: right;\n",
       "    }\n",
       "</style>\n",
       "<table border=\"1\" class=\"dataframe\">\n",
       "  <thead>\n",
       "    <tr style=\"text-align: right;\">\n",
       "      <th></th>\n",
       "      <th>Year</th>\n",
       "      <th>Total</th>\n",
       "      <th>SR</th>\n",
       "      <th>FR</th>\n",
       "    </tr>\n",
       "  </thead>\n",
       "  <tbody>\n",
       "    <tr>\n",
       "      <th>7</th>\n",
       "      <td>1985</td>\n",
       "      <td>76831.719</td>\n",
       "      <td>0.960259</td>\n",
       "      <td>0.246718</td>\n",
       "    </tr>\n",
       "    <tr>\n",
       "      <th>8</th>\n",
       "      <td>1990</td>\n",
       "      <td>78889.719</td>\n",
       "      <td>0.969347</td>\n",
       "      <td>0.246521</td>\n",
       "    </tr>\n",
       "    <tr>\n",
       "      <th>9</th>\n",
       "      <td>1995</td>\n",
       "      <td>78606.599</td>\n",
       "      <td>0.906649</td>\n",
       "      <td>0.175439</td>\n",
       "    </tr>\n",
       "    <tr>\n",
       "      <th>10</th>\n",
       "      <td>2000</td>\n",
       "      <td>78270.184</td>\n",
       "      <td>0.823965</td>\n",
       "      <td>0.150688</td>\n",
       "    </tr>\n",
       "    <tr>\n",
       "      <th>11</th>\n",
       "      <td>2005</td>\n",
       "      <td>76754.199</td>\n",
       "      <td>0.811101</td>\n",
       "      <td>0.163624</td>\n",
       "    </tr>\n",
       "  </tbody>\n",
       "</table>\n",
       "</div>"
      ],
      "text/plain": [
       "    Year      Total        SR        FR\n",
       "7   1985  76831.719  0.960259  0.246718\n",
       "8   1990  78889.719  0.969347  0.246521\n",
       "9   1995  78606.599  0.906649  0.175439\n",
       "10  2000  78270.184  0.823965  0.150688\n",
       "11  2005  76754.199  0.811101  0.163624"
      ]
     },
     "execution_count": 10,
     "metadata": {},
     "output_type": "execute_result"
    }
   ],
   "source": [
    "dataF.tail()"
   ]
  },
  {
   "cell_type": "code",
   "execution_count": 66,
   "metadata": {
    "datalore": {
     "hide_input_from_viewers": false,
     "hide_output_from_viewers": false,
     "node_id": "3TPevwAN3YtxpyM2ChyzZn",
     "report_properties": {
      "rowId": "GjXKz0M9RLyScNKOhmDzMF"
     },
     "type": "CODE"
    }
   },
   "outputs": [],
   "source": [
    "def ModelSensM(popM, popF, SR, FR, BR, kmax=1, start_year=2005):\n",
    "    for k in range(kmax):\n",
    "        popAll = popM + popF\n",
    "        \n",
    "        newM = popM * SR\n",
    "        newM += popAll * FR * BR\n",
    "        \n",
    "        popM = newM\n",
    "    return popM\n",
    "\n",
    "def ModelSensF(popM, popF, SR, FR, BR, kmax=1, start_year=2005):\n",
    "    for k in range(kmax):\n",
    "        popAll = popM + popF\n",
    "        \n",
    "        newF = popF * SR\n",
    "        newF += popAll * FR * (1-BR)\n",
    "        \n",
    "        popF = newF\n",
    "    return popF"
   ]
  },
  {
   "cell_type": "code",
   "execution_count": 67,
   "metadata": {
    "datalore": {
     "hide_input_from_viewers": false,
     "hide_output_from_viewers": false,
     "node_id": "N4r2wSAmOE5Q1PCMH85KPh",
     "report_properties": {
      "rowId": "B7krOnGc1ojH48rq2ljROs"
     },
     "type": "CODE"
    }
   },
   "outputs": [],
   "source": [
    "def EvalSensM(popM, popF, params, kmax=1):\n",
    "    Y = []\n",
    "    for par in params:\n",
    "        SR, FR, BR = par\n",
    "        res = ModelSensM(popM, popF, SR, FR, BR, kmax)\n",
    "        Y.append(res)\n",
    "    return np.array(Y)\n",
    "\n",
    "def EvalSensF(popM, popF, params, kmax=1):\n",
    "    Y = []\n",
    "    for par in params:\n",
    "        SR, FR, BR = par\n",
    "        res = ModelSensF(popM, popF, SR, FR, BR, kmax)\n",
    "        Y.append(res)\n",
    "    return np.array(Y)"
   ]
  },
  {
   "cell_type": "code",
   "execution_count": 70,
   "metadata": {
    "datalore": {
     "hide_input_from_viewers": false,
     "hide_output_from_viewers": false,
     "node_id": "GyqIwx14vXYlDJLGozll2L",
     "report_properties": {
      "rowId": "99Z6Xaqp0tyu48E8mGKxHx"
     },
     "type": "CODE"
    }
   },
   "outputs": [
    {
     "data": {
      "image/png": "[encoded data removed]",
      "text/plain": [
       "<Figure size 720x720 with 2 Axes>"
      ]
     },
     "metadata": {},
     "output_type": "display_data"
    }
   ],
   "source": [
    "names = [\"SR\", \"FR\", \"BR\"]\n",
    "problem = {\n",
    "    \"num_vars\": len(names),\n",
    "    \"names\": names,\n",
    "    \"bounds\": [[SRmin, SRmax], [FRmin, FRmax], [BRmin, BRmax]]\n",
    "}\n",
    "\n",
    "popM = dataM.iloc[-1][\"Total\"]\n",
    "popF = dataF.iloc[-1][\"Total\"]\n",
    "param_values = saltelli.sample(problem, 1000)\n",
    "\n",
    "years = [2005]\n",
    "Si_M_results = []\n",
    "Si_F_results = []\n",
    "\n",
    "for max_steps in range(1, 11):\n",
    "    years.append(years[-1] + 5)\n",
    "    Y_M = EvalSensM(popM, popF, param_values, kmax=max_steps)\n",
    "    Y_F = EvalSensF(popM, popF, param_values, kmax=max_steps)\n",
    "    Si_M = sobol.analyze(problem, Y_M, print_to_console=False)\n",
    "    Si_F = sobol.analyze(problem, Y_F, print_to_console=False)\n",
    "    Si_M_results.append(Si_M)\n",
    "    Si_F_results.append(Si_F)\n",
    "    \n",
    "Si_M_results = np.array(Si_M_results)\n",
    "Si_F_results = np.array(Si_F_results)\n",
    "lw = 2\n",
    "\n",
    "tempM = np.array([item[\"S1\"] for item in Si_M_results])\n",
    "tempF = np.array([item[\"S1\"] for item in Si_F_results])\n",
    "\n",
    "plt.rcParams[\"figure.figsize\"] = (10, 10)\n",
    "\n",
    "plt.subplot(2, 1, 1)\n",
    "plt.plot(years[:-1], tempM[:,0], label=\"SR\", linewidth=lw)\n",
    "plt.plot(years[:-1], tempM[:,1], label=\"FR\", linewidth=lw)\n",
    "plt.plot(years[:-1], tempM[:,2], label=\"BR\", linewidth=lw)\n",
    "plt.legend();\n",
    "plt.xlabel(\"Year\")\n",
    "plt.xlabel(\"S1\")\n",
    "plt.title(\"SENSITIVITY MALES\")\n",
    "plt.grid()\n",
    "\n",
    "plt.subplot(2, 1, 2)\n",
    "plt.plot(years[:-1], tempF[:,0], label=\"SR\", linewidth=lw)\n",
    "plt.plot(years[:-1], tempF[:,1], label=\"FR\", linewidth=lw)\n",
    "plt.plot(years[:-1], tempF[:,2], label=\"BR\", linewidth=lw)\n",
    "plt.legend();\n",
    "plt.xlabel(\"Year\")\n",
    "plt.xlabel(\"S1\")\n",
    "plt.title(\"SENSITIVITY FEMALES\")\n",
    "plt.grid()\n",
    "\n",
    "plt.rcParams[\"figure.figsize\"] = (10, 6)"
   ]
  },
  {
   "cell_type": "markdown",
   "metadata": {
    "datalore": {
     "hide_input_from_viewers": false,
     "hide_output_from_viewers": false,
     "node_id": "aZOUPl7pwYiEpMgv3ypZtP",
     "report_properties": {
      "rowId": "FMvAeHvpseD5sVu2662gEb"
     },
     "type": "MD"
    }
   },
   "source": [
    "## Uncertainty analysis"
   ]
  },
  {
   "cell_type": "code",
   "execution_count": 71,
   "metadata": {
    "datalore": {
     "hide_input_from_viewers": false,
     "hide_output_from_viewers": false,
     "node_id": "WSk9trxDQ9ytY47X98Owi9",
     "report_properties": {
      "rowId": "JfJSIpaq5UtPxRH3zLVJf3"
     },
     "type": "CODE"
    }
   },
   "outputs": [],
   "source": [
    "def ModelUnceM(popM, popF, SR, FR, BR, kmax=1, start_year=2005):\n",
    "    males = []\n",
    "    for k in range(kmax):\n",
    "        popAll = popM + popF\n",
    "        \n",
    "        newM = popM * SR\n",
    "        newM += popAll * FR * BR\n",
    "        \n",
    "        popM = newM\n",
    "        males.append(popM)\n",
    "    return np.array(males)\n",
    "\n",
    "def ModelUnceF(popM, popF, SR, FR, BR, kmax=1, start_year=2005):\n",
    "    females = []\n",
    "    for k in range(kmax):\n",
    "        popAll = popM + popF\n",
    "        \n",
    "        newF = popF * SR\n",
    "        newF += popAll * FR * (1-BR)\n",
    "        \n",
    "        popF = newF\n",
    "        females.append(popF)\n",
    "    return np.array(females)"
   ]
  },
  {
   "cell_type": "code",
   "execution_count": 75,
   "metadata": {},
   "outputs": [
    {
     "name": "stdout",
     "output_type": "stream",
     "text": [
      "(8000, 9)\n"
     ]
    }
   ],
   "source": [
    "popM = dataM.iloc[-1][\"Total\"]\n",
    "popF = dataF.iloc[-1][\"Total\"]\n",
    "param_values = saltelli.sample(problem, 1000)\n",
    "\n",
    "M_results = []\n",
    "F_results = []\n",
    "\n",
    "for p in param_values:\n",
    "    M_results.append(ModelUnceM(popM, popF, p[0], p[1], p[2], kmax=9))\n",
    "    F_results.append(ModelUnceF(popM, popF, p[0], p[1], p[2], kmax=9))\n",
    "\n",
    "M_results = np.array(M_results)\n",
    "F_results = np.array(F_results)\n",
    "print(M_results.shape)"
   ]
  },
  {
   "cell_type": "code",
   "execution_count": 79,
   "metadata": {
    "datalore": {
     "hide_input_from_viewers": false,
     "hide_output_from_viewers": false,
     "node_id": "KkU0K11tLoPuxqZR95aLFb",
     "report_properties": {
      "rowId": "He8sw81bNFjCFBzweBWQzd"
     },
     "type": "CODE"
    }
   },
   "outputs": [],
   "source": [
    "def compute_percentiles(res, intervals):\n",
    "    d = {}\n",
    "    for i in intervals:\n",
    "        d[i] = np.percentile(res, [50-i/2,50+i/2], axis=0)\n",
    "    return d    "
   ]
  },
  {
   "cell_type": "code",
   "execution_count": 95,
   "metadata": {
    "datalore": {
     "hide_input_from_viewers": false,
     "hide_output_from_viewers": false,
     "node_id": "XYXSWtiFVrfv2JwlpgjaCi",
     "report_properties": {
      "rowId": "xmlLK3XCX9ORGi1pt68gW7"
     },
     "type": "CODE"
    }
   },
   "outputs": [
    {
     "name": "stdout",
     "output_type": "stream",
     "text": [
      "bottom:  [69086.72182201 71508.55623117 73752.46607006 75850.02203481\n",
      " 77791.90607094 79570.34266389 81198.46088577 82755.8872665\n",
      " 84180.66845124] \n",
      "\n",
      "top:  [ 76481.23905853  86703.75118052  97170.37706276 107807.44291656\n",
      " 118629.19868837 129748.16013165 141030.64780758 152799.06337367\n",
      " 164326.32390449] \n",
      "\n",
      "mean:  [ 72778.91921224  79245.50337566  85860.69054856  92639.2117145\n",
      "  99596.97562829 106751.0975893  114119.94397233 121723.19166119\n",
      " 129581.90180915] \n",
      "\n",
      "[2010, 2015, 2020, 2025, 2030, 2035, 2040, 2045, 2050]\n"
     ]
    }
   ],
   "source": [
    "dic = compute_percentiles(M_results, [50, 70, 90])\n",
    "print(\"bottom: \", dic[50][0], \"\\n\")\n",
    "print(\"top: \", dic[50][1], \"\\n\")\n",
    "print(\"mean: \", M_results.mean(axis=0), \"\\n\")\n",
    "print(years[1:-1])"
   ]
  },
  {
   "cell_type": "code",
   "execution_count": 103,
   "metadata": {},
   "outputs": [],
   "source": [
    "def plot_unce(years, mean_res, dic, title, color=\"blue\", alpha=[0.4, 0.3, 0.2], lw=3):\n",
    "    plt.plot(years, mean_res, linewidth=lw, label=\"Mean\", color=color)\n",
    "    i = 0\n",
    "    for key in dic:\n",
    "        bottom = dic[key][0]\n",
    "        top = dic[key][1]\n",
    "        plt.fill_between(years, bottom, top, color=color, alpha=alpha[i], label=f\"{key}% interval\")\n",
    "        i += 1\n",
    "        plt.xlabel(\"Year\")\n",
    "        plt.ylabel(\"Population\")\n",
    "        plt.grid()\n",
    "        plt.legend(fontsize=18)\n",
    "        plt.title(title)\n",
    "    plt.show()"
   ]
  },
  {
   "cell_type": "code",
   "execution_count": 104,
   "metadata": {
    "datalore": {
     "hide_input_from_viewers": false,
     "hide_output_from_viewers": false,
     "node_id": "XbS4lQyOHRN7zB5XzhCXH6",
     "report_properties": {
      "rowId": "4lYgc5vSwxSSgAtFxLor9u"
     },
     "type": "CODE"
    },
    "scrolled": false
   },
   "outputs": [
    {
     "data": {
      "image/png": "[encoded data removed]",
      "text/plain": [
       "<Figure size 720x432 with 1 Axes>"
      ]
     },
     "metadata": {},
     "output_type": "display_data"
    }
   ],
   "source": [
    "dic = compute_percentiles(M_results, [50, 70, 90])\n",
    "plot_unce(years[1:-1], M_results.mean(axis=0), dic, \"UNCERTAINTY: MALES\", color=\"blue\")"
   ]
  },
  {
   "cell_type": "code",
   "execution_count": 105,
   "metadata": {},
   "outputs": [
    {
     "data": {
      "image/png": "[encoded data removed]",
      "text/plain": [
       "<Figure size 720x432 with 1 Axes>"
      ]
     },
     "metadata": {},
     "output_type": "display_data"
    }
   ],
   "source": [
    "dic = compute_percentiles(F_results, [50, 70, 90])\n",
    "plot_unce(years[1:-1], F_results.mean(axis=0), dic, \"UNCERTAINTY: FEMALES\", color=\"orange\")"
   ]
  }
 ],
 "metadata": {
  "datalore": {
   "base_environment": "default",
   "computation_mode": "JUPYTER",
   "package_manager": "pip",
   "packages": [],
   "report_row_ids": [
    "CTMOiIvcm3UfsjCJka5o2t",
    "FMvZEbH0t6DgpAxIfz2IrT",
    "UQTGcexj9uvs7l4sChTRBR",
    "ywStgio35nC4EYB0kcpfIK",
    "ihfUPTiJik3wLmEYab3tsy",
    "g9L2IB7sbuH023p6HZZKnF",
    "8YP3cVQtAXO71OFaonBQFB",
    "GlPgy3Yn4ElOcJhSdO8A24",
    "iqK12Y5xJiQmnXmV8ji68c",
    "6wJnjaqj09P5X8dal7UHoz",
    "uudcVy0HKKaRivTZC4B7vv",
    "8tQMwQ1x40Pxarmh7bVVS4",
    "kmJItUmxY4Dwelb83YzuvY",
    "8l4udfnnD3muSdWtjaVSeo",
    "G3ywlr02RepmsQRUZlFsiI",
    "TdC8CllIq0PXrs5OPGMtZu",
    "TCxHFXydhh9Ng93VygvPMf",
    "juRR4GoVOTlseo57Cv2Aqt",
    "GjXKz0M9RLyScNKOhmDzMF",
    "B7krOnGc1ojH48rq2ljROs",
    "d7z4RuceZS2999QDttwCyG",
    "sng1Fk5poWThBVCT6fnjJE",
    "4XKPDwPlGK3ao2SMRdvsfm",
    "99Z6Xaqp0tyu48E8mGKxHx",
    "utl8i44PLmuuo4fzf3FG4q",
    "1jnxRNMh4Tplym0SasgPOg",
    "QILnA6SLKTYBw6Md90eJTP",
    "RfiuUarHs0XCrvYt2whEwq",
    "LMX6h7JCWFea0QbyIZpkbs",
    "XFbGnXnveQ2VTiU4h7CjW3",
    "FMvAeHvpseD5sVu2662gEb",
    "JfJSIpaq5UtPxRH3zLVJf3",
    "3k99bNjrw54IE5PrvjZqje",
    "zoKskWBIxbDvDvOqlzWeqM",
    "He8sw81bNFjCFBzweBWQzd",
    "UkqEzj7GhaKBZ0r9u6aA3d",
    "xmlLK3XCX9ORGi1pt68gW7",
    "4lYgc5vSwxSSgAtFxLor9u",
    "DKkXDFjxE8961dl6NlUPBK"
   ],
   "version": 3
  },
  "kernelspec": {
   "display_name": "Python 3 (ipykernel)",
   "language": "python",
   "name": "python3"
  },
  "language_info": {
   "codemirror_mode": {
    "name": "ipython",
    "version": 3
   },
   "file_extension": ".py",
   "mimetype": "text/x-python",
   "name": "python",
   "nbconvert_exporter": "python",
   "pygments_lexer": "ipython3",
   "version": "3.10.6"
  }
 },
 "nbformat": 4,
 "nbformat_minor": 4
}
