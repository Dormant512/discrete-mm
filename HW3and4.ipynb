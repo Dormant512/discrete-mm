{
 "cells": [
  {
   "cell_type": "markdown",
   "id": "b8ef9180",
   "metadata": {},
   "source": [
    "# Homeworks 3, 4\n",
    "\n",
    "Student: Grigoryev Mikhail\n",
    "\n",
    "Group: J4133c"
   ]
  },
  {
   "cell_type": "code",
   "execution_count": 1,
   "id": "b7e79b41",
   "metadata": {},
   "outputs": [],
   "source": [
    "import pandas as pd\n",
    "import numpy as np\n",
    "import matplotlib.pyplot as plt\n",
    "\n",
    "import os\n",
    "import time\n",
    "\n",
    "import warnings\n",
    "warnings.filterwarnings('ignore')\n",
    "\n",
    "plt.rcParams[\"figure.facecolor\"] = \"white\"\n",
    "plt.rcParams[\"figure.figsize\"] = (10, 6)"
   ]
  },
  {
   "cell_type": "code",
   "execution_count": 2,
   "id": "64c63622",
   "metadata": {},
   "outputs": [],
   "source": [
    "def generateConsts(dynamic=True, min_workers=4, max_workers=10):\n",
    "    constants = [\n",
    "        \"package main\",\n",
    "        \"\",\n",
    "        \"const (\",\n",
    "        \"\\tWORKTIME int = 100\",\n",
    "        \"\\tARRIVETIME int = 5\",\n",
    "        \"\\tCUSTOMERS int = 500\",\n",
    "        f\"\\tMINWORKERS int = {min_workers}\",\n",
    "        f\"\\tMAXWORKERS int = {max_workers}\",\n",
    "        \"\\tMAXCHILL float64 = 5\",\n",
    "        f\"\\tDYNAMIC bool = {'true' if dynamic else 'false'}\",\n",
    "        \")\"\n",
    "    ]\n",
    "    with open(\"./constants.go\", \"w\") as f:\n",
    "        f.writelines(line+'\\n' for line in constants)"
   ]
  },
  {
   "cell_type": "code",
   "execution_count": 3,
   "id": "4a96a0af",
   "metadata": {},
   "outputs": [
    {
     "name": "stdout",
     "output_type": "stream",
     "text": [
      "/home/dormant/discrete-mm\n"
     ]
    }
   ],
   "source": [
    "print(os.getcwd())\n",
    "os.chdir(\"./q\")"
   ]
  },
  {
   "cell_type": "markdown",
   "id": "f5d4c8e0",
   "metadata": {},
   "source": [
    "Looking at CSV structure:"
   ]
  },
  {
   "cell_type": "code",
   "execution_count": 4,
   "id": "0fecd46e",
   "metadata": {},
   "outputs": [],
   "source": [
    "generateConsts()\n",
    "os.system(\"go run .\")\n",
    "df_cli = pd.read_csv(f\"./logs/clients_dynamic_true_4.csv\")\n",
    "df_serv = pd.read_csv(f\"./logs/servers_dynamic_true_4.csv\")"
   ]
  },
  {
   "cell_type": "code",
   "execution_count": 5,
   "id": "521f4907",
   "metadata": {},
   "outputs": [
    {
     "data": {
      "text/html": [
       "<div>\n",
       "<style scoped>\n",
       "    .dataframe tbody tr th:only-of-type {\n",
       "        vertical-align: middle;\n",
       "    }\n",
       "\n",
       "    .dataframe tbody tr th {\n",
       "        vertical-align: top;\n",
       "    }\n",
       "\n",
       "    .dataframe thead th {\n",
       "        text-align: right;\n",
       "    }\n",
       "</style>\n",
       "<table border=\"1\" class=\"dataframe\">\n",
       "  <thead>\n",
       "    <tr style=\"text-align: right;\">\n",
       "      <th></th>\n",
       "      <th>Customer</th>\n",
       "      <th>Cashier</th>\n",
       "      <th>Created</th>\n",
       "      <th>ArrivedQueue</th>\n",
       "      <th>ArrivedCashier</th>\n",
       "      <th>Left</th>\n",
       "      <th>PeopleBefore</th>\n",
       "    </tr>\n",
       "  </thead>\n",
       "  <tbody>\n",
       "    <tr>\n",
       "      <th>495</th>\n",
       "      <td>497</td>\n",
       "      <td>6</td>\n",
       "      <td>1686050658097</td>\n",
       "      <td>1686050659285</td>\n",
       "      <td>1686050660805</td>\n",
       "      <td>1686050660815</td>\n",
       "      <td>26</td>\n",
       "    </tr>\n",
       "    <tr>\n",
       "      <th>496</th>\n",
       "      <td>499</td>\n",
       "      <td>1</td>\n",
       "      <td>1686050658097</td>\n",
       "      <td>1686050659287</td>\n",
       "      <td>1686050660740</td>\n",
       "      <td>1686050660825</td>\n",
       "      <td>26</td>\n",
       "    </tr>\n",
       "    <tr>\n",
       "      <th>497</th>\n",
       "      <td>481</td>\n",
       "      <td>3</td>\n",
       "      <td>1686050658097</td>\n",
       "      <td>1686050659242</td>\n",
       "      <td>1686050660793</td>\n",
       "      <td>1686050660879</td>\n",
       "      <td>25</td>\n",
       "    </tr>\n",
       "    <tr>\n",
       "      <th>498</th>\n",
       "      <td>490</td>\n",
       "      <td>3</td>\n",
       "      <td>1686050658097</td>\n",
       "      <td>1686050659270</td>\n",
       "      <td>1686050660879</td>\n",
       "      <td>1686050660957</td>\n",
       "      <td>25</td>\n",
       "    </tr>\n",
       "    <tr>\n",
       "      <th>499</th>\n",
       "      <td>494</td>\n",
       "      <td>3</td>\n",
       "      <td>1686050658097</td>\n",
       "      <td>1686050659276</td>\n",
       "      <td>1686050660957</td>\n",
       "      <td>1686050660977</td>\n",
       "      <td>25</td>\n",
       "    </tr>\n",
       "  </tbody>\n",
       "</table>\n",
       "</div>"
      ],
      "text/plain": [
       "     Customer  Cashier        Created   ArrivedQueue  ArrivedCashier  \\\n",
       "495       497        6  1686050658097  1686050659285   1686050660805   \n",
       "496       499        1  1686050658097  1686050659287   1686050660740   \n",
       "497       481        3  1686050658097  1686050659242   1686050660793   \n",
       "498       490        3  1686050658097  1686050659270   1686050660879   \n",
       "499       494        3  1686050658097  1686050659276   1686050660957   \n",
       "\n",
       "              Left  PeopleBefore  \n",
       "495  1686050660815            26  \n",
       "496  1686050660825            26  \n",
       "497  1686050660879            25  \n",
       "498  1686050660957            25  \n",
       "499  1686050660977            25  "
      ]
     },
     "execution_count": 5,
     "metadata": {},
     "output_type": "execute_result"
    }
   ],
   "source": [
    "df_cli.tail()"
   ]
  },
  {
   "cell_type": "code",
   "execution_count": 6,
   "id": "2badaa30",
   "metadata": {},
   "outputs": [
    {
     "data": {
      "text/html": [
       "<div>\n",
       "<style scoped>\n",
       "    .dataframe tbody tr th:only-of-type {\n",
       "        vertical-align: middle;\n",
       "    }\n",
       "\n",
       "    .dataframe tbody tr th {\n",
       "        vertical-align: top;\n",
       "    }\n",
       "\n",
       "    .dataframe thead th {\n",
       "        text-align: right;\n",
       "    }\n",
       "</style>\n",
       "<table border=\"1\" class=\"dataframe\">\n",
       "  <thead>\n",
       "    <tr style=\"text-align: right;\">\n",
       "      <th></th>\n",
       "      <th>Server</th>\n",
       "      <th>Action</th>\n",
       "      <th>Time</th>\n",
       "    </tr>\n",
       "  </thead>\n",
       "  <tbody>\n",
       "    <tr>\n",
       "      <th>0</th>\n",
       "      <td>1</td>\n",
       "      <td>CREATED</td>\n",
       "      <td>1686050658097</td>\n",
       "    </tr>\n",
       "    <tr>\n",
       "      <th>28</th>\n",
       "      <td>1</td>\n",
       "      <td>STARTED</td>\n",
       "      <td>1686050658106</td>\n",
       "    </tr>\n",
       "    <tr>\n",
       "      <th>29</th>\n",
       "      <td>1</td>\n",
       "      <td>FINISHED</td>\n",
       "      <td>1686050658184</td>\n",
       "    </tr>\n",
       "    <tr>\n",
       "      <th>32</th>\n",
       "      <td>1</td>\n",
       "      <td>STARTED</td>\n",
       "      <td>1686050658184</td>\n",
       "    </tr>\n",
       "    <tr>\n",
       "      <th>33</th>\n",
       "      <td>1</td>\n",
       "      <td>FINISHED</td>\n",
       "      <td>1686050658194</td>\n",
       "    </tr>\n",
       "    <tr>\n",
       "      <th>52</th>\n",
       "      <td>1</td>\n",
       "      <td>STARTED</td>\n",
       "      <td>1686050658194</td>\n",
       "    </tr>\n",
       "    <tr>\n",
       "      <th>53</th>\n",
       "      <td>1</td>\n",
       "      <td>FINISHED</td>\n",
       "      <td>1686050658231</td>\n",
       "    </tr>\n",
       "    <tr>\n",
       "      <th>84</th>\n",
       "      <td>1</td>\n",
       "      <td>STARTED</td>\n",
       "      <td>1686050658231</td>\n",
       "    </tr>\n",
       "    <tr>\n",
       "      <th>85</th>\n",
       "      <td>1</td>\n",
       "      <td>FINISHED</td>\n",
       "      <td>1686050658319</td>\n",
       "    </tr>\n",
       "    <tr>\n",
       "      <th>108</th>\n",
       "      <td>1</td>\n",
       "      <td>STARTED</td>\n",
       "      <td>1686050658319</td>\n",
       "    </tr>\n",
       "  </tbody>\n",
       "</table>\n",
       "</div>"
      ],
      "text/plain": [
       "     Server    Action           Time\n",
       "0         1   CREATED  1686050658097\n",
       "28        1   STARTED  1686050658106\n",
       "29        1  FINISHED  1686050658184\n",
       "32        1   STARTED  1686050658184\n",
       "33        1  FINISHED  1686050658194\n",
       "52        1   STARTED  1686050658194\n",
       "53        1  FINISHED  1686050658231\n",
       "84        1   STARTED  1686050658231\n",
       "85        1  FINISHED  1686050658319\n",
       "108       1   STARTED  1686050658319"
      ]
     },
     "execution_count": 6,
     "metadata": {},
     "output_type": "execute_result"
    }
   ],
   "source": [
    "df_serv[df_serv[\"Server\"] == 1].head(10)"
   ]
  },
  {
   "cell_type": "code",
   "execution_count": 7,
   "id": "c99a383b",
   "metadata": {},
   "outputs": [],
   "source": [
    "def getMetrics(dyn=True, minw=4, maxw=10):\n",
    "    start_time = time.time()\n",
    "    generateConsts(dyn, minw, maxw)\n",
    "    os.system(\"go run .\")\n",
    "    df_cli = pd.read_csv(f\"./logs/clients_dynamic_{'true' if dyn else 'false'}_{minw}.csv\")\n",
    "    df_serv = pd.read_csv(f\"./logs/servers_dynamic_{'true' if dyn else 'false'}_{minw}.csv\")\n",
    "    \n",
    "    metrics = {}\n",
    "    waiters = df_cli[df_cli[\"ArrivedCashier\"] - df_cli[\"ArrivedQueue\"] > 0]\n",
    "    metrics[\"avg_wait_time\"] = (df_cli[\"ArrivedCashier\"] - df_cli[\"ArrivedQueue\"]).mean()\n",
    "    metrics[\"prob_wait\"] = len(waiters) / len(df_cli)\n",
    "    metrics[\"avg_service_time\"] = (df_cli[\"Left\"] - df_cli[\"ArrivedCashier\"]).mean()\n",
    "    metrics[\"avg_wait_time_waiters\"] = (\n",
    "        waiters[\"ArrivedCashier\"] - waiters[\"ArrivedQueue\"]\n",
    "    ).mean()\n",
    "    metrics[\"avg_sys_time\"] = (df_cli[\"Left\"] - df_cli[\"ArrivedQueue\"]).mean()\n",
    "    \n",
    "    arrivals = []\n",
    "    idles = []\n",
    "    works = []\n",
    "    \n",
    "    for i in range(maxw):\n",
    "        cur_cli = df_cli[df_cli[\"Cashier\"] == i]\n",
    "        cur_serv = df_serv[df_serv[\"Server\"] == i]\n",
    "        \n",
    "        if len(cur_cli) == 0:\n",
    "            continue\n",
    "        \n",
    "        arrivals.append(cur_cli.diff()[\"ArrivedCashier\"].mean())\n",
    "        \n",
    "        to_drop = [idx for idx in cur_serv.index[cur_serv[\"Action\"] == \"DELETED\"]]\n",
    "        to_drop.extend([idx+1 for idx in to_drop])\n",
    "        cur_serv.drop(to_drop, inplace=True)\n",
    "        # left with created-started-finished-started-finished-...-finished\n",
    "        #            odd[0]-even[0]- odd[1] -even[1]- odd[2] -...- odd[n]\n",
    "        odd_serv = cur_serv.iloc[::2][\"Time\"].to_numpy()\n",
    "        even_serv = cur_serv.iloc[1::2][\"Time\"].to_numpy()\n",
    "        assert len(odd_serv) == len(even_serv)+1, \"Server logs even after deleting DELETE-CREATE pairs\"\n",
    "        idle = (even_serv-odd_serv[:-1]).sum()\n",
    "        work = (odd_serv[1:]-even_serv).sum()\n",
    "        idles.append(idle)\n",
    "        works.append(work)\n",
    "        \n",
    "    metrics[\"avg_time_arrivals\"] = np.array(arrivals).mean()\n",
    "    metrics[\"prob_idle\"] = np.array(idles).sum() / (np.array(idles).sum() + np.array(works).sum())\n",
    "    end_time = time.time()\n",
    "    #print(f\"{end_time - start_time :.2f} s\")\n",
    "    return metrics"
   ]
  },
  {
   "cell_type": "code",
   "execution_count": 8,
   "id": "a6f975aa",
   "metadata": {},
   "outputs": [
    {
     "name": "stdout",
     "output_type": "stream",
     "text": [
      "2.88 s\n",
      "{'avg_wait_time': 672.866, 'prob_wait': 0.984, 'avg_service_time': 50.67, 'avg_wait_time_waiters': 683.8069105691056, 'avg_sys_time': 723.536, 'avg_time_arrivals': 50.83884537759458, 'prob_idle': 0.0019696671262556626}\n"
     ]
    }
   ],
   "source": [
    "print(getMetrics(True, 1))"
   ]
  },
  {
   "cell_type": "code",
   "execution_count": 9,
   "id": "e558cefb",
   "metadata": {},
   "outputs": [
    {
     "name": "stdout",
     "output_type": "stream",
     "text": [
      "2.79 s\n",
      "3.00 s\n",
      "2.86 s\n",
      "3.04 s\n",
      "2.72 s\n",
      "2.94 s\n",
      "2.93 s\n",
      "3.23 s\n",
      "2.84 s\n",
      "2.69 s\n",
      "2.94 s\n"
     ]
    },
    {
     "data": {
      "text/html": [
       "<div>\n",
       "<style scoped>\n",
       "    .dataframe tbody tr th:only-of-type {\n",
       "        vertical-align: middle;\n",
       "    }\n",
       "\n",
       "    .dataframe tbody tr th {\n",
       "        vertical-align: top;\n",
       "    }\n",
       "\n",
       "    .dataframe thead th {\n",
       "        text-align: right;\n",
       "    }\n",
       "</style>\n",
       "<table border=\"1\" class=\"dataframe\">\n",
       "  <thead>\n",
       "    <tr style=\"text-align: right;\">\n",
       "      <th></th>\n",
       "      <th>avg_wait_time</th>\n",
       "      <th>prob_wait</th>\n",
       "      <th>avg_service_time</th>\n",
       "      <th>avg_wait_time_waiters</th>\n",
       "      <th>avg_sys_time</th>\n",
       "      <th>avg_time_arrivals</th>\n",
       "      <th>prob_idle</th>\n",
       "    </tr>\n",
       "  </thead>\n",
       "  <tbody>\n",
       "    <tr>\n",
       "      <th>0</th>\n",
       "      <td>676.980</td>\n",
       "      <td>0.982</td>\n",
       "      <td>50.872</td>\n",
       "      <td>689.389002</td>\n",
       "      <td>727.852</td>\n",
       "      <td>51.294079</td>\n",
       "      <td>0.002666</td>\n",
       "    </tr>\n",
       "    <tr>\n",
       "      <th>1</th>\n",
       "      <td>708.158</td>\n",
       "      <td>0.980</td>\n",
       "      <td>51.208</td>\n",
       "      <td>722.610204</td>\n",
       "      <td>759.366</td>\n",
       "      <td>51.211249</td>\n",
       "      <td>0.001482</td>\n",
       "    </tr>\n",
       "    <tr>\n",
       "      <th>2</th>\n",
       "      <td>708.714</td>\n",
       "      <td>0.982</td>\n",
       "      <td>50.710</td>\n",
       "      <td>721.704684</td>\n",
       "      <td>759.424</td>\n",
       "      <td>51.125263</td>\n",
       "      <td>0.001772</td>\n",
       "    </tr>\n",
       "    <tr>\n",
       "      <th>3</th>\n",
       "      <td>595.204</td>\n",
       "      <td>0.980</td>\n",
       "      <td>48.212</td>\n",
       "      <td>607.351020</td>\n",
       "      <td>643.416</td>\n",
       "      <td>48.396938</td>\n",
       "      <td>0.003390</td>\n",
       "    </tr>\n",
       "    <tr>\n",
       "      <th>4</th>\n",
       "      <td>661.246</td>\n",
       "      <td>0.976</td>\n",
       "      <td>51.350</td>\n",
       "      <td>677.506148</td>\n",
       "      <td>712.596</td>\n",
       "      <td>51.408561</td>\n",
       "      <td>0.003106</td>\n",
       "    </tr>\n",
       "  </tbody>\n",
       "</table>\n",
       "</div>"
      ],
      "text/plain": [
       "   avg_wait_time  prob_wait  avg_service_time  avg_wait_time_waiters  \\\n",
       "0        676.980      0.982            50.872             689.389002   \n",
       "1        708.158      0.980            51.208             722.610204   \n",
       "2        708.714      0.982            50.710             721.704684   \n",
       "3        595.204      0.980            48.212             607.351020   \n",
       "4        661.246      0.976            51.350             677.506148   \n",
       "\n",
       "   avg_sys_time  avg_time_arrivals  prob_idle  \n",
       "0       727.852          51.294079   0.002666  \n",
       "1       759.366          51.211249   0.001482  \n",
       "2       759.424          51.125263   0.001772  \n",
       "3       643.416          48.396938   0.003390  \n",
       "4       712.596          51.408561   0.003106  "
      ]
     },
     "execution_count": 9,
     "metadata": {},
     "output_type": "execute_result"
    }
   ],
   "source": [
    "dyn = True\n",
    "minw = 4\n",
    "\n",
    "cols = list(getMetrics(dyn, minw).keys())\n",
    "metrics_df = pd.DataFrame(columns=cols)\n",
    "for i in range(10):\n",
    "    metrics = getMetrics(dyn, minw)\n",
    "    metrics_df = metrics_df.append(metrics, ignore_index=True)\n",
    "    \n",
    "metrics_df.to_csv(f\"../HW4/metrics_HW4_{dyn}_{minw}.csv\", index=False)\n",
    "metrics_df.head()"
   ]
  },
  {
   "cell_type": "markdown",
   "id": "43e986f6",
   "metadata": {},
   "source": [
    "Lab 3\n",
    "\n",
    "Comparison by average queue size, total working etc. Draw server's dynamic through the time (for dynamic queues)."
   ]
  },
  {
   "cell_type": "markdown",
   "id": "008adf3a",
   "metadata": {},
   "source": [
    "## Lab 3"
   ]
  },
  {
   "cell_type": "code",
   "execution_count": 10,
   "id": "e2e784ae",
   "metadata": {},
   "outputs": [],
   "source": [
    "def compareQueues(dyn=True, minw=4):\n",
    "    start_time = time.time()\n",
    "    generateConsts(dyn, minw)\n",
    "    os.system(\"go run .\")\n",
    "    end_time = time.time()\n",
    "    df_cli = pd.read_csv(f\"./logs/clients_dynamic_{'true' if dyn else 'false'}_{minw}.csv\")\n",
    "    #df_serv = pd.read_csv(f\"./logs/servers_dynamic_{'true' if dyn else 'false'}_{minw}.csv\")\n",
    "    print(f\"\\n{'Dynamic' if dyn else 'Static'} {'general' if minw==1 else 'shortest'}\")\n",
    "    print(f\"Elapsed runtime: {end_time - start_time :.2f} s\")\n",
    "    avg_q = df_cli[\"PeopleBefore\"].mean()\n",
    "    print(f\"Average queue length: {avg_q :.2f}\")"
   ]
  },
  {
   "cell_type": "code",
   "execution_count": 11,
   "id": "ce0e03da",
   "metadata": {},
   "outputs": [
    {
     "name": "stdout",
     "output_type": "stream",
     "text": [
      "\n",
      "Static general\n",
      "Elapsed runtime: 25.69 s\n",
      "Average queue length: 238.98\n",
      "\n",
      "Static shortest\n",
      "Elapsed runtime: 6.88 s\n",
      "Average queue length: 50.61\n",
      "\n",
      "Dynamic general\n",
      "Elapsed runtime: 2.87 s\n",
      "Average queue length: 13.81\n",
      "\n",
      "Dynamic shortest\n",
      "Elapsed runtime: 2.81 s\n",
      "Average queue length: 13.64\n"
     ]
    }
   ],
   "source": [
    "for d in [False, True]:\n",
    "    for m in [1, 4]:\n",
    "        compareQueues(d, m)"
   ]
  },
  {
   "cell_type": "code",
   "execution_count": 21,
   "id": "1b1c5484",
   "metadata": {},
   "outputs": [],
   "source": [
    "def plotDynamic(minw=4):\n",
    "    generateConsts(True, minw)\n",
    "    os.system(\"go run .\")\n",
    "    #df_cli = pd.read_csv(f\"./logs/clients_dynamic_{'true' if dyn else 'false'}_{minw}.csv\")\n",
    "    df_serv = pd.read_csv(f\"./logs/servers_dynamic_{'true' if dyn else 'false'}_{minw}.csv\")\n",
    "    start = df_serv.iloc[0][\"Time\"]\n",
    "    end = df_serv.iloc[-1][\"Time\"]\n",
    "    df_serv = df_serv[df_serv[\"Action\"].isin([\"CREATED\", \"DELETED\"])]\n",
    "    df_serv[\"CountCreate\"] = (df_serv[\"Action\"] == \"CREATED\").cumsum()\n",
    "    df_serv[\"DeleteCount\"] = (df_serv[\"Action\"] == \"DELETED\").cumsum()\n",
    "    df_serv[\"Count\"] = df_serv[\"CountCreate\"] - df_serv[\"DeleteCount\"]\n",
    "    \n",
    "    X = list(df_serv[\"Time\"])\n",
    "    X.append(end)\n",
    "    X = [item-start for item in X]\n",
    "    X = np.array(X)\n",
    "    \n",
    "    Y = list(df_serv[\"Count\"])\n",
    "    Y.append(Y[-1])\n",
    "    Y = np.array(Y)\n",
    "    \n",
    "    plt.subplot(2, 1, 1)\n",
    "    plt.plot(X, Y)\n",
    "    plt.title(f\"{'General' if minw==1 else 'Shortest'}\")\n",
    "    plt.xlim((0, end-start))\n",
    "    \n",
    "    plt.subplot(2, 1, 2)\n",
    "    plt.plot(X, Y)\n",
    "    plt.xlim((0, (end-start)/20))\n",
    "    plt.xlabel(\"Timestamp, ms\")\n",
    "    plt.ylabel(\"Servers active\")"
   ]
  },
  {
   "cell_type": "code",
   "execution_count": 22,
   "id": "96dfe366",
   "metadata": {},
   "outputs": [
    {
     "data": {
      "image/png": "[encoded data removed]",
      "text/plain": [
       "<Figure size 720x432 with 2 Axes>"
      ]
     },
     "metadata": {},
     "output_type": "display_data"
    }
   ],
   "source": [
    "plotDynamic(1)"
   ]
  },
  {
   "cell_type": "code",
   "execution_count": 23,
   "id": "69c48009",
   "metadata": {},
   "outputs": [
    {
     "data": {
      "image/png": "[encoded data removed]",
      "text/plain": [
       "<Figure size 720x432 with 2 Axes>"
      ]
     },
     "metadata": {},
     "output_type": "display_data"
    }
   ],
   "source": [
    "plotDynamic(4)"
   ]
  },
  {
   "cell_type": "markdown",
   "id": "55b86df9",
   "metadata": {},
   "source": [
    "Lab 4\n",
    "\n",
    "Make several test runs and estimate sufficient number of replications to achieve the specified accuracy. If the accuracy is not achieved, repeat the procedure again. Computational technology is on your own decision."
   ]
  },
  {
   "cell_type": "markdown",
   "id": "6cada2a4",
   "metadata": {},
   "source": [
    "## Lab 4"
   ]
  },
  {
   "cell_type": "code",
   "execution_count": 24,
   "id": "b964ef5a",
   "metadata": {},
   "outputs": [],
   "source": [
    "def exportMetrics(dyn=True, minw=4, n=10):\n",
    "    cols = list(getMetrics(dyn, minw).keys())\n",
    "    metrics_df = pd.DataFrame(columns=cols)\n",
    "    for i in range(n):\n",
    "        metrics = getMetrics(dyn, minw)\n",
    "        metrics_df = metrics_df.append(metrics, ignore_index=True)\n",
    "    metrics_df.to_csv(f\"../HW4/metrics_HW4_{dyn}_{minw}_{n}.csv\", index=False)"
   ]
  },
  {
   "cell_type": "code",
   "execution_count": 25,
   "id": "a7fd0fce",
   "metadata": {},
   "outputs": [
    {
     "name": "stdout",
     "output_type": "stream",
     "text": [
      "25.11 s\n",
      "25.76 s\n",
      "23.00 s\n",
      "25.21 s\n",
      "6.84 s\n",
      "6.63 s\n",
      "6.72 s\n",
      "6.77 s\n",
      "2.79 s\n",
      "2.85 s\n",
      "3.02 s\n",
      "2.97 s\n",
      "3.07 s\n",
      "2.87 s\n",
      "2.81 s\n",
      "2.71 s\n"
     ]
    }
   ],
   "source": [
    "n = 500\n",
    "for d in [False, True]:\n",
    "    for m in [1, 4]:\n",
    "        exportMetrics(d, m, n)"
   ]
  },
  {
   "cell_type": "code",
   "execution_count": 28,
   "id": "a45be9eb",
   "metadata": {},
   "outputs": [
    {
     "data": {
      "text/html": [
       "<div>\n",
       "<style scoped>\n",
       "    .dataframe tbody tr th:only-of-type {\n",
       "        vertical-align: middle;\n",
       "    }\n",
       "\n",
       "    .dataframe tbody tr th {\n",
       "        vertical-align: top;\n",
       "    }\n",
       "\n",
       "    .dataframe thead th {\n",
       "        text-align: right;\n",
       "    }\n",
       "</style>\n",
       "<table border=\"1\" class=\"dataframe\">\n",
       "  <thead>\n",
       "    <tr style=\"text-align: right;\">\n",
       "      <th></th>\n",
       "      <th>avg_wait_time</th>\n",
       "      <th>prob_wait</th>\n",
       "      <th>avg_service_time</th>\n",
       "      <th>avg_wait_time_waiters</th>\n",
       "      <th>avg_sys_time</th>\n",
       "      <th>avg_time_arrivals</th>\n",
       "      <th>prob_idle</th>\n",
       "    </tr>\n",
       "  </thead>\n",
       "  <tbody>\n",
       "    <tr>\n",
       "      <th>0</th>\n",
       "      <td>2594.276</td>\n",
       "      <td>0.992</td>\n",
       "      <td>50.666</td>\n",
       "      <td>2615.197581</td>\n",
       "      <td>2644.942</td>\n",
       "      <td>50.800207</td>\n",
       "      <td>0.002834</td>\n",
       "    </tr>\n",
       "    <tr>\n",
       "      <th>1</th>\n",
       "      <td>2585.668</td>\n",
       "      <td>0.992</td>\n",
       "      <td>50.824</td>\n",
       "      <td>2606.520161</td>\n",
       "      <td>2636.492</td>\n",
       "      <td>50.840861</td>\n",
       "      <td>0.002316</td>\n",
       "    </tr>\n",
       "    <tr>\n",
       "      <th>2</th>\n",
       "      <td>2554.434</td>\n",
       "      <td>0.992</td>\n",
       "      <td>50.306</td>\n",
       "      <td>2575.034274</td>\n",
       "      <td>2604.740</td>\n",
       "      <td>50.377016</td>\n",
       "      <td>0.003052</td>\n",
       "    </tr>\n",
       "  </tbody>\n",
       "</table>\n",
       "</div>"
      ],
      "text/plain": [
       "   avg_wait_time  prob_wait  avg_service_time  avg_wait_time_waiters  \\\n",
       "0       2594.276      0.992            50.666            2615.197581   \n",
       "1       2585.668      0.992            50.824            2606.520161   \n",
       "2       2554.434      0.992            50.306            2575.034274   \n",
       "\n",
       "   avg_sys_time  avg_time_arrivals  prob_idle  \n",
       "0      2644.942          50.800207   0.002834  \n",
       "1      2636.492          50.840861   0.002316  \n",
       "2      2604.740          50.377016   0.003052  "
      ]
     },
     "execution_count": 28,
     "metadata": {},
     "output_type": "execute_result"
    }
   ],
   "source": [
    "df = pd.read_csv(f\"../HW4/metrics_HW4_False_4_{n}.csv\")\n",
    "df.head()"
   ]
  }
 ],
 "metadata": {
  "kernelspec": {
   "display_name": "Python 3 (ipykernel)",
   "language": "python",
   "name": "python3"
  },
  "language_info": {
   "codemirror_mode": {
    "name": "ipython",
    "version": 3
   },
   "file_extension": ".py",
   "mimetype": "text/x-python",
   "name": "python",
   "nbconvert_exporter": "python",
   "pygments_lexer": "ipython3",
   "version": "3.10.6"
  }
 },
 "nbformat": 4,
 "nbformat_minor": 5
}
